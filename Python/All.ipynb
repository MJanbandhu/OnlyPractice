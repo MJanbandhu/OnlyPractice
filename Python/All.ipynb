{
 "cells": [
  {
   "cell_type": "code",
   "execution_count": 1,
   "id": "20ba40ac",
   "metadata": {},
   "outputs": [
    {
     "name": "stdout",
     "output_type": "stream",
     "text": [
      "Mohit Janbandhu\n"
     ]
    }
   ],
   "source": [
    "print(\"Mohit Janbandhu\")"
   ]
  },
  {
   "cell_type": "code",
   "execution_count": 4,
   "id": "a38c3d73",
   "metadata": {},
   "outputs": [],
   "source": [
    "list2=[6,9,8,5,8,5,2,8,(8,8,9,6,5,4,7,2)]"
   ]
  },
  {
   "cell_type": "code",
   "execution_count": 5,
   "id": "a9749fb6",
   "metadata": {},
   "outputs": [],
   "source": [
    "list1=[6,9,8,5,8,5,2,8,1,2,3,4,6,7]"
   ]
  },
  {
   "cell_type": "code",
   "execution_count": 7,
   "id": "58266d33",
   "metadata": {},
   "outputs": [
    {
     "data": {
      "text/plain": [
       "9"
      ]
     },
     "execution_count": 7,
     "metadata": {},
     "output_type": "execute_result"
    }
   ],
   "source": [
    "list2[8][2]"
   ]
  },
  {
   "cell_type": "code",
   "execution_count": 9,
   "id": "7c2a5a6e",
   "metadata": {},
   "outputs": [
    {
     "name": "stdout",
     "output_type": "stream",
     "text": [
      "Even\n",
      "odd\n",
      "Even\n",
      "odd\n",
      "Even\n",
      "odd\n",
      "Even\n",
      "Even\n",
      "odd\n",
      "Even\n",
      "odd\n",
      "Even\n",
      "Even\n",
      "odd\n"
     ]
    }
   ],
   "source": [
    "for i in list1:\n",
    "    if i %2==0:\n",
    "        print(\"Even\")\n",
    "        \n",
    "    else:\n",
    "        print(\"odd\")"
   ]
  },
  {
   "cell_type": "code",
   "execution_count": 10,
   "id": "dfe23b35",
   "metadata": {},
   "outputs": [
    {
     "ename": "TypeError",
     "evalue": "'int' object is not iterable",
     "output_type": "error",
     "traceback": [
      "\u001b[1;31m---------------------------------------------------------------------------\u001b[0m",
      "\u001b[1;31mTypeError\u001b[0m                                 Traceback (most recent call last)",
      "Cell \u001b[1;32mIn[10], line 1\u001b[0m\n\u001b[1;32m----> 1\u001b[0m \u001b[38;5;28mprint\u001b[39m(\u001b[38;5;28;43mlist\u001b[39;49m\u001b[43m(\u001b[49m\u001b[43mi\u001b[49m\u001b[43m)\u001b[49m)\n",
      "\u001b[1;31mTypeError\u001b[0m: 'int' object is not iterable"
     ]
    }
   ],
   "source": [
    "print(list(i))"
   ]
  },
  {
   "cell_type": "code",
   "execution_count": null,
   "id": "8febe588",
   "metadata": {},
   "outputs": [],
   "source": []
  },
  {
   "cell_type": "code",
   "execution_count": 11,
   "id": "598c3243",
   "metadata": {},
   "outputs": [],
   "source": [
    "lam_fun= map(lambda x: \"Even \"if x %2==0 else \"Odd\",list1)"
   ]
  },
  {
   "cell_type": "code",
   "execution_count": 12,
   "id": "948fb9ae",
   "metadata": {},
   "outputs": [
    {
     "data": {
      "text/plain": [
       "<map at 0x19f62f36470>"
      ]
     },
     "execution_count": 12,
     "metadata": {},
     "output_type": "execute_result"
    }
   ],
   "source": [
    "lam_fun"
   ]
  },
  {
   "cell_type": "code",
   "execution_count": 13,
   "id": "3ef25b61",
   "metadata": {},
   "outputs": [
    {
     "name": "stdout",
     "output_type": "stream",
     "text": [
      "['Even ', 'Odd', 'Even ', 'Odd', 'Even ', 'Odd', 'Even ', 'Even ', 'Odd', 'Even ', 'Odd', 'Even ', 'Even ', 'Odd']\n"
     ]
    }
   ],
   "source": [
    "print(list(lam_fun))"
   ]
  },
  {
   "cell_type": "code",
   "execution_count": 14,
   "id": "96efbd48",
   "metadata": {},
   "outputs": [],
   "source": [
    "import numpy as np"
   ]
  },
  {
   "cell_type": "code",
   "execution_count": 15,
   "id": "c7754f0b",
   "metadata": {},
   "outputs": [],
   "source": [
    "n=np.random.rand(10)"
   ]
  },
  {
   "cell_type": "code",
   "execution_count": 16,
   "id": "35aa7bf9",
   "metadata": {},
   "outputs": [
    {
     "data": {
      "text/plain": [
       "array([0.94027025, 0.40648786, 0.59387279, 0.0271967 , 0.47772112,\n",
       "       0.55280766, 0.20200386, 0.21323498, 0.62618206, 0.89453161])"
      ]
     },
     "execution_count": 16,
     "metadata": {},
     "output_type": "execute_result"
    }
   ],
   "source": [
    "n"
   ]
  },
  {
   "cell_type": "markdown",
   "id": "c6405439",
   "metadata": {},
   "source": [
    "# ----------------------------------------------------------------"
   ]
  },
  {
   "cell_type": "code",
   "execution_count": 18,
   "id": "76b2a783",
   "metadata": {},
   "outputs": [],
   "source": [
    "A=1390"
   ]
  },
  {
   "cell_type": "code",
   "execution_count": 19,
   "id": "be535e20",
   "metadata": {},
   "outputs": [
    {
     "data": {
      "text/plain": [
       "1390"
      ]
     },
     "execution_count": 19,
     "metadata": {},
     "output_type": "execute_result"
    }
   ],
   "source": [
    "A"
   ]
  },
  {
   "cell_type": "code",
   "execution_count": 20,
   "id": "b63bc0e8",
   "metadata": {},
   "outputs": [],
   "source": [
    "B=str(A)"
   ]
  },
  {
   "cell_type": "code",
   "execution_count": 21,
   "id": "0694ce87",
   "metadata": {},
   "outputs": [
    {
     "data": {
      "text/plain": [
       "'1390'"
      ]
     },
     "execution_count": 21,
     "metadata": {},
     "output_type": "execute_result"
    }
   ],
   "source": [
    "B"
   ]
  },
  {
   "cell_type": "code",
   "execution_count": 22,
   "id": "ebe49904",
   "metadata": {},
   "outputs": [],
   "source": [
    "C=B[::-1]"
   ]
  },
  {
   "cell_type": "code",
   "execution_count": null,
   "id": "ce75f9e2",
   "metadata": {},
   "outputs": [],
   "source": []
  },
  {
   "cell_type": "code",
   "execution_count": 23,
   "id": "d2aae054",
   "metadata": {},
   "outputs": [
    {
     "data": {
      "text/plain": [
       "'0931'"
      ]
     },
     "execution_count": 23,
     "metadata": {},
     "output_type": "execute_result"
    }
   ],
   "source": [
    "C"
   ]
  },
  {
   "cell_type": "code",
   "execution_count": 24,
   "id": "7691b544",
   "metadata": {},
   "outputs": [],
   "source": [
    "D=int(C)"
   ]
  },
  {
   "cell_type": "code",
   "execution_count": 25,
   "id": "7230654e",
   "metadata": {},
   "outputs": [
    {
     "data": {
      "text/plain": [
       "931"
      ]
     },
     "execution_count": 25,
     "metadata": {},
     "output_type": "execute_result"
    }
   ],
   "source": [
    "D"
   ]
  },
  {
   "cell_type": "code",
   "execution_count": 26,
   "id": "ddf4ba9b",
   "metadata": {},
   "outputs": [],
   "source": [
    "E=f\"{D:0{len(B)}d}\""
   ]
  },
  {
   "cell_type": "code",
   "execution_count": 28,
   "id": "894f407b",
   "metadata": {},
   "outputs": [
    {
     "name": "stdout",
     "output_type": "stream",
     "text": [
      "0931\n"
     ]
    }
   ],
   "source": [
    "print(E)"
   ]
  },
  {
   "cell_type": "code",
   "execution_count": 29,
   "id": "3ba69006",
   "metadata": {},
   "outputs": [
    {
     "data": {
      "text/plain": [
       "str"
      ]
     },
     "execution_count": 29,
     "metadata": {},
     "output_type": "execute_result"
    }
   ],
   "source": [
    "type(E)"
   ]
  },
  {
   "cell_type": "code",
   "execution_count": 30,
   "id": "d398916b",
   "metadata": {},
   "outputs": [
    {
     "ename": "SyntaxError",
     "evalue": "invalid decimal literal (3702700736.py, line 1)",
     "output_type": "error",
     "traceback": [
      "\u001b[1;36m  Cell \u001b[1;32mIn[30], line 1\u001b[1;36m\u001b[0m\n\u001b[1;33m    w=1hile\u001b[0m\n\u001b[1;37m      ^\u001b[0m\n\u001b[1;31mSyntaxError\u001b[0m\u001b[1;31m:\u001b[0m invalid decimal literal\n"
     ]
    }
   ],
   "source": [
    "w=1\n",
    "while "
   ]
  },
  {
   "cell_type": "code",
   "execution_count": null,
   "id": "38c18da4",
   "metadata": {},
   "outputs": [],
   "source": []
  },
  {
   "cell_type": "code",
   "execution_count": null,
   "id": "b4cfabb0",
   "metadata": {},
   "outputs": [],
   "source": [
    "\n",
    "numbers = [0, 1, 2, 3, 10, 15, 22, 33, 100]\n",
    "\n",
    "for number in numbers:\n",
    "    print(f\"{number} is {check_even_odd(number)}\")"
   ]
  },
  {
   "cell_type": "code",
   "execution_count": 44,
   "id": "d263d58e",
   "metadata": {},
   "outputs": [],
   "source": [
    "def check_even_odd(num):\n",
    "    if num %2==0:\n",
    "        return(\"Even\")\n",
    "        \n",
    "    else:\n",
    "        return(\"Odd\")"
   ]
  },
  {
   "cell_type": "code",
   "execution_count": 45,
   "id": "25e323ef",
   "metadata": {},
   "outputs": [],
   "source": [
    "numbers = [0, 1, 2, 3, 10, 15, 22, 33, 100]"
   ]
  },
  {
   "cell_type": "code",
   "execution_count": 46,
   "id": "7a284dd3",
   "metadata": {},
   "outputs": [
    {
     "name": "stdout",
     "output_type": "stream",
     "text": [
      "100 is Even\n"
     ]
    }
   ],
   "source": [
    "print(f\"{number} is {check_even_odd(number)}\")"
   ]
  },
  {
   "cell_type": "code",
   "execution_count": 47,
   "id": "79d7ad33",
   "metadata": {},
   "outputs": [
    {
     "name": "stdout",
     "output_type": "stream",
     "text": [
      "0 is Even\n",
      "1 is Odd\n",
      "2 is Even\n",
      "3 is Odd\n",
      "10 is Even\n",
      "15 is Odd\n",
      "22 is Even\n",
      "33 is Odd\n",
      "100 is Even\n"
     ]
    }
   ],
   "source": [
    "for number in numbers:\n",
    "    print(f\"{number} is {check_even_odd(number)}\")"
   ]
  },
  {
   "cell_type": "code",
   "execution_count": null,
   "id": "651e8c50",
   "metadata": {},
   "outputs": [],
   "source": []
  },
  {
   "cell_type": "code",
   "execution_count": null,
   "id": "82830f34",
   "metadata": {},
   "outputs": [],
   "source": []
  },
  {
   "cell_type": "code",
   "execution_count": null,
   "id": "3038631b",
   "metadata": {},
   "outputs": [],
   "source": []
  },
  {
   "cell_type": "code",
   "execution_count": 48,
   "id": "8039b452",
   "metadata": {},
   "outputs": [
    {
     "name": "stdout",
     "output_type": "stream",
     "text": [
      "Enter any number5\n"
     ]
    }
   ],
   "source": [
    "mj=int(input(\"Enter any number\"))"
   ]
  },
  {
   "cell_type": "code",
   "execution_count": 49,
   "id": "b2a7d2bb",
   "metadata": {},
   "outputs": [],
   "source": [
    "m=\"Mohit Janbandhu 1234\""
   ]
  },
  {
   "cell_type": "code",
   "execution_count": 50,
   "id": "25687d7a",
   "metadata": {},
   "outputs": [],
   "source": [
    "upper=0\n",
    "lower=0\n",
    "digit=0\n"
   ]
  },
  {
   "cell_type": "code",
   "execution_count": 52,
   "id": "56744a8f",
   "metadata": {},
   "outputs": [],
   "source": [
    "for char in m:\n",
    "    if char.isupper():\n",
    "        upper +=1\n",
    "        \n",
    "    elif char.islower():\n",
    "        lower +=1\n",
    "        \n",
    "    elif char.isdigit():\n",
    "        digit +=1"
   ]
  },
  {
   "cell_type": "code",
   "execution_count": 53,
   "id": "6ecbcd1f",
   "metadata": {},
   "outputs": [
    {
     "data": {
      "text/plain": [
       "3"
      ]
     },
     "execution_count": 53,
     "metadata": {},
     "output_type": "execute_result"
    }
   ],
   "source": [
    "upper"
   ]
  },
  {
   "cell_type": "code",
   "execution_count": 55,
   "id": "185f2c59",
   "metadata": {},
   "outputs": [
    {
     "name": "stdout",
     "output_type": "stream",
     "text": [
      "3\n",
      "16\n",
      "4\n"
     ]
    }
   ],
   "source": [
    "print(upper)\n",
    "print(lower)\n",
    "print(digit)"
   ]
  },
  {
   "cell_type": "code",
   "execution_count": 56,
   "id": "edc34a94",
   "metadata": {},
   "outputs": [
    {
     "ename": "SyntaxError",
     "evalue": "invalid syntax (16157246.py, line 1)",
     "output_type": "error",
     "traceback": [
      "\u001b[1;36m  Cell \u001b[1;32mIn[56], line 1\u001b[1;36m\u001b[0m\n\u001b[1;33m    upper.\u001b[0m\n\u001b[1;37m          ^\u001b[0m\n\u001b[1;31mSyntaxError\u001b[0m\u001b[1;31m:\u001b[0m invalid syntax\n"
     ]
    }
   ],
   "source": [
    "upper."
   ]
  },
  {
   "cell_type": "code",
   "execution_count": null,
   "id": "9cc3ebb6",
   "metadata": {},
   "outputs": [],
   "source": []
  },
  {
   "cell_type": "code",
   "execution_count": null,
   "id": "a0a91d96",
   "metadata": {},
   "outputs": [],
   "source": []
  },
  {
   "cell_type": "code",
   "execution_count": null,
   "id": "857e0ad7",
   "metadata": {},
   "outputs": [],
   "source": []
  },
  {
   "cell_type": "code",
   "execution_count": 57,
   "id": "86908f22",
   "metadata": {},
   "outputs": [],
   "source": [
    "vowels='aeiouAEIOU'"
   ]
  },
  {
   "cell_type": "code",
   "execution_count": 61,
   "id": "3f57387e",
   "metadata": {},
   "outputs": [
    {
     "name": "stdout",
     "output_type": "stream",
     "text": [
      "o i a a u "
     ]
    }
   ],
   "source": [
    "for char in m:\n",
    "    if char in vowels:\n",
    "        print(char, end=\" \")"
   ]
  },
  {
   "cell_type": "code",
   "execution_count": 63,
   "id": "20ed70cd",
   "metadata": {},
   "outputs": [
    {
     "name": "stdout",
     "output_type": "stream",
     "text": [
      "o i a a u "
     ]
    }
   ],
   "source": [
    "for char in m:\n",
    "    if char in vowels:\n",
    "\n",
    "        print(char, end=' ')"
   ]
  },
  {
   "cell_type": "markdown",
   "id": "12d14971",
   "metadata": {},
   "source": [
    "#    For"
   ]
  },
  {
   "cell_type": "code",
   "execution_count": 74,
   "id": "2cae1c91",
   "metadata": {},
   "outputs": [
    {
     "name": "stdout",
     "output_type": "stream",
     "text": [
      "-10\n",
      "-9\n",
      "-8\n",
      "-7\n",
      "-6\n",
      "-5\n",
      "-4\n",
      "-3\n",
      "-2\n",
      "-1\n",
      "0\n",
      "1\n",
      "2\n",
      "3\n",
      "4\n",
      "5\n",
      "6\n",
      "7\n",
      "8\n",
      "9\n",
      "10\n"
     ]
    }
   ],
   "source": [
    "for i in range (-10,11):\n",
    "    print(i)"
   ]
  },
  {
   "cell_type": "code",
   "execution_count": 72,
   "id": "a738ade1",
   "metadata": {},
   "outputs": [
    {
     "data": {
      "text/plain": [
       "9"
      ]
     },
     "execution_count": 72,
     "metadata": {},
     "output_type": "execute_result"
    }
   ],
   "source": [
    "i"
   ]
  },
  {
   "cell_type": "code",
   "execution_count": 78,
   "id": "cde1ca20",
   "metadata": {},
   "outputs": [],
   "source": [
    "for i in range (10,2,1):\n",
    "    print(i)"
   ]
  },
  {
   "cell_type": "code",
   "execution_count": 98,
   "id": "cc630b80",
   "metadata": {},
   "outputs": [],
   "source": [
    "i=1"
   ]
  },
  {
   "cell_type": "code",
   "execution_count": 94,
   "id": "e98f9e07",
   "metadata": {},
   "outputs": [
    {
     "name": "stdout",
     "output_type": "stream",
     "text": [
      "1\n",
      "2\n",
      "3\n",
      "4\n",
      "5\n",
      "6\n"
     ]
    }
   ],
   "source": [
    "while i<7:\n",
    "    print(i)\n",
    "    \n",
    "    i +=1"
   ]
  },
  {
   "cell_type": "code",
   "execution_count": 103,
   "id": "bd35830d",
   "metadata": {},
   "outputs": [],
   "source": [
    "i=9"
   ]
  },
  {
   "cell_type": "code",
   "execution_count": 104,
   "id": "a424c6e6",
   "metadata": {},
   "outputs": [
    {
     "name": "stdout",
     "output_type": "stream",
     "text": [
      "9\n",
      "8\n",
      "7\n",
      "6\n",
      "5\n"
     ]
    }
   ],
   "source": [
    "while 5<=i:\n",
    "    print(i)\n",
    "    \n",
    "    i -= 1"
   ]
  },
  {
   "cell_type": "code",
   "execution_count": 109,
   "id": "d33aaf4c",
   "metadata": {},
   "outputs": [],
   "source": [
    "mo=\"Mohit Janbandhu\"\n"
   ]
  },
  {
   "cell_type": "code",
   "execution_count": 112,
   "id": "d0dee05f",
   "metadata": {},
   "outputs": [
    {
     "data": {
      "text/plain": [
       "0"
      ]
     },
     "execution_count": 112,
     "metadata": {},
     "output_type": "execute_result"
    }
   ],
   "source": [
    "m.index(\"M\")"
   ]
  },
  {
   "cell_type": "markdown",
   "id": "5d186787",
   "metadata": {},
   "source": [
    "mo"
   ]
  },
  {
   "cell_type": "code",
   "execution_count": 111,
   "id": "2053b7bb",
   "metadata": {},
   "outputs": [
    {
     "data": {
      "text/plain": [
       "0"
      ]
     },
     "execution_count": 111,
     "metadata": {},
     "output_type": "execute_result"
    }
   ],
   "source": [
    "mo.index(\"M\")"
   ]
  },
  {
   "cell_type": "code",
   "execution_count": 114,
   "id": "c2cd25e3",
   "metadata": {},
   "outputs": [
    {
     "data": {
      "text/plain": [
       "'t'"
      ]
     },
     "execution_count": 114,
     "metadata": {},
     "output_type": "execute_result"
    }
   ],
   "source": [
    "m[4]"
   ]
  },
  {
   "cell_type": "markdown",
   "id": "474b334e",
   "metadata": {},
   "source": [
    "# ___________________________________________________________________"
   ]
  },
  {
   "cell_type": "code",
   "execution_count": 118,
   "id": "6bdc0e9a",
   "metadata": {},
   "outputs": [],
   "source": [
    "fruits = [\"apple\", \"banana\", \"cherry\"]"
   ]
  },
  {
   "cell_type": "code",
   "execution_count": 120,
   "id": "aa872c1c",
   "metadata": {},
   "outputs": [
    {
     "ename": "IndentationError",
     "evalue": "expected an indented block after 'if' statement on line 2 (3722211548.py, line 3)",
     "output_type": "error",
     "traceback": [
      "\u001b[1;36m  Cell \u001b[1;32mIn[120], line 3\u001b[1;36m\u001b[0m\n\u001b[1;33m    print(fruit)\u001b[0m\n\u001b[1;37m    ^\u001b[0m\n\u001b[1;31mIndentationError\u001b[0m\u001b[1;31m:\u001b[0m expected an indented block after 'if' statement on line 2\n"
     ]
    }
   ],
   "source": [
    "for fruit in fruits:\n",
    "    if fruit == \"banana\":\n",
    "    print(fruit)"
   ]
  },
  {
   "cell_type": "code",
   "execution_count": 121,
   "id": "e926f5db",
   "metadata": {},
   "outputs": [
    {
     "name": "stdout",
     "output_type": "stream",
     "text": [
      "banana\n"
     ]
    }
   ],
   "source": [
    "for fruit in fruits:\n",
    "    if fruit == \"banana\":\n",
    "        print(fruit)"
   ]
  },
  {
   "cell_type": "code",
   "execution_count": null,
   "id": "5c9a2beb",
   "metadata": {},
   "outputs": [],
   "source": []
  }
 ],
 "metadata": {
  "kernelspec": {
   "display_name": "Python 3 (ipykernel)",
   "language": "python",
   "name": "python3"
  },
  "language_info": {
   "codemirror_mode": {
    "name": "ipython",
    "version": 3
   },
   "file_extension": ".py",
   "mimetype": "text/x-python",
   "name": "python",
   "nbconvert_exporter": "python",
   "pygments_lexer": "ipython3",
   "version": "3.10.9"
  }
 },
 "nbformat": 4,
 "nbformat_minor": 5
}
