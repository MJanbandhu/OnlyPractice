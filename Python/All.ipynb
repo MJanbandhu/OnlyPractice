{
 "cells": [
  {
   "cell_type": "code",
   "execution_count": 1,
   "id": "fc5d99fe",
   "metadata": {},
   "outputs": [
    {
     "name": "stdout",
     "output_type": "stream",
     "text": [
      "Mohit Janbandhu\n"
     ]
    }
   ],
   "source": [
    "print(\"Mohit Janbandhu\")"
   ]
  },
  {
   "cell_type": "code",
   "execution_count": 4,
   "id": "06266c94",
   "metadata": {},
   "outputs": [],
   "source": [
    "list2=[6,9,8,5,8,5,2,8,(8,8,9,6,5,4,7,2)]"
   ]
  },
  {
   "cell_type": "code",
   "execution_count": 5,
   "id": "6aa8f5d8",
   "metadata": {},
   "outputs": [],
   "source": [
    "list1=[6,9,8,5,8,5,2,8,1,2,3,4,6,7]"
   ]
  },
  {
   "cell_type": "code",
   "execution_count": 7,
   "id": "0d656335",
   "metadata": {},
   "outputs": [
    {
     "data": {
      "text/plain": [
       "9"
      ]
     },
     "execution_count": 7,
     "metadata": {},
     "output_type": "execute_result"
    }
   ],
   "source": [
    "list2[8][2]"
   ]
  },
  {
   "cell_type": "code",
   "execution_count": 9,
   "id": "6049ad1c",
   "metadata": {},
   "outputs": [
    {
     "name": "stdout",
     "output_type": "stream",
     "text": [
      "Even\n",
      "odd\n",
      "Even\n",
      "odd\n",
      "Even\n",
      "odd\n",
      "Even\n",
      "Even\n",
      "odd\n",
      "Even\n",
      "odd\n",
      "Even\n",
      "Even\n",
      "odd\n"
     ]
    }
   ],
   "source": [
    "for i in list1:\n",
    "    if i %2==0:\n",
    "        print(\"Even\")\n",
    "        \n",
    "    else:\n",
    "        print(\"odd\")"
   ]
  },
  {
   "cell_type": "code",
   "execution_count": 10,
   "id": "cf752f9f",
   "metadata": {},
   "outputs": [
    {
     "ename": "TypeError",
     "evalue": "'int' object is not iterable",
     "output_type": "error",
     "traceback": [
      "\u001b[1;31m---------------------------------------------------------------------------\u001b[0m",
      "\u001b[1;31mTypeError\u001b[0m                                 Traceback (most recent call last)",
      "Cell \u001b[1;32mIn[10], line 1\u001b[0m\n\u001b[1;32m----> 1\u001b[0m \u001b[38;5;28mprint\u001b[39m(\u001b[38;5;28;43mlist\u001b[39;49m\u001b[43m(\u001b[49m\u001b[43mi\u001b[49m\u001b[43m)\u001b[49m)\n",
      "\u001b[1;31mTypeError\u001b[0m: 'int' object is not iterable"
     ]
    }
   ],
   "source": [
    "print(list(i))"
   ]
  },
  {
   "cell_type": "code",
   "execution_count": null,
   "id": "c081b542",
   "metadata": {},
   "outputs": [],
   "source": []
  },
  {
   "cell_type": "code",
   "execution_count": 11,
   "id": "4a42cb6a",
   "metadata": {},
   "outputs": [],
   "source": [
    "lam_fun= map(lambda x: \"Even \"if x %2==0 else \"Odd\",list1)"
   ]
  },
  {
   "cell_type": "code",
   "execution_count": 12,
   "id": "92b27fa5",
   "metadata": {},
   "outputs": [
    {
     "data": {
      "text/plain": [
       "<map at 0x19f62f36470>"
      ]
     },
     "execution_count": 12,
     "metadata": {},
     "output_type": "execute_result"
    }
   ],
   "source": [
    "lam_fun"
   ]
  },
  {
   "cell_type": "code",
   "execution_count": 13,
   "id": "918e3df8",
   "metadata": {},
   "outputs": [
    {
     "name": "stdout",
     "output_type": "stream",
     "text": [
      "['Even ', 'Odd', 'Even ', 'Odd', 'Even ', 'Odd', 'Even ', 'Even ', 'Odd', 'Even ', 'Odd', 'Even ', 'Even ', 'Odd']\n"
     ]
    }
   ],
   "source": [
    "print(list(lam_fun))"
   ]
  },
  {
   "cell_type": "code",
   "execution_count": null,
   "id": "d3b2f5e3",
   "metadata": {},
   "outputs": [],
   "source": []
  }
 ],
 "metadata": {
  "kernelspec": {
   "display_name": "Python 3 (ipykernel)",
   "language": "python",
   "name": "python3"
  },
  "language_info": {
   "codemirror_mode": {
    "name": "ipython",
    "version": 3
   },
   "file_extension": ".py",
   "mimetype": "text/x-python",
   "name": "python",
   "nbconvert_exporter": "python",
   "pygments_lexer": "ipython3",
   "version": "3.10.9"
  }
 },
 "nbformat": 4,
 "nbformat_minor": 5
}
