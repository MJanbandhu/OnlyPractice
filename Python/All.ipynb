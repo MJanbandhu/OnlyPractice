{
 "cells": [
  {
   "cell_type": "code",
   "execution_count": 1,
   "id": "e7729a71",
   "metadata": {},
   "outputs": [
    {
     "name": "stdout",
     "output_type": "stream",
     "text": [
      "Mohit Janbandhu\n"
     ]
    }
   ],
   "source": [
    "print(\"Mohit Janbandhu\")"
   ]
  },
  {
   "cell_type": "code",
   "execution_count": 4,
   "id": "da65977e",
   "metadata": {},
   "outputs": [],
   "source": [
    "list2=[6,9,8,5,8,5,2,8,(8,8,9,6,5,4,7,2)]"
   ]
  },
  {
   "cell_type": "code",
   "execution_count": 5,
   "id": "eb293e31",
   "metadata": {},
   "outputs": [],
   "source": [
    "list1=[6,9,8,5,8,5,2,8,1,2,3,4,6,7]"
   ]
  },
  {
   "cell_type": "code",
   "execution_count": 7,
   "id": "490f3f4c",
   "metadata": {},
   "outputs": [
    {
     "data": {
      "text/plain": [
       "9"
      ]
     },
     "execution_count": 7,
     "metadata": {},
     "output_type": "execute_result"
    }
   ],
   "source": [
    "list2[8][2]"
   ]
  },
  {
   "cell_type": "code",
   "execution_count": 9,
   "id": "cb6d6487",
   "metadata": {},
   "outputs": [
    {
     "name": "stdout",
     "output_type": "stream",
     "text": [
      "Even\n",
      "odd\n",
      "Even\n",
      "odd\n",
      "Even\n",
      "odd\n",
      "Even\n",
      "Even\n",
      "odd\n",
      "Even\n",
      "odd\n",
      "Even\n",
      "Even\n",
      "odd\n"
     ]
    }
   ],
   "source": [
    "for i in list1:\n",
    "    if i %2==0:\n",
    "        print(\"Even\")\n",
    "        \n",
    "    else:\n",
    "        print(\"odd\")"
   ]
  },
  {
   "cell_type": "code",
   "execution_count": 10,
   "id": "04465d1d",
   "metadata": {},
   "outputs": [
    {
     "ename": "TypeError",
     "evalue": "'int' object is not iterable",
     "output_type": "error",
     "traceback": [
      "\u001b[1;31m---------------------------------------------------------------------------\u001b[0m",
      "\u001b[1;31mTypeError\u001b[0m                                 Traceback (most recent call last)",
      "Cell \u001b[1;32mIn[10], line 1\u001b[0m\n\u001b[1;32m----> 1\u001b[0m \u001b[38;5;28mprint\u001b[39m(\u001b[38;5;28;43mlist\u001b[39;49m\u001b[43m(\u001b[49m\u001b[43mi\u001b[49m\u001b[43m)\u001b[49m)\n",
      "\u001b[1;31mTypeError\u001b[0m: 'int' object is not iterable"
     ]
    }
   ],
   "source": [
    "print(list(i))"
   ]
  },
  {
   "cell_type": "code",
   "execution_count": null,
   "id": "0901db77",
   "metadata": {},
   "outputs": [],
   "source": []
  },
  {
   "cell_type": "code",
   "execution_count": 11,
   "id": "f33f4806",
   "metadata": {},
   "outputs": [],
   "source": [
    "lam_fun= map(lambda x: \"Even \"if x %2==0 else \"Odd\",list1)"
   ]
  },
  {
   "cell_type": "code",
   "execution_count": 12,
   "id": "21b9e4f0",
   "metadata": {},
   "outputs": [
    {
     "data": {
      "text/plain": [
       "<map at 0x19f62f36470>"
      ]
     },
     "execution_count": 12,
     "metadata": {},
     "output_type": "execute_result"
    }
   ],
   "source": [
    "lam_fun"
   ]
  },
  {
   "cell_type": "code",
   "execution_count": 13,
   "id": "c6ae3fc7",
   "metadata": {},
   "outputs": [
    {
     "name": "stdout",
     "output_type": "stream",
     "text": [
      "['Even ', 'Odd', 'Even ', 'Odd', 'Even ', 'Odd', 'Even ', 'Even ', 'Odd', 'Even ', 'Odd', 'Even ', 'Even ', 'Odd']\n"
     ]
    }
   ],
   "source": [
    "print(list(lam_fun))"
   ]
  },
  {
   "cell_type": "code",
   "execution_count": 14,
   "id": "abd0a94c",
   "metadata": {},
   "outputs": [],
   "source": [
    "import numpy as np"
   ]
  },
  {
   "cell_type": "code",
   "execution_count": 15,
   "id": "d9f14af3",
   "metadata": {},
   "outputs": [],
   "source": [
    "n=np.random.rand(10)"
   ]
  },
  {
   "cell_type": "code",
   "execution_count": 16,
   "id": "6a570c1b",
   "metadata": {},
   "outputs": [
    {
     "data": {
      "text/plain": [
       "array([0.94027025, 0.40648786, 0.59387279, 0.0271967 , 0.47772112,\n",
       "       0.55280766, 0.20200386, 0.21323498, 0.62618206, 0.89453161])"
      ]
     },
     "execution_count": 16,
     "metadata": {},
     "output_type": "execute_result"
    }
   ],
   "source": [
    "n"
   ]
  },
  {
   "cell_type": "markdown",
   "id": "263372a5",
   "metadata": {},
   "source": [
    "# ----------------------------------------------------------------"
   ]
  },
  {
   "cell_type": "code",
   "execution_count": 18,
   "id": "7b11b899",
   "metadata": {},
   "outputs": [],
   "source": [
    "A=1390"
   ]
  },
  {
   "cell_type": "code",
   "execution_count": 19,
   "id": "5214eb33",
   "metadata": {},
   "outputs": [
    {
     "data": {
      "text/plain": [
       "1390"
      ]
     },
     "execution_count": 19,
     "metadata": {},
     "output_type": "execute_result"
    }
   ],
   "source": [
    "A"
   ]
  },
  {
   "cell_type": "code",
   "execution_count": 20,
   "id": "70994d41",
   "metadata": {},
   "outputs": [],
   "source": [
    "B=str(A)"
   ]
  },
  {
   "cell_type": "code",
   "execution_count": 21,
   "id": "5fe6b1a0",
   "metadata": {},
   "outputs": [
    {
     "data": {
      "text/plain": [
       "'1390'"
      ]
     },
     "execution_count": 21,
     "metadata": {},
     "output_type": "execute_result"
    }
   ],
   "source": [
    "B"
   ]
  },
  {
   "cell_type": "code",
   "execution_count": 22,
   "id": "7b914f81",
   "metadata": {},
   "outputs": [],
   "source": [
    "C=B[::-1]"
   ]
  },
  {
   "cell_type": "code",
   "execution_count": null,
   "id": "cde9fcc5",
   "metadata": {},
   "outputs": [],
   "source": []
  },
  {
   "cell_type": "code",
   "execution_count": 23,
   "id": "ab9bb7ae",
   "metadata": {},
   "outputs": [
    {
     "data": {
      "text/plain": [
       "'0931'"
      ]
     },
     "execution_count": 23,
     "metadata": {},
     "output_type": "execute_result"
    }
   ],
   "source": [
    "C"
   ]
  },
  {
   "cell_type": "code",
   "execution_count": 24,
   "id": "b85860ed",
   "metadata": {},
   "outputs": [],
   "source": [
    "D=int(C)"
   ]
  },
  {
   "cell_type": "code",
   "execution_count": 25,
   "id": "56408775",
   "metadata": {},
   "outputs": [
    {
     "data": {
      "text/plain": [
       "931"
      ]
     },
     "execution_count": 25,
     "metadata": {},
     "output_type": "execute_result"
    }
   ],
   "source": [
    "D"
   ]
  },
  {
   "cell_type": "code",
   "execution_count": 26,
   "id": "83544a63",
   "metadata": {},
   "outputs": [],
   "source": [
    "E=f\"{D:0{len(B)}d}\""
   ]
  },
  {
   "cell_type": "code",
   "execution_count": 28,
   "id": "e0280c8a",
   "metadata": {},
   "outputs": [
    {
     "name": "stdout",
     "output_type": "stream",
     "text": [
      "0931\n"
     ]
    }
   ],
   "source": [
    "print(E)"
   ]
  },
  {
   "cell_type": "code",
   "execution_count": 29,
   "id": "f4066e28",
   "metadata": {},
   "outputs": [
    {
     "data": {
      "text/plain": [
       "str"
      ]
     },
     "execution_count": 29,
     "metadata": {},
     "output_type": "execute_result"
    }
   ],
   "source": [
    "type(E)"
   ]
  },
  {
   "cell_type": "code",
   "execution_count": 30,
   "id": "5cb5393b",
   "metadata": {},
   "outputs": [
    {
     "ename": "SyntaxError",
     "evalue": "invalid decimal literal (3702700736.py, line 1)",
     "output_type": "error",
     "traceback": [
      "\u001b[1;36m  Cell \u001b[1;32mIn[30], line 1\u001b[1;36m\u001b[0m\n\u001b[1;33m    w=1hile\u001b[0m\n\u001b[1;37m      ^\u001b[0m\n\u001b[1;31mSyntaxError\u001b[0m\u001b[1;31m:\u001b[0m invalid decimal literal\n"
     ]
    }
   ],
   "source": [
    "w=1\n",
    "while "
   ]
  },
  {
   "cell_type": "code",
   "execution_count": null,
   "id": "9da48d7c",
   "metadata": {},
   "outputs": [],
   "source": []
  },
  {
   "cell_type": "code",
   "execution_count": null,
   "id": "b67944c2",
   "metadata": {},
   "outputs": [],
   "source": [
    "\n",
    "numbers = [0, 1, 2, 3, 10, 15, 22, 33, 100]\n",
    "\n",
    "for number in numbers:\n",
    "    print(f\"{number} is {check_even_odd(number)}\")"
   ]
  },
  {
   "cell_type": "code",
   "execution_count": 44,
   "id": "3b11e7f9",
   "metadata": {},
   "outputs": [],
   "source": [
    "def check_even_odd(num):\n",
    "    if num %2==0:\n",
    "        return(\"Even\")\n",
    "        \n",
    "    else:\n",
    "        return(\"Odd\")"
   ]
  },
  {
   "cell_type": "code",
   "execution_count": 45,
   "id": "25f29a0b",
   "metadata": {},
   "outputs": [],
   "source": [
    "numbers = [0, 1, 2, 3, 10, 15, 22, 33, 100]"
   ]
  },
  {
   "cell_type": "code",
   "execution_count": 46,
   "id": "26bf3906",
   "metadata": {},
   "outputs": [
    {
     "name": "stdout",
     "output_type": "stream",
     "text": [
      "100 is Even\n"
     ]
    }
   ],
   "source": [
    "print(f\"{number} is {check_even_odd(number)}\")"
   ]
  },
  {
   "cell_type": "code",
   "execution_count": 47,
   "id": "e4f0ad6f",
   "metadata": {},
   "outputs": [
    {
     "name": "stdout",
     "output_type": "stream",
     "text": [
      "0 is Even\n",
      "1 is Odd\n",
      "2 is Even\n",
      "3 is Odd\n",
      "10 is Even\n",
      "15 is Odd\n",
      "22 is Even\n",
      "33 is Odd\n",
      "100 is Even\n"
     ]
    }
   ],
   "source": [
    "for number in numbers:\n",
    "    print(f\"{number} is {check_even_odd(number)}\")"
   ]
  },
  {
   "cell_type": "code",
   "execution_count": null,
   "id": "ba51266b",
   "metadata": {},
   "outputs": [],
   "source": []
  },
  {
   "cell_type": "code",
   "execution_count": null,
   "id": "1d4e8e8e",
   "metadata": {},
   "outputs": [],
   "source": []
  },
  {
   "cell_type": "code",
   "execution_count": null,
   "id": "a69d5ea0",
   "metadata": {},
   "outputs": [],
   "source": []
  },
  {
   "cell_type": "code",
   "execution_count": 48,
   "id": "f34c07c9",
   "metadata": {},
   "outputs": [
    {
     "name": "stdout",
     "output_type": "stream",
     "text": [
      "Enter any number5\n"
     ]
    }
   ],
   "source": [
    "mj=int(input(\"Enter any number\"))"
   ]
  },
  {
   "cell_type": "code",
   "execution_count": null,
   "id": "70465659",
   "metadata": {},
   "outputs": [],
   "source": []
  }
 ],
 "metadata": {
  "kernelspec": {
   "display_name": "Python 3 (ipykernel)",
   "language": "python",
   "name": "python3"
  },
  "language_info": {
   "codemirror_mode": {
    "name": "ipython",
    "version": 3
   },
   "file_extension": ".py",
   "mimetype": "text/x-python",
   "name": "python",
   "nbconvert_exporter": "python",
   "pygments_lexer": "ipython3",
   "version": "3.10.9"
  }
 },
 "nbformat": 4,
 "nbformat_minor": 5
}
