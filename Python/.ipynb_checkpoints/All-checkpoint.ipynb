{
 "cells": [
  {
   "cell_type": "code",
   "execution_count": 1,
   "id": "8e8e23d2",
   "metadata": {},
   "outputs": [
    {
     "name": "stdout",
     "output_type": "stream",
     "text": [
      "Mohit Janbandhu\n"
     ]
    }
   ],
   "source": [
    "print(\"Mohit Janbandhu\")"
   ]
  },
  {
   "cell_type": "code",
   "execution_count": 4,
   "id": "6c71d6b1",
   "metadata": {},
   "outputs": [],
   "source": [
    "list2=[6,9,8,5,8,5,2,8,(8,8,9,6,5,4,7,2)]"
   ]
  },
  {
   "cell_type": "code",
   "execution_count": 5,
   "id": "56accb79",
   "metadata": {},
   "outputs": [],
   "source": [
    "list1=[6,9,8,5,8,5,2,8,1,2,3,4,6,7]"
   ]
  },
  {
   "cell_type": "code",
   "execution_count": 7,
   "id": "38508735",
   "metadata": {},
   "outputs": [
    {
     "data": {
      "text/plain": [
       "9"
      ]
     },
     "execution_count": 7,
     "metadata": {},
     "output_type": "execute_result"
    }
   ],
   "source": [
    "list2[8][2]"
   ]
  },
  {
   "cell_type": "code",
   "execution_count": 9,
   "id": "6e001ed3",
   "metadata": {},
   "outputs": [
    {
     "name": "stdout",
     "output_type": "stream",
     "text": [
      "Even\n",
      "odd\n",
      "Even\n",
      "odd\n",
      "Even\n",
      "odd\n",
      "Even\n",
      "Even\n",
      "odd\n",
      "Even\n",
      "odd\n",
      "Even\n",
      "Even\n",
      "odd\n"
     ]
    }
   ],
   "source": [
    "for i in list1:\n",
    "    if i %2==0:\n",
    "        print(\"Even\")\n",
    "        \n",
    "    else:\n",
    "        print(\"odd\")"
   ]
  },
  {
   "cell_type": "code",
   "execution_count": 10,
   "id": "0e64f7e5",
   "metadata": {},
   "outputs": [
    {
     "ename": "TypeError",
     "evalue": "'int' object is not iterable",
     "output_type": "error",
     "traceback": [
      "\u001b[1;31m---------------------------------------------------------------------------\u001b[0m",
      "\u001b[1;31mTypeError\u001b[0m                                 Traceback (most recent call last)",
      "Cell \u001b[1;32mIn[10], line 1\u001b[0m\n\u001b[1;32m----> 1\u001b[0m \u001b[38;5;28mprint\u001b[39m(\u001b[38;5;28;43mlist\u001b[39;49m\u001b[43m(\u001b[49m\u001b[43mi\u001b[49m\u001b[43m)\u001b[49m)\n",
      "\u001b[1;31mTypeError\u001b[0m: 'int' object is not iterable"
     ]
    }
   ],
   "source": [
    "print(list(i))"
   ]
  },
  {
   "cell_type": "code",
   "execution_count": null,
   "id": "9936c145",
   "metadata": {},
   "outputs": [],
   "source": []
  },
  {
   "cell_type": "code",
   "execution_count": 11,
   "id": "4ff4616b",
   "metadata": {},
   "outputs": [],
   "source": [
    "lam_fun= map(lambda x: \"Even \"if x %2==0 else \"Odd\",list1)"
   ]
  },
  {
   "cell_type": "code",
   "execution_count": 12,
   "id": "6b7d8fa8",
   "metadata": {},
   "outputs": [
    {
     "data": {
      "text/plain": [
       "<map at 0x19f62f36470>"
      ]
     },
     "execution_count": 12,
     "metadata": {},
     "output_type": "execute_result"
    }
   ],
   "source": [
    "lam_fun"
   ]
  },
  {
   "cell_type": "code",
   "execution_count": 13,
   "id": "943a03dd",
   "metadata": {},
   "outputs": [
    {
     "name": "stdout",
     "output_type": "stream",
     "text": [
      "['Even ', 'Odd', 'Even ', 'Odd', 'Even ', 'Odd', 'Even ', 'Even ', 'Odd', 'Even ', 'Odd', 'Even ', 'Even ', 'Odd']\n"
     ]
    }
   ],
   "source": [
    "print(list(lam_fun))"
   ]
  },
  {
   "cell_type": "code",
   "execution_count": 14,
   "id": "f15452b6",
   "metadata": {},
   "outputs": [],
   "source": [
    "import numpy as np"
   ]
  },
  {
   "cell_type": "code",
   "execution_count": 15,
   "id": "0cae47fd",
   "metadata": {},
   "outputs": [],
   "source": [
    "n=np.random.rand(10)"
   ]
  },
  {
   "cell_type": "code",
   "execution_count": 16,
   "id": "ec0ed6da",
   "metadata": {},
   "outputs": [
    {
     "data": {
      "text/plain": [
       "array([0.94027025, 0.40648786, 0.59387279, 0.0271967 , 0.47772112,\n",
       "       0.55280766, 0.20200386, 0.21323498, 0.62618206, 0.89453161])"
      ]
     },
     "execution_count": 16,
     "metadata": {},
     "output_type": "execute_result"
    }
   ],
   "source": [
    "n"
   ]
  },
  {
   "cell_type": "markdown",
   "id": "52dd6491",
   "metadata": {},
   "source": [
    "# ----------------------------------------------------------------"
   ]
  },
  {
   "cell_type": "code",
   "execution_count": 18,
   "id": "6d984d9c",
   "metadata": {},
   "outputs": [],
   "source": [
    "A=1390"
   ]
  },
  {
   "cell_type": "code",
   "execution_count": 19,
   "id": "8df7c62d",
   "metadata": {},
   "outputs": [
    {
     "data": {
      "text/plain": [
       "1390"
      ]
     },
     "execution_count": 19,
     "metadata": {},
     "output_type": "execute_result"
    }
   ],
   "source": [
    "A"
   ]
  },
  {
   "cell_type": "code",
   "execution_count": 20,
   "id": "c379eb1a",
   "metadata": {},
   "outputs": [],
   "source": [
    "B=str(A)"
   ]
  },
  {
   "cell_type": "code",
   "execution_count": 21,
   "id": "bcaeddf5",
   "metadata": {},
   "outputs": [
    {
     "data": {
      "text/plain": [
       "'1390'"
      ]
     },
     "execution_count": 21,
     "metadata": {},
     "output_type": "execute_result"
    }
   ],
   "source": [
    "B"
   ]
  },
  {
   "cell_type": "code",
   "execution_count": 22,
   "id": "1de1dbc9",
   "metadata": {},
   "outputs": [],
   "source": [
    "C=B[::-1]"
   ]
  },
  {
   "cell_type": "code",
   "execution_count": null,
   "id": "d2f93981",
   "metadata": {},
   "outputs": [],
   "source": []
  },
  {
   "cell_type": "code",
   "execution_count": 23,
   "id": "337198ef",
   "metadata": {},
   "outputs": [
    {
     "data": {
      "text/plain": [
       "'0931'"
      ]
     },
     "execution_count": 23,
     "metadata": {},
     "output_type": "execute_result"
    }
   ],
   "source": [
    "C"
   ]
  },
  {
   "cell_type": "code",
   "execution_count": 24,
   "id": "32474a8a",
   "metadata": {},
   "outputs": [],
   "source": [
    "D=int(C)"
   ]
  },
  {
   "cell_type": "code",
   "execution_count": 25,
   "id": "2b51dc1f",
   "metadata": {},
   "outputs": [
    {
     "data": {
      "text/plain": [
       "931"
      ]
     },
     "execution_count": 25,
     "metadata": {},
     "output_type": "execute_result"
    }
   ],
   "source": [
    "D"
   ]
  },
  {
   "cell_type": "code",
   "execution_count": 26,
   "id": "53b8db94",
   "metadata": {},
   "outputs": [],
   "source": [
    "E=f\"{D:0{len(B)}d}\""
   ]
  },
  {
   "cell_type": "code",
   "execution_count": 28,
   "id": "c9884205",
   "metadata": {},
   "outputs": [
    {
     "name": "stdout",
     "output_type": "stream",
     "text": [
      "0931\n"
     ]
    }
   ],
   "source": [
    "print(E)"
   ]
  },
  {
   "cell_type": "code",
   "execution_count": 29,
   "id": "3cab01a4",
   "metadata": {},
   "outputs": [
    {
     "data": {
      "text/plain": [
       "str"
      ]
     },
     "execution_count": 29,
     "metadata": {},
     "output_type": "execute_result"
    }
   ],
   "source": [
    "type(E)"
   ]
  },
  {
   "cell_type": "code",
   "execution_count": 30,
   "id": "4616e888",
   "metadata": {},
   "outputs": [
    {
     "ename": "SyntaxError",
     "evalue": "invalid decimal literal (3702700736.py, line 1)",
     "output_type": "error",
     "traceback": [
      "\u001b[1;36m  Cell \u001b[1;32mIn[30], line 1\u001b[1;36m\u001b[0m\n\u001b[1;33m    w=1hile\u001b[0m\n\u001b[1;37m      ^\u001b[0m\n\u001b[1;31mSyntaxError\u001b[0m\u001b[1;31m:\u001b[0m invalid decimal literal\n"
     ]
    }
   ],
   "source": [
    "w=1\n",
    "while "
   ]
  },
  {
   "cell_type": "code",
   "execution_count": null,
   "id": "23b29d30",
   "metadata": {},
   "outputs": [],
   "source": []
  },
  {
   "cell_type": "code",
   "execution_count": null,
   "id": "3d1d84e7",
   "metadata": {},
   "outputs": [],
   "source": [
    "\n",
    "numbers = [0, 1, 2, 3, 10, 15, 22, 33, 100]\n",
    "\n",
    "for number in numbers:\n",
    "    print(f\"{number} is {check_even_odd(number)}\")"
   ]
  },
  {
   "cell_type": "code",
   "execution_count": 44,
   "id": "6e470d95",
   "metadata": {},
   "outputs": [],
   "source": [
    "def check_even_odd(num):\n",
    "    if num %2==0:\n",
    "        return(\"Even\")\n",
    "        \n",
    "    else:\n",
    "        return(\"Odd\")"
   ]
  },
  {
   "cell_type": "code",
   "execution_count": 45,
   "id": "a9f994ed",
   "metadata": {},
   "outputs": [],
   "source": [
    "numbers = [0, 1, 2, 3, 10, 15, 22, 33, 100]"
   ]
  },
  {
   "cell_type": "code",
   "execution_count": 46,
   "id": "b927c416",
   "metadata": {},
   "outputs": [
    {
     "name": "stdout",
     "output_type": "stream",
     "text": [
      "100 is Even\n"
     ]
    }
   ],
   "source": [
    "print(f\"{number} is {check_even_odd(number)}\")"
   ]
  },
  {
   "cell_type": "code",
   "execution_count": 47,
   "id": "9f639ceb",
   "metadata": {},
   "outputs": [
    {
     "name": "stdout",
     "output_type": "stream",
     "text": [
      "0 is Even\n",
      "1 is Odd\n",
      "2 is Even\n",
      "3 is Odd\n",
      "10 is Even\n",
      "15 is Odd\n",
      "22 is Even\n",
      "33 is Odd\n",
      "100 is Even\n"
     ]
    }
   ],
   "source": [
    "for number in numbers:\n",
    "    print(f\"{number} is {check_even_odd(number)}\")"
   ]
  },
  {
   "cell_type": "code",
   "execution_count": null,
   "id": "64fcab84",
   "metadata": {},
   "outputs": [],
   "source": []
  }
 ],
 "metadata": {
  "kernelspec": {
   "display_name": "Python 3 (ipykernel)",
   "language": "python",
   "name": "python3"
  },
  "language_info": {
   "codemirror_mode": {
    "name": "ipython",
    "version": 3
   },
   "file_extension": ".py",
   "mimetype": "text/x-python",
   "name": "python",
   "nbconvert_exporter": "python",
   "pygments_lexer": "ipython3",
   "version": "3.10.9"
  }
 },
 "nbformat": 4,
 "nbformat_minor": 5
}
