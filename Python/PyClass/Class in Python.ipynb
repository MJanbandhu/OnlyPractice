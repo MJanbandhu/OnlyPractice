{
 "cells": [
  {
   "cell_type": "markdown",
   "id": "2114af83",
   "metadata": {},
   "source": [
    "# Class in Python"
   ]
  },
  {
   "cell_type": "code",
   "execution_count": 3,
   "id": "35a85ef7",
   "metadata": {},
   "outputs": [],
   "source": [
    "class Human:\n",
    "    def male(self):\n",
    "        print(\"Short hair\")\n",
    "        \n",
    "    def female(self):\n",
    "        print(\"Long hair\")"
   ]
  },
  {
   "cell_type": "code",
   "execution_count": 4,
   "id": "58276459",
   "metadata": {},
   "outputs": [
    {
     "name": "stdout",
     "output_type": "stream",
     "text": [
      "Short hair\n",
      "Long hair\n"
     ]
    }
   ],
   "source": [
    "person = Human()\n",
    "person.male()    # Output: Short hair\n",
    "person.female()  # Output: Long hair"
   ]
  },
  {
   "cell_type": "code",
   "execution_count": 5,
   "id": "3aac895f",
   "metadata": {},
   "outputs": [
    {
     "name": "stdout",
     "output_type": "stream",
     "text": [
      "Short hair\n"
     ]
    }
   ],
   "source": [
    "person.male()"
   ]
  },
  {
   "cell_type": "code",
   "execution_count": 7,
   "id": "a0ee9a15",
   "metadata": {},
   "outputs": [
    {
     "ename": "TypeError",
     "evalue": "Human.male() missing 1 required positional argument: 'self'",
     "output_type": "error",
     "traceback": [
      "\u001b[1;31m---------------------------------------------------------------------------\u001b[0m",
      "\u001b[1;31mTypeError\u001b[0m                                 Traceback (most recent call last)",
      "Cell \u001b[1;32mIn[7], line 1\u001b[0m\n\u001b[1;32m----> 1\u001b[0m \u001b[43mHuman\u001b[49m\u001b[38;5;241;43m.\u001b[39;49m\u001b[43mmale\u001b[49m\u001b[43m(\u001b[49m\u001b[43m)\u001b[49m\n",
      "\u001b[1;31mTypeError\u001b[0m: Human.male() missing 1 required positional argument: 'self'"
     ]
    }
   ],
   "source": [
    "Human.male()"
   ]
  },
  {
   "cell_type": "code",
   "execution_count": 10,
   "id": "dfabf53a",
   "metadata": {},
   "outputs": [
    {
     "ename": "NameError",
     "evalue": "name 'male' is not defined",
     "output_type": "error",
     "traceback": [
      "\u001b[1;31m---------------------------------------------------------------------------\u001b[0m",
      "\u001b[1;31mNameError\u001b[0m                                 Traceback (most recent call last)",
      "Cell \u001b[1;32mIn[10], line 1\u001b[0m\n\u001b[1;32m----> 1\u001b[0m \u001b[43mmale\u001b[49m\u001b[38;5;241m.\u001b[39mHuman()\n",
      "\u001b[1;31mNameError\u001b[0m: name 'male' is not defined"
     ]
    }
   ],
   "source": [
    "male.Human()"
   ]
  },
  {
   "cell_type": "code",
   "execution_count": 14,
   "id": "b92c4cf6",
   "metadata": {},
   "outputs": [],
   "source": [
    "class human:\n",
    "    def male():\n",
    "        print(\"Short hair\")\n",
    "        \n",
    "    def female():\n",
    "        print(\"Long hair\")"
   ]
  },
  {
   "cell_type": "code",
   "execution_count": 15,
   "id": "0e78fd7c",
   "metadata": {},
   "outputs": [
    {
     "name": "stdout",
     "output_type": "stream",
     "text": [
      "Short hair\n"
     ]
    }
   ],
   "source": [
    "human.male()"
   ]
  },
  {
   "cell_type": "code",
   "execution_count": null,
   "id": "be68f41c",
   "metadata": {},
   "outputs": [],
   "source": [
    "people=human()"
   ]
  }
 ],
 "metadata": {
  "kernelspec": {
   "display_name": "Python 3 (ipykernel)",
   "language": "python",
   "name": "python3"
  },
  "language_info": {
   "codemirror_mode": {
    "name": "ipython",
    "version": 3
   },
   "file_extension": ".py",
   "mimetype": "text/x-python",
   "name": "python",
   "nbconvert_exporter": "python",
   "pygments_lexer": "ipython3",
   "version": "3.10.9"
  }
 },
 "nbformat": 4,
 "nbformat_minor": 5
}
