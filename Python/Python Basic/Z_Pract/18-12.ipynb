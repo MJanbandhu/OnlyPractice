{
 "cells": [
  {
   "cell_type": "markdown",
   "id": "d6cbaf21",
   "metadata": {},
   "source": [
    "# Basic Python"
   ]
  },
  {
   "cell_type": "code",
   "execution_count": 3,
   "id": "45166ba9",
   "metadata": {},
   "outputs": [],
   "source": [
    "import keyword"
   ]
  },
  {
   "cell_type": "code",
   "execution_count": 12,
   "id": "7374beb6",
   "metadata": {},
   "outputs": [
    {
     "data": {
      "text/plain": [
       "47"
      ]
     },
     "execution_count": 12,
     "metadata": {},
     "output_type": "execute_result"
    }
   ],
   "source": [
    "len(dir(keyword.kwlist))"
   ]
  },
  {
   "cell_type": "code",
   "execution_count": 19,
   "id": "94ade5e2",
   "metadata": {},
   "outputs": [],
   "source": [
    "from datetime import datetime\n",
    "now=datetime.now()"
   ]
  },
  {
   "cell_type": "code",
   "execution_count": 20,
   "id": "ba52dbf6",
   "metadata": {},
   "outputs": [
    {
     "data": {
      "text/plain": [
       "datetime.datetime(2024, 12, 18, 23, 16, 22, 305020)"
      ]
     },
     "execution_count": 20,
     "metadata": {},
     "output_type": "execute_result"
    }
   ],
   "source": [
    "now"
   ]
  },
  {
   "cell_type": "code",
   "execution_count": 21,
   "id": "2602be1d",
   "metadata": {},
   "outputs": [
    {
     "data": {
      "text/plain": [
       "datetime.datetime(2024, 12, 18, 23, 16, 22, 305020)"
      ]
     },
     "execution_count": 21,
     "metadata": {},
     "output_type": "execute_result"
    }
   ],
   "source": [
    "now"
   ]
  },
  {
   "cell_type": "code",
   "execution_count": 24,
   "id": "fc3aad1e",
   "metadata": {},
   "outputs": [],
   "source": [
    "from datetime import datetime\n",
    "\n",
    "noww=datetime.now()"
   ]
  },
  {
   "cell_type": "code",
   "execution_count": 25,
   "id": "a243fc39",
   "metadata": {},
   "outputs": [
    {
     "data": {
      "text/plain": [
       "datetime.datetime(2024, 12, 18, 23, 17, 55, 157659)"
      ]
     },
     "execution_count": 25,
     "metadata": {},
     "output_type": "execute_result"
    }
   ],
   "source": [
    "noww"
   ]
  },
  {
   "cell_type": "code",
   "execution_count": 26,
   "id": "97930138",
   "metadata": {},
   "outputs": [],
   "source": [
    "time=now.time()"
   ]
  },
  {
   "cell_type": "code",
   "execution_count": 27,
   "id": "cfb39e4a",
   "metadata": {},
   "outputs": [
    {
     "data": {
      "text/plain": [
       "datetime.time(23, 16, 22, 305020)"
      ]
     },
     "execution_count": 27,
     "metadata": {},
     "output_type": "execute_result"
    }
   ],
   "source": [
    "time"
   ]
  },
  {
   "cell_type": "code",
   "execution_count": 29,
   "id": "f00450c5",
   "metadata": {},
   "outputs": [
    {
     "name": "stdout",
     "output_type": "stream",
     "text": [
      "47\n"
     ]
    }
   ],
   "source": [
    "import keyword\n",
    "print(len(dir(keyword.kwlist)))"
   ]
  },
  {
   "cell_type": "code",
   "execution_count": 39,
   "id": "5aaf0968",
   "metadata": {},
   "outputs": [],
   "source": [
    "list1=[]\n",
    "tup1=()\n",
    "set1={1}\n",
    "dict1={ }"
   ]
  },
  {
   "cell_type": "code",
   "execution_count": 40,
   "id": "26d925e5",
   "metadata": {},
   "outputs": [
    {
     "name": "stdout",
     "output_type": "stream",
     "text": [
      "<class 'list'>\n",
      "<class 'tuple'>\n",
      "<class 'set'>\n",
      "<class 'dict'>\n"
     ]
    }
   ],
   "source": [
    "print(type(list1))\n",
    "print(type(tup1))\n",
    "print(type(set1))\n",
    "print(type(dict1))"
   ]
  },
  {
   "cell_type": "code",
   "execution_count": null,
   "id": "8b7c5fbe",
   "metadata": {},
   "outputs": [],
   "source": []
  }
 ],
 "metadata": {
  "kernelspec": {
   "display_name": "Python 3 (ipykernel)",
   "language": "python",
   "name": "python3"
  },
  "language_info": {
   "codemirror_mode": {
    "name": "ipython",
    "version": 3
   },
   "file_extension": ".py",
   "mimetype": "text/x-python",
   "name": "python",
   "nbconvert_exporter": "python",
   "pygments_lexer": "ipython3",
   "version": "3.10.9"
  }
 },
 "nbformat": 4,
 "nbformat_minor": 5
}
