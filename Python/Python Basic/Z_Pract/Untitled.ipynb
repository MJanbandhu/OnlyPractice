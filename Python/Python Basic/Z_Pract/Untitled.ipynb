{
 "cells": [
  {
   "cell_type": "code",
   "execution_count": 1,
   "id": "1541a79f",
   "metadata": {},
   "outputs": [],
   "source": [
    "m=\"Mohit Janbandhu 1234\""
   ]
  },
  {
   "cell_type": "code",
   "execution_count": 2,
   "id": "13b2fd05",
   "metadata": {},
   "outputs": [],
   "source": [
    "Vowels='aeiouAEIOU'"
   ]
  },
  {
   "cell_type": "code",
   "execution_count": 3,
   "id": "4b1eccd9",
   "metadata": {},
   "outputs": [
    {
     "name": "stdout",
     "output_type": "stream",
     "text": [
      "o i a a u "
     ]
    }
   ],
   "source": [
    "for char in m:\n",
    "    if char in Vowels:\n",
    "        print(char,end=' ')"
   ]
  },
  {
   "cell_type": "code",
   "execution_count": 4,
   "id": "ea03e4db",
   "metadata": {},
   "outputs": [
    {
     "ename": "TypeError",
     "evalue": "'int' object is not iterable",
     "output_type": "error",
     "traceback": [
      "\u001b[1;31m---------------------------------------------------------------------------\u001b[0m",
      "\u001b[1;31mTypeError\u001b[0m                                 Traceback (most recent call last)",
      "Cell \u001b[1;32mIn[4], line 7\u001b[0m\n\u001b[0;32m      5\u001b[0m \u001b[38;5;28;01mfor\u001b[39;00m char \u001b[38;5;129;01min\u001b[39;00m m:\n\u001b[0;32m      6\u001b[0m     \u001b[38;5;28;01mif\u001b[39;00m char\u001b[38;5;241m.\u001b[39misupper():\n\u001b[1;32m----> 7\u001b[0m         upper_case \u001b[38;5;241m+\u001b[39m\u001b[38;5;241m=\u001b[39m\u001b[38;5;241m1\u001b[39m\n\u001b[0;32m      8\u001b[0m     \u001b[38;5;28;01melif\u001b[39;00m char\u001b[38;5;241m.\u001b[39mislower():\n\u001b[0;32m      9\u001b[0m         lower_case \u001b[38;5;241m+\u001b[39m\u001b[38;5;241m=\u001b[39m\u001b[38;5;241m1\u001b[39m\n",
      "\u001b[1;31mTypeError\u001b[0m: 'int' object is not iterable"
     ]
    }
   ],
   "source": [
    "m=\"Mohit Janbandhu 1234\"\n",
    "upper_case=[]\n",
    "lower_case=[]\n",
    "digits=[]\n",
    "for char in m:\n",
    "    if char.isupper():\n",
    "        upper_case +=1\n",
    "    elif char.islower():\n",
    "        lower_case +=1\n",
    "    elif char.isdigit():\n",
    "        digits +=1\n",
    "        \n",
    "print(\"Upper Latters are {}, Lower Latters are {} and digits are {}\".format(upper_case,lower_case,digits))"
   ]
  },
  {
   "cell_type": "code",
   "execution_count": 6,
   "id": "e2eef1a0",
   "metadata": {},
   "outputs": [
    {
     "name": "stdout",
     "output_type": "stream",
     "text": [
      "Upper Latters are 2, Lower Latters are 12 and digits are 4\n"
     ]
    }
   ],
   "source": [
    "m=\"Mohit Janbandhu 1234\"\n",
    "upper_case=0\n",
    "lower_case=0\n",
    "digits=0\n",
    "for char in m:\n",
    "    if char.isupper():\n",
    "        upper_case +=1\n",
    "    elif char.islower():\n",
    "        lower_case +=1\n",
    "    elif char.isdigit():\n",
    "        digits +=1\n",
    "        \n",
    "print(\"Upper Latters are {}, Lower Latters are {} and digits are {}\".format(upper_case,lower_case,digits))"
   ]
  },
  {
   "cell_type": "code",
   "execution_count": 7,
   "id": "68f29b5e",
   "metadata": {},
   "outputs": [],
   "source": [
    "string='Hello World using python'\n",
    "data=string.split()"
   ]
  },
  {
   "cell_type": "code",
   "execution_count": 8,
   "id": "d7ef65c5",
   "metadata": {},
   "outputs": [],
   "source": [
    "data_d=data[::-1]\n",
    "my_str=' '.join(data_d)"
   ]
  },
  {
   "cell_type": "code",
   "execution_count": 9,
   "id": "710835ae",
   "metadata": {},
   "outputs": [
    {
     "name": "stdout",
     "output_type": "stream",
     "text": [
      "python using World Hello\n"
     ]
    }
   ],
   "source": [
    "print(my_str)"
   ]
  },
  {
   "cell_type": "code",
   "execution_count": 14,
   "id": "dc7736ae",
   "metadata": {},
   "outputs": [],
   "source": [
    "list1=[2,5,6,4,8,9,9,7,3,4,4,12,4,5]\n",
    "M=map(lambda ev_od: 'even' if ev_od%2==0 else 'odd',list1)"
   ]
  },
  {
   "cell_type": "code",
   "execution_count": 15,
   "id": "2323bdf6",
   "metadata": {},
   "outputs": [
    {
     "name": "stdout",
     "output_type": "stream",
     "text": [
      "['even', 'odd', 'even', 'even', 'even', 'odd', 'odd', 'odd', 'odd', 'even', 'even', 'even', 'even', 'odd']\n"
     ]
    }
   ],
   "source": [
    "print(list(M))"
   ]
  },
  {
   "cell_type": "code",
   "execution_count": 16,
   "id": "ef7d00ba",
   "metadata": {},
   "outputs": [],
   "source": [
    "z=lambda a: a+6"
   ]
  },
  {
   "cell_type": "code",
   "execution_count": 17,
   "id": "f2e41e65",
   "metadata": {},
   "outputs": [
    {
     "name": "stdout",
     "output_type": "stream",
     "text": [
      "11\n"
     ]
    }
   ],
   "source": [
    "print(z(5))"
   ]
  },
  {
   "cell_type": "code",
   "execution_count": 20,
   "id": "fbe59702",
   "metadata": {},
   "outputs": [
    {
     "name": "stdout",
     "output_type": "stream",
     "text": [
      " Enter Any No. for checking whether even or odd 5\n",
      "5 is Odd number\n"
     ]
    }
   ],
   "source": [
    "num_input=int(input(\" Enter Any No. for checking whether even or odd \"))\n",
    "\n",
    "if num_input%2==0:\n",
    "    print(\"{} is Even Number \".format(num_input))\n",
    "    \n",
    "else:\n",
    "    print('{} is Odd number'.format(num_input))"
   ]
  },
  {
   "cell_type": "code",
   "execution_count": 27,
   "id": "f4f76be8",
   "metadata": {},
   "outputs": [
    {
     "name": "stdout",
     "output_type": "stream",
     "text": [
      " Enter Any No. for checking whether even or odd 8\n",
      "8 is Even Number \n",
      " Enter Any No. for checking whether even or odd 7\n",
      "7 is Odd number\n",
      " Enter Any No. for checking whether even or odd 7\n",
      "7 is Odd number\n"
     ]
    }
   ],
   "source": [
    "Counter=0\n",
    "while Counter<3:\n",
    "    num_input=int(input(\" Enter Any No. for checking whether even or odd \"))\n",
    "    if num_input%2==0:\n",
    "        print(\"{} is Even Number \".format(num_input))\n",
    "    \n",
    "    else:\n",
    "        print('{} is Odd number'.format(num_input))\n",
    "    \n",
    "    \n",
    "    Counter +=1"
   ]
  },
  {
   "cell_type": "code",
   "execution_count": 28,
   "id": "679aefcb",
   "metadata": {},
   "outputs": [
    {
     "name": "stdout",
     "output_type": "stream",
     "text": [
      "Enter any number to check if it's even or odd: 1\n",
      "1 is an Odd Number\n",
      "Enter any number to check if it's even or odd: 11\n",
      "11 is an Odd Number\n",
      "Enter any number to check if it's even or odd: 21\n",
      "21 is an Odd Number\n"
     ]
    }
   ],
   "source": [
    "Counter = 0\n",
    "while Counter < 3:\n",
    "    num_input = int(input(\"Enter any number to check if it's even or odd: \"))\n",
    "    if num_input % 2 == 0:\n",
    "        print(\"{} is an Even Number\".format(num_input))\n",
    "    else:\n",
    "        print(\"{} is an Odd Number\".format(num_input))\n",
    "    Counter += 1"
   ]
  },
  {
   "cell_type": "code",
   "execution_count": 1,
   "id": "99cef2ac",
   "metadata": {},
   "outputs": [
    {
     "name": "stdout",
     "output_type": "stream",
     "text": [
      "0\n",
      "1\n",
      "2\n",
      "3\n",
      "4\n",
      "5\n"
     ]
    }
   ],
   "source": [
    "i=0\n",
    "while i<6:\n",
    "    print(i)\n",
    "    i=i+1"
   ]
  },
  {
   "cell_type": "code",
   "execution_count": 1,
   "id": "c3a12472",
   "metadata": {},
   "outputs": [
    {
     "name": "stdout",
     "output_type": "stream",
     "text": [
      "1\n",
      "2\n",
      "3\n",
      "4\n",
      "5\n"
     ]
    }
   ],
   "source": [
    "i = 1\n",
    "while i < 6:\n",
    "  print(i)\n",
    "  i += 1"
   ]
  },
  {
   "cell_type": "code",
   "execution_count": 16,
   "id": "e3a72ef9",
   "metadata": {},
   "outputs": [],
   "source": [
    "for i in range(10, 100, -1):\n",
    "    print(i)"
   ]
  },
  {
   "cell_type": "code",
   "execution_count": 17,
   "id": "90baf1ee",
   "metadata": {},
   "outputs": [
    {
     "name": "stdout",
     "output_type": "stream",
     "text": [
      "10\n",
      "12\n",
      "14\n",
      "16\n",
      "18\n",
      "20\n",
      "22\n",
      "24\n",
      "26\n",
      "28\n",
      "30\n",
      "32\n",
      "34\n",
      "36\n",
      "38\n",
      "40\n",
      "42\n",
      "44\n",
      "46\n",
      "48\n",
      "50\n"
     ]
    }
   ],
   "source": [
    "for i in range(10,51,2):\n",
    "    print(i)"
   ]
  },
  {
   "cell_type": "code",
   "execution_count": 22,
   "id": "09de9a50",
   "metadata": {},
   "outputs": [
    {
     "name": "stdout",
     "output_type": "stream",
     "text": [
      "50\n",
      "49\n",
      "48\n",
      "47\n",
      "46\n",
      "45\n",
      "44\n",
      "43\n",
      "42\n",
      "41\n",
      "40\n",
      "39\n",
      "38\n",
      "37\n",
      "36\n",
      "35\n",
      "34\n",
      "33\n",
      "32\n",
      "31\n",
      "30\n",
      "29\n",
      "28\n",
      "27\n",
      "26\n",
      "25\n",
      "24\n",
      "23\n",
      "22\n",
      "21\n",
      "20\n",
      "19\n",
      "18\n",
      "17\n",
      "16\n",
      "15\n",
      "14\n",
      "13\n",
      "12\n",
      "11\n",
      "10\n"
     ]
    }
   ],
   "source": [
    "for i in range(50, 9, -1):\n",
    "    print(i)"
   ]
  },
  {
   "cell_type": "code",
   "execution_count": 18,
   "id": "42734f70",
   "metadata": {},
   "outputs": [],
   "source": [
    "for i in range(10, 100, -1):\n",
    "    print(i)"
   ]
  },
  {
   "cell_type": "code",
   "execution_count": 21,
   "id": "529db93a",
   "metadata": {},
   "outputs": [],
   "source": [
    "for i in range(10, 101, -1):\n",
    "    print(i)"
   ]
  },
  {
   "cell_type": "code",
   "execution_count": null,
   "id": "5ba8bc3f",
   "metadata": {},
   "outputs": [],
   "source": []
  },
  {
   "cell_type": "code",
   "execution_count": null,
   "id": "9cf15f2f",
   "metadata": {},
   "outputs": [],
   "source": []
  },
  {
   "cell_type": "code",
   "execution_count": null,
   "id": "df6a39ee",
   "metadata": {},
   "outputs": [],
   "source": []
  },
  {
   "cell_type": "code",
   "execution_count": null,
   "id": "5e282abc",
   "metadata": {},
   "outputs": [],
   "source": []
  },
  {
   "cell_type": "code",
   "execution_count": null,
   "id": "667c44be",
   "metadata": {},
   "outputs": [],
   "source": []
  },
  {
   "cell_type": "code",
   "execution_count": null,
   "id": "640dec77",
   "metadata": {},
   "outputs": [],
   "source": []
  },
  {
   "cell_type": "code",
   "execution_count": null,
   "id": "8f0f6206",
   "metadata": {},
   "outputs": [],
   "source": []
  },
  {
   "cell_type": "code",
   "execution_count": null,
   "id": "6127ccbe",
   "metadata": {},
   "outputs": [],
   "source": []
  },
  {
   "cell_type": "code",
   "execution_count": 1,
   "id": "a61c8ff2",
   "metadata": {},
   "outputs": [],
   "source": [
    "m='Mohit Janbandhu'"
   ]
  },
  {
   "cell_type": "code",
   "execution_count": 3,
   "id": "650bbc4f",
   "metadata": {},
   "outputs": [
    {
     "data": {
      "text/plain": [
       "'a'"
      ]
     },
     "execution_count": 3,
     "metadata": {},
     "output_type": "execute_result"
    }
   ],
   "source": [
    "m[7]"
   ]
  },
  {
   "cell_type": "code",
   "execution_count": 7,
   "id": "86cc2adb",
   "metadata": {},
   "outputs": [
    {
     "data": {
      "text/plain": [
       "2"
      ]
     },
     "execution_count": 7,
     "metadata": {},
     "output_type": "execute_result"
    }
   ],
   "source": [
    "m.index('h')"
   ]
  },
  {
   "cell_type": "code",
   "execution_count": 8,
   "id": "a6f68c67",
   "metadata": {},
   "outputs": [
    {
     "data": {
      "text/plain": [
       "2"
      ]
     },
     "execution_count": 8,
     "metadata": {},
     "output_type": "execute_result"
    }
   ],
   "source": [
    "m.count('a')"
   ]
  },
  {
   "cell_type": "markdown",
   "id": "1145d3fb",
   "metadata": {},
   "source": []
  },
  {
   "cell_type": "code",
   "execution_count": 10,
   "id": "b4b48f72",
   "metadata": {},
   "outputs": [
    {
     "data": {
      "text/plain": [
       "True"
      ]
     },
     "execution_count": 10,
     "metadata": {},
     "output_type": "execute_result"
    }
   ],
   "source": [
    "m.startswith('Mo')"
   ]
  },
  {
   "cell_type": "code",
   "execution_count": 11,
   "id": "966a0f11",
   "metadata": {},
   "outputs": [
    {
     "data": {
      "text/plain": [
       "True"
      ]
     },
     "execution_count": 11,
     "metadata": {},
     "output_type": "execute_result"
    }
   ],
   "source": [
    "m.endswith('u')"
   ]
  },
  {
   "cell_type": "code",
   "execution_count": 12,
   "id": "763680ae",
   "metadata": {},
   "outputs": [
    {
     "data": {
      "text/plain": [
       "('Mohit J', 'an', 'bandhu')"
      ]
     },
     "execution_count": 12,
     "metadata": {},
     "output_type": "execute_result"
    }
   ],
   "source": [
    "m.partition('an')"
   ]
  },
  {
   "cell_type": "code",
   "execution_count": 13,
   "id": "81aff73a",
   "metadata": {},
   "outputs": [
    {
     "data": {
      "text/plain": [
       "'b'"
      ]
     },
     "execution_count": 13,
     "metadata": {},
     "output_type": "execute_result"
    }
   ],
   "source": [
    "m[9]"
   ]
  },
  {
   "cell_type": "code",
   "execution_count": 14,
   "id": "89619003",
   "metadata": {},
   "outputs": [
    {
     "data": {
      "text/plain": [
       "'u'"
      ]
     },
     "execution_count": 14,
     "metadata": {},
     "output_type": "execute_result"
    }
   ],
   "source": [
    "m[-1]"
   ]
  },
  {
   "cell_type": "code",
   "execution_count": 17,
   "id": "4fe8cb77",
   "metadata": {},
   "outputs": [
    {
     "data": {
      "text/plain": [
       "'hit Jan'"
      ]
     },
     "execution_count": 17,
     "metadata": {},
     "output_type": "execute_result"
    }
   ],
   "source": [
    "m[2:9]"
   ]
  },
  {
   "cell_type": "code",
   "execution_count": 16,
   "id": "2db54fbd",
   "metadata": {},
   "outputs": [
    {
     "data": {
      "text/plain": [
       "'Mohit Janbandhu'"
      ]
     },
     "execution_count": 16,
     "metadata": {},
     "output_type": "execute_result"
    }
   ],
   "source": [
    "m"
   ]
  },
  {
   "cell_type": "code",
   "execution_count": 18,
   "id": "587c6464",
   "metadata": {},
   "outputs": [
    {
     "data": {
      "text/plain": [
       "'uhdnabnaJ tihoM'"
      ]
     },
     "execution_count": 18,
     "metadata": {},
     "output_type": "execute_result"
    }
   ],
   "source": [
    "m[::-1]"
   ]
  },
  {
   "cell_type": "code",
   "execution_count": 19,
   "id": "dc8a748e",
   "metadata": {},
   "outputs": [],
   "source": [
    "myword = \"Aeroplane\""
   ]
  },
  {
   "cell_type": "code",
   "execution_count": 21,
   "id": "5ac4225c",
   "metadata": {},
   "outputs": [
    {
     "data": {
      "text/plain": [
       "'alpor'"
      ]
     },
     "execution_count": 21,
     "metadata": {},
     "output_type": "execute_result"
    }
   ],
   "source": [
    "myword[-3:-8:-1]"
   ]
  },
  {
   "cell_type": "code",
   "execution_count": 23,
   "id": "eb7f71df",
   "metadata": {},
   "outputs": [
    {
     "data": {
      "text/plain": [
       "'alpo'"
      ]
     },
     "execution_count": 23,
     "metadata": {},
     "output_type": "execute_result"
    }
   ],
   "source": [
    "myword[-3:-7:-1]"
   ]
  },
  {
   "cell_type": "code",
   "execution_count": null,
   "id": "bd36e98b",
   "metadata": {},
   "outputs": [],
   "source": []
  },
  {
   "cell_type": "code",
   "execution_count": null,
   "id": "025ba472",
   "metadata": {},
   "outputs": [],
   "source": [
    "myword = \"Aeroplane\"\n",
    "# fetch \"A\" from myword\n",
    "print(myword[0])\n",
    "# fetch \"eroplan\" from myword\n",
    "print(myword[1:8:1])\n",
    "# fetch \"eoln\" from myword\n",
    "print(myword[1:8:2])\n",
    "# fetch \"epn\" from myword\n",
    "print(myword[1:8:3])\n",
    "# fetch \"alpor\" from myword\n",
    "print(myword[-3:-8:-1])"
   ]
  },
  {
   "cell_type": "code",
   "execution_count": null,
   "id": "0f959ea3",
   "metadata": {},
   "outputs": [],
   "source": []
  },
  {
   "cell_type": "code",
   "execution_count": 24,
   "id": "339d79ab",
   "metadata": {},
   "outputs": [
    {
     "data": {
      "text/plain": [
       "'mohit Janbandhu'"
      ]
     },
     "execution_count": 24,
     "metadata": {},
     "output_type": "execute_result"
    }
   ],
   "source": [
    "m.replace(\"M\",'m')"
   ]
  },
  {
   "cell_type": "code",
   "execution_count": 25,
   "id": "9c6acbe7",
   "metadata": {},
   "outputs": [],
   "source": [
    "a = m.strip()"
   ]
  },
  {
   "cell_type": "code",
   "execution_count": 26,
   "id": "b15b21d7",
   "metadata": {},
   "outputs": [
    {
     "data": {
      "text/plain": [
       "'Mohit Janbandhu'"
      ]
     },
     "execution_count": 26,
     "metadata": {},
     "output_type": "execute_result"
    }
   ],
   "source": [
    "a"
   ]
  },
  {
   "cell_type": "code",
   "execution_count": 27,
   "id": "3a575d9b",
   "metadata": {},
   "outputs": [
    {
     "data": {
      "text/plain": [
       "'Mohit Janbandhu'"
      ]
     },
     "execution_count": 27,
     "metadata": {},
     "output_type": "execute_result"
    }
   ],
   "source": [
    "m"
   ]
  },
  {
   "cell_type": "code",
   "execution_count": null,
   "id": "7adc806a",
   "metadata": {},
   "outputs": [],
   "source": []
  },
  {
   "cell_type": "code",
   "execution_count": null,
   "id": "af42d790",
   "metadata": {},
   "outputs": [],
   "source": []
  },
  {
   "cell_type": "code",
   "execution_count": null,
   "id": "cb1db2c4",
   "metadata": {},
   "outputs": [],
   "source": [
    "class student:\n",
    "    def "
   ]
  },
  {
   "cell_type": "code",
   "execution_count": null,
   "id": "cbcb2578",
   "metadata": {},
   "outputs": [],
   "source": []
  },
  {
   "cell_type": "code",
   "execution_count": 34,
   "id": "a27cd9ff",
   "metadata": {},
   "outputs": [
    {
     "name": "stdout",
     "output_type": "stream",
     "text": [
      "11\n",
      "10\n",
      "9\n",
      "8\n",
      "7\n",
      "6\n",
      "5\n",
      "4\n",
      "3\n",
      "2\n"
     ]
    }
   ],
   "source": [
    "for i in range (11,1,-1):\n",
    "    print(i)"
   ]
  },
  {
   "cell_type": "code",
   "execution_count": 36,
   "id": "67eb34f6",
   "metadata": {},
   "outputs": [],
   "source": [
    "j=514890"
   ]
  },
  {
   "cell_type": "code",
   "execution_count": 37,
   "id": "ac3a5568",
   "metadata": {},
   "outputs": [],
   "source": [
    "k=654544984"
   ]
  },
  {
   "cell_type": "code",
   "execution_count": null,
   "id": "b3c4b79b",
   "metadata": {},
   "outputs": [],
   "source": []
  },
  {
   "cell_type": "code",
   "execution_count": 57,
   "id": "b0f0244f",
   "metadata": {},
   "outputs": [],
   "source": [
    "class human:\n",
    "    def male (self):\n",
    "        print(\"Short hair\")\n",
    "        \n",
    "    def female (self):\n",
    "        print(\"Long Hair\")\n",
    "p1=human()"
   ]
  },
  {
   "cell_type": "code",
   "execution_count": 59,
   "id": "82c0a046",
   "metadata": {},
   "outputs": [
    {
     "name": "stdout",
     "output_type": "stream",
     "text": [
      "Short hair\n"
     ]
    }
   ],
   "source": [
    "p1.male()"
   ]
  },
  {
   "cell_type": "code",
   "execution_count": null,
   "id": "97efdc08",
   "metadata": {},
   "outputs": [],
   "source": []
  },
  {
   "cell_type": "code",
   "execution_count": null,
   "id": "9741fd05",
   "metadata": {},
   "outputs": [],
   "source": []
  },
  {
   "cell_type": "code",
   "execution_count": null,
   "id": "6174b80a",
   "metadata": {},
   "outputs": [],
   "source": []
  },
  {
   "cell_type": "code",
   "execution_count": null,
   "id": "1250dc94",
   "metadata": {},
   "outputs": [],
   "source": []
  },
  {
   "cell_type": "code",
   "execution_count": null,
   "id": "dd3986fc",
   "metadata": {},
   "outputs": [],
   "source": []
  },
  {
   "cell_type": "code",
   "execution_count": null,
   "id": "c441915c",
   "metadata": {},
   "outputs": [],
   "source": []
  },
  {
   "cell_type": "code",
   "execution_count": null,
   "id": "28c06325",
   "metadata": {},
   "outputs": [],
   "source": []
  },
  {
   "cell_type": "code",
   "execution_count": null,
   "id": "1de5fbe1",
   "metadata": {},
   "outputs": [],
   "source": []
  },
  {
   "cell_type": "code",
   "execution_count": null,
   "id": "e75bf767",
   "metadata": {},
   "outputs": [],
   "source": []
  },
  {
   "cell_type": "code",
   "execution_count": null,
   "id": "29cebc67",
   "metadata": {},
   "outputs": [],
   "source": []
  },
  {
   "cell_type": "code",
   "execution_count": null,
   "id": "660b8942",
   "metadata": {},
   "outputs": [],
   "source": []
  },
  {
   "cell_type": "code",
   "execution_count": null,
   "id": "9fa4d8de",
   "metadata": {},
   "outputs": [],
   "source": []
  },
  {
   "cell_type": "code",
   "execution_count": null,
   "id": "aff2e1b4",
   "metadata": {},
   "outputs": [],
   "source": []
  },
  {
   "cell_type": "code",
   "execution_count": null,
   "id": "db9f15a8",
   "metadata": {},
   "outputs": [],
   "source": []
  },
  {
   "cell_type": "code",
   "execution_count": null,
   "id": "acd66744",
   "metadata": {},
   "outputs": [],
   "source": []
  },
  {
   "cell_type": "code",
   "execution_count": null,
   "id": "bd4cdad1",
   "metadata": {},
   "outputs": [],
   "source": []
  },
  {
   "cell_type": "code",
   "execution_count": null,
   "id": "7f3e2333",
   "metadata": {},
   "outputs": [],
   "source": []
  },
  {
   "cell_type": "code",
   "execution_count": null,
   "id": "9316c815",
   "metadata": {},
   "outputs": [],
   "source": []
  },
  {
   "cell_type": "code",
   "execution_count": null,
   "id": "e5adcff8",
   "metadata": {},
   "outputs": [],
   "source": []
  },
  {
   "cell_type": "code",
   "execution_count": 40,
   "id": "459de842",
   "metadata": {},
   "outputs": [
    {
     "data": {
      "text/plain": [
       "int"
      ]
     },
     "execution_count": 40,
     "metadata": {},
     "output_type": "execute_result"
    }
   ],
   "source": [
    "type(k)"
   ]
  },
  {
   "cell_type": "code",
   "execution_count": 42,
   "id": "e3d49549",
   "metadata": {},
   "outputs": [
    {
     "data": {
      "text/plain": [
       "int"
      ]
     },
     "execution_count": 42,
     "metadata": {},
     "output_type": "execute_result"
    }
   ],
   "source": [
    "type(j)"
   ]
  },
  {
   "cell_type": "code",
   "execution_count": 43,
   "id": "2aa68139",
   "metadata": {},
   "outputs": [],
   "source": [
    "n=str(j)"
   ]
  },
  {
   "cell_type": "code",
   "execution_count": 46,
   "id": "f9bfbc4c",
   "metadata": {},
   "outputs": [
    {
     "data": {
      "text/plain": [
       "'098415'"
      ]
     },
     "execution_count": 46,
     "metadata": {},
     "output_type": "execute_result"
    }
   ],
   "source": [
    "n[::-1]"
   ]
  },
  {
   "cell_type": "code",
   "execution_count": 47,
   "id": "9cff75d4",
   "metadata": {},
   "outputs": [],
   "source": [
    "# Define the list\n",
    "my_list = [10, 23, 5, 67, 34, 89, 2]"
   ]
  },
  {
   "cell_type": "code",
   "execution_count": 50,
   "id": "3d80218f",
   "metadata": {},
   "outputs": [
    {
     "data": {
      "text/plain": [
       "2"
      ]
     },
     "execution_count": 50,
     "metadata": {},
     "output_type": "execute_result"
    }
   ],
   "source": [
    "min(my_list)"
   ]
  },
  {
   "cell_type": "code",
   "execution_count": 51,
   "id": "1d2726ed",
   "metadata": {},
   "outputs": [
    {
     "data": {
      "text/plain": [
       "89"
      ]
     },
     "execution_count": 51,
     "metadata": {},
     "output_type": "execute_result"
    }
   ],
   "source": [
    "max(my_list)"
   ]
  },
  {
   "cell_type": "code",
   "execution_count": 52,
   "id": "8b487aba",
   "metadata": {},
   "outputs": [
    {
     "data": {
      "text/plain": [
       "230"
      ]
     },
     "execution_count": 52,
     "metadata": {},
     "output_type": "execute_result"
    }
   ],
   "source": [
    "sum(my_list)"
   ]
  },
  {
   "cell_type": "code",
   "execution_count": null,
   "id": "130b2f3d",
   "metadata": {},
   "outputs": [],
   "source": []
  }
 ],
 "metadata": {
  "kernelspec": {
   "display_name": "Python 3 (ipykernel)",
   "language": "python",
   "name": "python3"
  },
  "language_info": {
   "codemirror_mode": {
    "name": "ipython",
    "version": 3
   },
   "file_extension": ".py",
   "mimetype": "text/x-python",
   "name": "python",
   "nbconvert_exporter": "python",
   "pygments_lexer": "ipython3",
   "version": "3.10.9"
  }
 },
 "nbformat": 4,
 "nbformat_minor": 5
}
