{
 "cells": [
  {
   "cell_type": "code",
   "execution_count": 1,
   "id": "1541a79f",
   "metadata": {},
   "outputs": [],
   "source": [
    "m=\"Mohit Janbandhu 1234\""
   ]
  },
  {
   "cell_type": "code",
   "execution_count": 2,
   "id": "13b2fd05",
   "metadata": {},
   "outputs": [],
   "source": [
    "Vowels='aeiouAEIOU'"
   ]
  },
  {
   "cell_type": "code",
   "execution_count": 3,
   "id": "4b1eccd9",
   "metadata": {},
   "outputs": [
    {
     "name": "stdout",
     "output_type": "stream",
     "text": [
      "o i a a u "
     ]
    }
   ],
   "source": [
    "for char in m:\n",
    "    if char in Vowels:\n",
    "        print(char,end=' ')"
   ]
  },
  {
   "cell_type": "code",
   "execution_count": 4,
   "id": "ea03e4db",
   "metadata": {},
   "outputs": [
    {
     "ename": "TypeError",
     "evalue": "'int' object is not iterable",
     "output_type": "error",
     "traceback": [
      "\u001b[1;31m---------------------------------------------------------------------------\u001b[0m",
      "\u001b[1;31mTypeError\u001b[0m                                 Traceback (most recent call last)",
      "Cell \u001b[1;32mIn[4], line 7\u001b[0m\n\u001b[0;32m      5\u001b[0m \u001b[38;5;28;01mfor\u001b[39;00m char \u001b[38;5;129;01min\u001b[39;00m m:\n\u001b[0;32m      6\u001b[0m     \u001b[38;5;28;01mif\u001b[39;00m char\u001b[38;5;241m.\u001b[39misupper():\n\u001b[1;32m----> 7\u001b[0m         upper_case \u001b[38;5;241m+\u001b[39m\u001b[38;5;241m=\u001b[39m\u001b[38;5;241m1\u001b[39m\n\u001b[0;32m      8\u001b[0m     \u001b[38;5;28;01melif\u001b[39;00m char\u001b[38;5;241m.\u001b[39mislower():\n\u001b[0;32m      9\u001b[0m         lower_case \u001b[38;5;241m+\u001b[39m\u001b[38;5;241m=\u001b[39m\u001b[38;5;241m1\u001b[39m\n",
      "\u001b[1;31mTypeError\u001b[0m: 'int' object is not iterable"
     ]
    }
   ],
   "source": [
    "m=\"Mohit Janbandhu 1234\"\n",
    "upper_case=[]\n",
    "lower_case=[]\n",
    "digits=[]\n",
    "for char in m:\n",
    "    if char.isupper():\n",
    "        upper_case +=1\n",
    "    elif char.islower():\n",
    "        lower_case +=1\n",
    "    elif char.isdigit():\n",
    "        digits +=1\n",
    "        \n",
    "print(\"Upper Latters are {}, Lower Latters are {} and digits are {}\".format(upper_case,lower_case,digits))"
   ]
  },
  {
   "cell_type": "code",
   "execution_count": 6,
   "id": "e2eef1a0",
   "metadata": {},
   "outputs": [
    {
     "name": "stdout",
     "output_type": "stream",
     "text": [
      "Upper Latters are 2, Lower Latters are 12 and digits are 4\n"
     ]
    }
   ],
   "source": [
    "m=\"Mohit Janbandhu 1234\"\n",
    "upper_case=0\n",
    "lower_case=0\n",
    "digits=0\n",
    "for char in m:\n",
    "    if char.isupper():\n",
    "        upper_case +=1\n",
    "    elif char.islower():\n",
    "        lower_case +=1\n",
    "    elif char.isdigit():\n",
    "        digits +=1\n",
    "        \n",
    "print(\"Upper Latters are {}, Lower Latters are {} and digits are {}\".format(upper_case,lower_case,digits))"
   ]
  },
  {
   "cell_type": "code",
   "execution_count": 7,
   "id": "68f29b5e",
   "metadata": {},
   "outputs": [],
   "source": [
    "string='Hello World using python'\n",
    "data=string.split()"
   ]
  },
  {
   "cell_type": "code",
   "execution_count": 8,
   "id": "d7ef65c5",
   "metadata": {},
   "outputs": [],
   "source": [
    "data_d=data[::-1]\n",
    "my_str=' '.join(data_d)"
   ]
  },
  {
   "cell_type": "code",
   "execution_count": 9,
   "id": "710835ae",
   "metadata": {},
   "outputs": [
    {
     "name": "stdout",
     "output_type": "stream",
     "text": [
      "python using World Hello\n"
     ]
    }
   ],
   "source": [
    "print(my_str)"
   ]
  },
  {
   "cell_type": "code",
   "execution_count": 14,
   "id": "dc7736ae",
   "metadata": {},
   "outputs": [],
   "source": [
    "list1=[2,5,6,4,8,9,9,7,3,4,4,12,4,5]\n",
    "M=map(lambda ev_od: 'even' if ev_od%2==0 else 'odd',list1)"
   ]
  },
  {
   "cell_type": "code",
   "execution_count": 15,
   "id": "2323bdf6",
   "metadata": {},
   "outputs": [
    {
     "name": "stdout",
     "output_type": "stream",
     "text": [
      "['even', 'odd', 'even', 'even', 'even', 'odd', 'odd', 'odd', 'odd', 'even', 'even', 'even', 'even', 'odd']\n"
     ]
    }
   ],
   "source": [
    "print(list(M))"
   ]
  },
  {
   "cell_type": "code",
   "execution_count": 16,
   "id": "ef7d00ba",
   "metadata": {},
   "outputs": [],
   "source": [
    "z=lambda a: a+6"
   ]
  },
  {
   "cell_type": "code",
   "execution_count": 17,
   "id": "f2e41e65",
   "metadata": {},
   "outputs": [
    {
     "name": "stdout",
     "output_type": "stream",
     "text": [
      "11\n"
     ]
    }
   ],
   "source": [
    "print(z(5))"
   ]
  },
  {
   "cell_type": "code",
   "execution_count": 20,
   "id": "fbe59702",
   "metadata": {},
   "outputs": [
    {
     "name": "stdout",
     "output_type": "stream",
     "text": [
      " Enter Any No. for checking whether even or odd 5\n",
      "5 is Odd number\n"
     ]
    }
   ],
   "source": [
    "num_input=int(input(\" Enter Any No. for checking whether even or odd \"))\n",
    "\n",
    "if num_input%2==0:\n",
    "    print(\"{} is Even Number \".format(num_input))\n",
    "    \n",
    "else:\n",
    "    print('{} is Odd number'.format(num_input))"
   ]
  },
  {
   "cell_type": "code",
   "execution_count": 27,
   "id": "f4f76be8",
   "metadata": {},
   "outputs": [
    {
     "name": "stdout",
     "output_type": "stream",
     "text": [
      " Enter Any No. for checking whether even or odd 8\n",
      "8 is Even Number \n",
      " Enter Any No. for checking whether even or odd 7\n",
      "7 is Odd number\n",
      " Enter Any No. for checking whether even or odd 7\n",
      "7 is Odd number\n"
     ]
    }
   ],
   "source": [
    "Counter=0\n",
    "while Counter<3:\n",
    "    num_input=int(input(\" Enter Any No. for checking whether even or odd \"))\n",
    "    if num_input%2==0:\n",
    "        print(\"{} is Even Number \".format(num_input))\n",
    "    \n",
    "    else:\n",
    "        print('{} is Odd number'.format(num_input))\n",
    "    \n",
    "    \n",
    "    Counter +=1"
   ]
  },
  {
   "cell_type": "code",
   "execution_count": 28,
   "id": "679aefcb",
   "metadata": {},
   "outputs": [
    {
     "name": "stdout",
     "output_type": "stream",
     "text": [
      "Enter any number to check if it's even or odd: 1\n",
      "1 is an Odd Number\n",
      "Enter any number to check if it's even or odd: 11\n",
      "11 is an Odd Number\n",
      "Enter any number to check if it's even or odd: 21\n",
      "21 is an Odd Number\n"
     ]
    }
   ],
   "source": [
    "Counter = 0\n",
    "while Counter < 3:\n",
    "    num_input = int(input(\"Enter any number to check if it's even or odd: \"))\n",
    "    if num_input % 2 == 0:\n",
    "        print(\"{} is an Even Number\".format(num_input))\n",
    "    else:\n",
    "        print(\"{} is an Odd Number\".format(num_input))\n",
    "    Counter += 1"
   ]
  },
  {
   "cell_type": "code",
   "execution_count": 1,
   "id": "99cef2ac",
   "metadata": {},
   "outputs": [
    {
     "name": "stdout",
     "output_type": "stream",
     "text": [
      "0\n",
      "1\n",
      "2\n",
      "3\n",
      "4\n",
      "5\n"
     ]
    }
   ],
   "source": [
    "i=0\n",
    "while i<6:\n",
    "    print(i)\n",
    "    i=i+1"
   ]
  },
  {
   "cell_type": "code",
   "execution_count": 1,
   "id": "c3a12472",
   "metadata": {},
   "outputs": [
    {
     "name": "stdout",
     "output_type": "stream",
     "text": [
      "1\n",
      "2\n",
      "3\n",
      "4\n",
      "5\n"
     ]
    }
   ],
   "source": [
    "i = 1\n",
    "while i < 6:\n",
    "  print(i)\n",
    "  i += 1"
   ]
  },
  {
   "cell_type": "code",
   "execution_count": 16,
   "id": "e3a72ef9",
   "metadata": {},
   "outputs": [],
   "source": [
    "for i in range(10, 100, -1):\n",
    "    print(i)"
   ]
  },
  {
   "cell_type": "code",
   "execution_count": 17,
   "id": "90baf1ee",
   "metadata": {},
   "outputs": [
    {
     "name": "stdout",
     "output_type": "stream",
     "text": [
      "10\n",
      "12\n",
      "14\n",
      "16\n",
      "18\n",
      "20\n",
      "22\n",
      "24\n",
      "26\n",
      "28\n",
      "30\n",
      "32\n",
      "34\n",
      "36\n",
      "38\n",
      "40\n",
      "42\n",
      "44\n",
      "46\n",
      "48\n",
      "50\n"
     ]
    }
   ],
   "source": [
    "for i in range(10,51,2):\n",
    "    print(i)"
   ]
  },
  {
   "cell_type": "code",
   "execution_count": 22,
   "id": "09de9a50",
   "metadata": {},
   "outputs": [
    {
     "name": "stdout",
     "output_type": "stream",
     "text": [
      "50\n",
      "49\n",
      "48\n",
      "47\n",
      "46\n",
      "45\n",
      "44\n",
      "43\n",
      "42\n",
      "41\n",
      "40\n",
      "39\n",
      "38\n",
      "37\n",
      "36\n",
      "35\n",
      "34\n",
      "33\n",
      "32\n",
      "31\n",
      "30\n",
      "29\n",
      "28\n",
      "27\n",
      "26\n",
      "25\n",
      "24\n",
      "23\n",
      "22\n",
      "21\n",
      "20\n",
      "19\n",
      "18\n",
      "17\n",
      "16\n",
      "15\n",
      "14\n",
      "13\n",
      "12\n",
      "11\n",
      "10\n"
     ]
    }
   ],
   "source": [
    "for i in range(50, 9, -1):\n",
    "    print(i)"
   ]
  },
  {
   "cell_type": "code",
   "execution_count": 18,
   "id": "42734f70",
   "metadata": {},
   "outputs": [],
   "source": [
    "for i in range(10, 100, -1):\n",
    "    print(i)"
   ]
  },
  {
   "cell_type": "code",
   "execution_count": 21,
   "id": "529db93a",
   "metadata": {},
   "outputs": [],
   "source": [
    "for i in range(10, 101, -1):\n",
    "    print(i)"
   ]
  },
  {
   "cell_type": "code",
   "execution_count": null,
   "id": "5ba8bc3f",
   "metadata": {},
   "outputs": [],
   "source": []
  },
  {
   "cell_type": "code",
   "execution_count": null,
   "id": "9cf15f2f",
   "metadata": {},
   "outputs": [],
   "source": []
  },
  {
   "cell_type": "code",
   "execution_count": null,
   "id": "df6a39ee",
   "metadata": {},
   "outputs": [],
   "source": []
  },
  {
   "cell_type": "code",
   "execution_count": null,
   "id": "67e41365",
   "metadata": {},
   "outputs": [],
   "source": []
  },
  {
   "cell_type": "code",
   "execution_count": null,
   "id": "c3d000ec",
   "metadata": {},
   "outputs": [],
   "source": []
  },
  {
   "cell_type": "code",
   "execution_count": null,
   "id": "90a6ac60",
   "metadata": {},
   "outputs": [],
   "source": []
  },
  {
   "cell_type": "code",
   "execution_count": null,
   "id": "6709b253",
   "metadata": {},
   "outputs": [],
   "source": []
  },
  {
   "cell_type": "code",
   "execution_count": null,
   "id": "a117424a",
   "metadata": {},
   "outputs": [],
   "source": []
  },
  {
   "cell_type": "code",
   "execution_count": 1,
   "id": "21283291",
   "metadata": {},
   "outputs": [],
   "source": [
    "m='Mohit Janbandhu'"
   ]
  },
  {
   "cell_type": "code",
   "execution_count": 3,
   "id": "907b5f0b",
   "metadata": {},
   "outputs": [
    {
     "data": {
      "text/plain": [
       "'a'"
      ]
     },
     "execution_count": 3,
     "metadata": {},
     "output_type": "execute_result"
    }
   ],
   "source": [
    "m[7]"
   ]
  },
  {
   "cell_type": "code",
   "execution_count": 7,
   "id": "f472cf9c",
   "metadata": {},
   "outputs": [
    {
     "data": {
      "text/plain": [
       "2"
      ]
     },
     "execution_count": 7,
     "metadata": {},
     "output_type": "execute_result"
    }
   ],
   "source": [
    "m.index('h')"
   ]
  },
  {
   "cell_type": "code",
   "execution_count": 8,
   "id": "14a16b3f",
   "metadata": {},
   "outputs": [
    {
     "data": {
      "text/plain": [
       "2"
      ]
     },
     "execution_count": 8,
     "metadata": {},
     "output_type": "execute_result"
    }
   ],
   "source": [
    "m.count('a')"
   ]
  },
  {
   "cell_type": "markdown",
   "id": "e730fced",
   "metadata": {},
   "source": []
  },
  {
   "cell_type": "code",
   "execution_count": 10,
   "id": "0caa02e4",
   "metadata": {},
   "outputs": [
    {
     "data": {
      "text/plain": [
       "True"
      ]
     },
     "execution_count": 10,
     "metadata": {},
     "output_type": "execute_result"
    }
   ],
   "source": [
    "m.startswith('Mo')"
   ]
  },
  {
   "cell_type": "code",
   "execution_count": 11,
   "id": "b022c60e",
   "metadata": {},
   "outputs": [
    {
     "data": {
      "text/plain": [
       "True"
      ]
     },
     "execution_count": 11,
     "metadata": {},
     "output_type": "execute_result"
    }
   ],
   "source": [
    "m.endswith('u')"
   ]
  },
  {
   "cell_type": "code",
   "execution_count": 12,
   "id": "cd921095",
   "metadata": {},
   "outputs": [
    {
     "data": {
      "text/plain": [
       "('Mohit J', 'an', 'bandhu')"
      ]
     },
     "execution_count": 12,
     "metadata": {},
     "output_type": "execute_result"
    }
   ],
   "source": [
    "m.partition('an')"
   ]
  },
  {
   "cell_type": "code",
   "execution_count": 13,
   "id": "fa1392f8",
   "metadata": {},
   "outputs": [
    {
     "data": {
      "text/plain": [
       "'b'"
      ]
     },
     "execution_count": 13,
     "metadata": {},
     "output_type": "execute_result"
    }
   ],
   "source": [
    "m[9]"
   ]
  },
  {
   "cell_type": "code",
   "execution_count": 14,
   "id": "f363c3ca",
   "metadata": {},
   "outputs": [
    {
     "data": {
      "text/plain": [
       "'u'"
      ]
     },
     "execution_count": 14,
     "metadata": {},
     "output_type": "execute_result"
    }
   ],
   "source": [
    "m[-1]"
   ]
  },
  {
   "cell_type": "code",
   "execution_count": 17,
   "id": "ac45e0d5",
   "metadata": {},
   "outputs": [
    {
     "data": {
      "text/plain": [
       "'hit Jan'"
      ]
     },
     "execution_count": 17,
     "metadata": {},
     "output_type": "execute_result"
    }
   ],
   "source": [
    "m[2:9]"
   ]
  },
  {
   "cell_type": "code",
   "execution_count": 16,
   "id": "f069574e",
   "metadata": {},
   "outputs": [
    {
     "data": {
      "text/plain": [
       "'Mohit Janbandhu'"
      ]
     },
     "execution_count": 16,
     "metadata": {},
     "output_type": "execute_result"
    }
   ],
   "source": [
    "m"
   ]
  },
  {
   "cell_type": "code",
   "execution_count": 18,
   "id": "029f168e",
   "metadata": {},
   "outputs": [
    {
     "data": {
      "text/plain": [
       "'uhdnabnaJ tihoM'"
      ]
     },
     "execution_count": 18,
     "metadata": {},
     "output_type": "execute_result"
    }
   ],
   "source": [
    "m[::-1]"
   ]
  },
  {
   "cell_type": "code",
   "execution_count": 19,
   "id": "c312f957",
   "metadata": {},
   "outputs": [],
   "source": [
    "myword = \"Aeroplane\""
   ]
  },
  {
   "cell_type": "code",
   "execution_count": 21,
   "id": "68c1a8bb",
   "metadata": {},
   "outputs": [
    {
     "data": {
      "text/plain": [
       "'alpor'"
      ]
     },
     "execution_count": 21,
     "metadata": {},
     "output_type": "execute_result"
    }
   ],
   "source": [
    "myword[-3:-8:-1]"
   ]
  },
  {
   "cell_type": "code",
   "execution_count": 23,
   "id": "e7ad7e56",
   "metadata": {},
   "outputs": [
    {
     "data": {
      "text/plain": [
       "'alpo'"
      ]
     },
     "execution_count": 23,
     "metadata": {},
     "output_type": "execute_result"
    }
   ],
   "source": [
    "myword[-3:-7:-1]"
   ]
  },
  {
   "cell_type": "code",
   "execution_count": null,
   "id": "11b21314",
   "metadata": {},
   "outputs": [],
   "source": []
  },
  {
   "cell_type": "code",
   "execution_count": null,
   "id": "853a84c2",
   "metadata": {},
   "outputs": [],
   "source": [
    "myword = \"Aeroplane\"\n",
    "# fetch \"A\" from myword\n",
    "print(myword[0])\n",
    "# fetch \"eroplan\" from myword\n",
    "print(myword[1:8:1])\n",
    "# fetch \"eoln\" from myword\n",
    "print(myword[1:8:2])\n",
    "# fetch \"epn\" from myword\n",
    "print(myword[1:8:3])\n",
    "# fetch \"alpor\" from myword\n",
    "print(myword[-3:-8:-1])"
   ]
  },
  {
   "cell_type": "code",
   "execution_count": null,
   "id": "f18e561c",
   "metadata": {},
   "outputs": [],
   "source": []
  },
  {
   "cell_type": "code",
   "execution_count": 24,
   "id": "c1bd4333",
   "metadata": {},
   "outputs": [
    {
     "data": {
      "text/plain": [
       "'mohit Janbandhu'"
      ]
     },
     "execution_count": 24,
     "metadata": {},
     "output_type": "execute_result"
    }
   ],
   "source": [
    "m.replace(\"M\",'m')"
   ]
  },
  {
   "cell_type": "code",
   "execution_count": 25,
   "id": "558dd8d7",
   "metadata": {},
   "outputs": [],
   "source": [
    "a = m.strip()"
   ]
  },
  {
   "cell_type": "code",
   "execution_count": 26,
   "id": "5c5544bc",
   "metadata": {},
   "outputs": [
    {
     "data": {
      "text/plain": [
       "'Mohit Janbandhu'"
      ]
     },
     "execution_count": 26,
     "metadata": {},
     "output_type": "execute_result"
    }
   ],
   "source": [
    "a"
   ]
  },
  {
   "cell_type": "code",
   "execution_count": 27,
   "id": "ed378bfa",
   "metadata": {},
   "outputs": [
    {
     "data": {
      "text/plain": [
       "'Mohit Janbandhu'"
      ]
     },
     "execution_count": 27,
     "metadata": {},
     "output_type": "execute_result"
    }
   ],
   "source": [
    "m"
   ]
  },
  {
   "cell_type": "code",
   "execution_count": null,
   "id": "3778219b",
   "metadata": {},
   "outputs": [],
   "source": []
  },
  {
   "cell_type": "code",
   "execution_count": null,
   "id": "7178a486",
   "metadata": {},
   "outputs": [],
   "source": []
  },
  {
   "cell_type": "code",
   "execution_count": null,
   "id": "0d14ed28",
   "metadata": {},
   "outputs": [],
   "source": []
  },
  {
   "cell_type": "code",
   "execution_count": null,
   "id": "b377f32b",
   "metadata": {},
   "outputs": [],
   "source": []
  },
  {
   "cell_type": "code",
   "execution_count": null,
   "id": "549897ff",
   "metadata": {},
   "outputs": [],
   "source": []
  },
  {
   "cell_type": "code",
   "execution_count": null,
   "id": "ac465643",
   "metadata": {},
   "outputs": [],
   "source": []
  }
 ],
 "metadata": {
  "kernelspec": {
   "display_name": "Python 3 (ipykernel)",
   "language": "python",
   "name": "python3"
  },
  "language_info": {
   "codemirror_mode": {
    "name": "ipython",
    "version": 3
   },
   "file_extension": ".py",
   "mimetype": "text/x-python",
   "name": "python",
   "nbconvert_exporter": "python",
   "pygments_lexer": "ipython3",
   "version": "3.10.9"
  }
 },
 "nbformat": 4,
 "nbformat_minor": 5
}
