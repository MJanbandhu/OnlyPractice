{
 "cells": [
  {
   "cell_type": "code",
   "execution_count": 1,
   "id": "db3c0f49",
   "metadata": {},
   "outputs": [],
   "source": [
    "m=\"mohit janbandhu\""
   ]
  },
  {
   "cell_type": "code",
   "execution_count": 2,
   "id": "6b207ccb",
   "metadata": {},
   "outputs": [
    {
     "data": {
      "text/plain": [
       "15"
      ]
     },
     "execution_count": 2,
     "metadata": {},
     "output_type": "execute_result"
    }
   ],
   "source": [
    "len(m)"
   ]
  },
  {
   "cell_type": "code",
   "execution_count": 3,
   "id": "dc8d44f1",
   "metadata": {},
   "outputs": [],
   "source": [
    "list1=[5,8,6,9,3,4,2]"
   ]
  },
  {
   "cell_type": "code",
   "execution_count": 5,
   "id": "c4c0a9aa",
   "metadata": {},
   "outputs": [
    {
     "name": "stdout",
     "output_type": "stream",
     "text": [
      "<class 'list'>\n"
     ]
    }
   ],
   "source": [
    "print(type(list1))"
   ]
  },
  {
   "cell_type": "code",
   "execution_count": 4,
   "id": "503eced0",
   "metadata": {},
   "outputs": [
    {
     "name": "stdout",
     "output_type": "stream",
     "text": [
      "o i a a u "
     ]
    }
   ],
   "source": [
    "m = \"mohit janbandhu\"\n",
    "\n",
    "# Define a set of vowels\n",
    "vowels = \"aeiouAEIOU\"\n",
    "\n",
    "# Loop through each character in the string and print it if it's a vowel\n",
    "for char in m:\n",
    "    if char in vowels:\n",
    "        print(char, end=' ')"
   ]
  },
  {
   "cell_type": "code",
   "execution_count": 2,
   "id": "847808ac",
   "metadata": {},
   "outputs": [
    {
     "name": "stdout",
     "output_type": "stream",
     "text": [
      "['odd', 'even', 'even', 'odd', 'odd', 'even', 'even']\n"
     ]
    }
   ],
   "source": [
    "lst = [5, 8, 6, 9, 3, 4, 2]\n",
    "\n",
    "# Use lambda and map to classify each number as 'even' or 'odd'\n",
    "result = map(lambda x: 'even' if x % 2 == 0 else 'odd', lst)\n",
    "\n",
    "# Print the result\n",
    "print(list(result))"
   ]
  },
  {
   "cell_type": "code",
   "execution_count": null,
   "id": "aecc0ad8",
   "metadata": {},
   "outputs": [],
   "source": []
  },
  {
   "cell_type": "code",
   "execution_count": 12,
   "id": "639243c5",
   "metadata": {},
   "outputs": [
    {
     "ename": "TypeError",
     "evalue": "'list' object is not callable",
     "output_type": "error",
     "traceback": [
      "\u001b[1;31m---------------------------------------------------------------------------\u001b[0m",
      "\u001b[1;31mTypeError\u001b[0m                                 Traceback (most recent call last)",
      "Cell \u001b[1;32mIn[12], line 7\u001b[0m\n\u001b[0;32m      4\u001b[0m result \u001b[38;5;241m=\u001b[39m \u001b[38;5;28mmap\u001b[39m(\u001b[38;5;28;01mlambda\u001b[39;00m x: \u001b[38;5;124m'\u001b[39m\u001b[38;5;124meven\u001b[39m\u001b[38;5;124m'\u001b[39m \u001b[38;5;28;01mif\u001b[39;00m x \u001b[38;5;241m%\u001b[39m \u001b[38;5;241m2\u001b[39m \u001b[38;5;241m==\u001b[39m \u001b[38;5;241m0\u001b[39m \u001b[38;5;28;01melse\u001b[39;00m \u001b[38;5;124m'\u001b[39m\u001b[38;5;124modd\u001b[39m\u001b[38;5;124m'\u001b[39m, list1)\n\u001b[0;32m      6\u001b[0m \u001b[38;5;66;03m# Convert the map object to a list and print the result\u001b[39;00m\n\u001b[1;32m----> 7\u001b[0m \u001b[38;5;28mprint\u001b[39m(\u001b[38;5;28;43mlist\u001b[39;49m\u001b[43m(\u001b[49m\u001b[43mresult\u001b[49m\u001b[43m)\u001b[49m)\n",
      "\u001b[1;31mTypeError\u001b[0m: 'list' object is not callable"
     ]
    }
   ],
   "source": [
    "list1 = [5, 8, 6, 9, 3, 4, 2]  # Ensure not to name this variable 'list'\n",
    "\n",
    "# Use lambda and map to classify each number as 'even' or 'odd'\n",
    "result = map(lambda x: 'even' if x % 2 == 0 else 'odd', list1)\n",
    "\n",
    "# Convert the map object to a list and print the result\n",
    "print(list(result))"
   ]
  },
  {
   "cell_type": "code",
   "execution_count": 11,
   "id": "0fb966b3",
   "metadata": {},
   "outputs": [
    {
     "data": {
      "text/plain": [
       "<map at 0x210a5217100>"
      ]
     },
     "execution_count": 11,
     "metadata": {},
     "output_type": "execute_result"
    }
   ],
   "source": [
    "result"
   ]
  },
  {
   "cell_type": "code",
   "execution_count": 1,
   "id": "5a0703d1",
   "metadata": {},
   "outputs": [
    {
     "name": "stdout",
     "output_type": "stream",
     "text": [
      "['odd', 'even', 'even', 'odd', 'odd', 'even', 'even']\n"
     ]
    }
   ],
   "source": [
    "lst = [5, 8, 6, 9, 3, 4, 2]  # Ensure not to name this variable 'list'\n",
    "\n",
    "# Use lambda and map to classify each number as 'even' or 'odd'\n",
    "result = map(lambda x: 'even' if x % 2 == 0 else 'odd', lst)\n",
    "\n",
    "# Convert the map object to a list and print the result\n",
    "print(list(result))"
   ]
  },
  {
   "cell_type": "code",
   "execution_count": 5,
   "id": "c461330f",
   "metadata": {},
   "outputs": [
    {
     "name": "stdout",
     "output_type": "stream",
     "text": [
      "['odd', 'even', 'even', 'odd', 'odd', 'even', 'even']\n"
     ]
    }
   ],
   "source": [
    "lst = [5, 8, 6, 9, 3, 4, 2]  # Ensure not to name this variable 'list'\n",
    "\n",
    "# Use lambda and map to classify each number as 'even' or 'odd'\n",
    "result = map(lambda x: 'even' if x % 2 == 0 else 'odd', lst)\n",
    "\n",
    "# Convert the map object to a list and print the result\n",
    "print(list(result))"
   ]
  },
  {
   "cell_type": "code",
   "execution_count": 6,
   "id": "2bcaadc2",
   "metadata": {},
   "outputs": [
    {
     "name": "stdout",
     "output_type": "stream",
     "text": [
      "[8, 6, 4, 2]\n"
     ]
    }
   ],
   "source": [
    "lst = [5, 8, 6, 9, 3, 4, 2]  # Ensure not to name this variable 'list'\n",
    "\n",
    "# Use lambda and filter to get only even numbers\n",
    "even_numbers = filter(lambda x: x % 2 == 0, lst)\n",
    "\n",
    "# Convert the filter object to a list and print the result\n",
    "print(list(even_numbers))"
   ]
  },
  {
   "cell_type": "code",
   "execution_count": null,
   "id": "a9728ea6",
   "metadata": {},
   "outputs": [],
   "source": []
  }
 ],
 "metadata": {
  "kernelspec": {
   "display_name": "Python 3 (ipykernel)",
   "language": "python",
   "name": "python3"
  },
  "language_info": {
   "codemirror_mode": {
    "name": "ipython",
    "version": 3
   },
   "file_extension": ".py",
   "mimetype": "text/x-python",
   "name": "python",
   "nbconvert_exporter": "python",
   "pygments_lexer": "ipython3",
   "version": "3.10.9"
  }
 },
 "nbformat": 4,
 "nbformat_minor": 5
}
