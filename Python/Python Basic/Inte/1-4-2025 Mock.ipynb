{
 "cells": [
  {
   "cell_type": "code",
   "execution_count": 1,
   "id": "acbefb12",
   "metadata": {},
   "outputs": [],
   "source": [
    "dict1={\"name\":\"Mohit\", \"age\":24}"
   ]
  },
  {
   "cell_type": "code",
   "execution_count": 2,
   "id": "d0879599",
   "metadata": {},
   "outputs": [
    {
     "data": {
      "text/plain": [
       "{'name': 'Mohit', 'age': 24}"
      ]
     },
     "execution_count": 2,
     "metadata": {},
     "output_type": "execute_result"
    }
   ],
   "source": [
    "dict1"
   ]
  },
  {
   "cell_type": "code",
   "execution_count": 3,
   "id": "0280d51a",
   "metadata": {},
   "outputs": [
    {
     "data": {
      "text/plain": [
       "dict"
      ]
     },
     "execution_count": 3,
     "metadata": {},
     "output_type": "execute_result"
    }
   ],
   "source": [
    "type(dict1)"
   ]
  },
  {
   "cell_type": "code",
   "execution_count": 4,
   "id": "d5c69d0b",
   "metadata": {},
   "outputs": [
    {
     "data": {
      "text/plain": [
       "'Mohit'"
      ]
     },
     "execution_count": 4,
     "metadata": {},
     "output_type": "execute_result"
    }
   ],
   "source": [
    "dict1['name']"
   ]
  },
  {
   "cell_type": "code",
   "execution_count": 5,
   "id": "b2ae6ee4",
   "metadata": {},
   "outputs": [],
   "source": [
    "fruits=['Apple','Banana','Cherry']"
   ]
  },
  {
   "cell_type": "markdown",
   "id": "850307ef",
   "metadata": {},
   "source": [
    "Lat A > 2"
   ]
  },
  {
   "cell_type": "code",
   "execution_count": 8,
   "id": "b6996650",
   "metadata": {},
   "outputs": [
    {
     "ename": "NameError",
     "evalue": "name 'A' is not defined",
     "output_type": "error",
     "traceback": [
      "\u001b[1;31m---------------------------------------------------------------------------\u001b[0m",
      "\u001b[1;31mNameError\u001b[0m                                 Traceback (most recent call last)",
      "Cell \u001b[1;32mIn[8], line 1\u001b[0m\n\u001b[1;32m----> 1\u001b[0m fruits[\u001b[43mA\u001b[49m\u001b[38;5;241m>\u001b[39m\u001b[38;5;241m2\u001b[39m]\n",
      "\u001b[1;31mNameError\u001b[0m: name 'A' is not defined"
     ]
    }
   ],
   "source": [
    "fruits[A>2]"
   ]
  },
  {
   "cell_type": "markdown",
   "id": "a1e448cc",
   "metadata": {},
   "source": [
    "Area of trangle"
   ]
  },
  {
   "cell_type": "code",
   "execution_count": null,
   "id": "ab20fafc",
   "metadata": {},
   "outputs": [],
   "source": [
    "def area_tran:\n",
    "    "
   ]
  },
  {
   "cell_type": "code",
   "execution_count": null,
   "id": "790c1d34",
   "metadata": {},
   "outputs": [],
   "source": [
    "    select max(salary) from Emp where > (select max(salary) from emp)"
   ]
  },
  {
   "cell_type": "code",
   "execution_count": null,
   "id": "ce462caf",
   "metadata": {},
   "outputs": [],
   "source": []
  },
  {
   "cell_type": "code",
   "execution_count": null,
   "id": "3e7c657b",
   "metadata": {},
   "outputs": [],
   "source": [
    "Here are the corrected versions of your statements and code:\n",
    "1️⃣ Correcting Dictionary Operations\n",
    "\n",
    "dict1 = {\"name\": \"Mohit\", \"age\": 24}\n",
    "\n",
    "# Print dictionary\n",
    "print(dict1)\n",
    "\n",
    "# Check the type\n",
    "print(type(dict1))  # Output: <class 'dict'>\n",
    "\n",
    "# Accessing value by key\n",
    "print(dict1['name'])  # Output: Mohit\n",
    "\n",
    "2️⃣ Correcting List Indexing Issue\n",
    "\n",
    "fruits = ['Apple', 'Banana', 'Cherry']\n",
    "\n",
    "# Fetching elements where the first letter is 'A'\n",
    "filtered_fruits = [fruit for fruit in fruits if fruit.startswith('A')]\n",
    "\n",
    "print(filtered_fruits)  # Output: ['Apple']\n",
    "\n",
    "(Since you wrote A > 2, I assume you meant filtering elements starting with 'A')\n",
    "3️⃣ Correcting Triangle Area Function\n",
    "\n",
    "def area_triangle(base, height):\n",
    "    return 0.5 * base * height\n",
    "\n",
    "# Example usage\n",
    "print(area_triangle(5, 10))  # Output: 25.0\n",
    "\n",
    "(Fixed function name syntax and added parameters for base & height.)\n",
    "4️⃣ Correcting SQL Query for 2nd Highest Salary\n",
    "\n",
    "SELECT MAX(salary) \n",
    "FROM Emp \n",
    "WHERE salary < (SELECT MAX(salary) FROM Emp);"
   ]
  },
  {
   "cell_type": "code",
   "execution_count": null,
   "id": "4250ab32",
   "metadata": {},
   "outputs": [],
   "source": []
  },
  {
   "cell_type": "code",
   "execution_count": null,
   "id": "4b1bb1c4",
   "metadata": {},
   "outputs": [],
   "source": []
  },
  {
   "cell_type": "code",
   "execution_count": null,
   "id": "f185f715",
   "metadata": {},
   "outputs": [],
   "source": []
  }
 ],
 "metadata": {
  "kernelspec": {
   "display_name": "Python 3 (ipykernel)",
   "language": "python",
   "name": "python3"
  },
  "language_info": {
   "codemirror_mode": {
    "name": "ipython",
    "version": 3
   },
   "file_extension": ".py",
   "mimetype": "text/x-python",
   "name": "python",
   "nbconvert_exporter": "python",
   "pygments_lexer": "ipython3",
   "version": "3.10.9"
  }
 },
 "nbformat": 4,
 "nbformat_minor": 5
}
