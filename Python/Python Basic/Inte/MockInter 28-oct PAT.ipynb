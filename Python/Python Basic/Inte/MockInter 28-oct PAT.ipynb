{
 "cells": [
  {
   "cell_type": "markdown",
   "id": "67cbe835",
   "metadata": {},
   "source": [
    "A function which takes a list of integers as input and returns a list of even numbers from the list.mm"
   ]
  },
  {
   "cell_type": "code",
   "execution_count": 9,
   "id": "e64aa63c",
   "metadata": {},
   "outputs": [
    {
     "name": "stdout",
     "output_type": "stream",
     "text": [
      "Enter number2\n"
     ]
    }
   ],
   "source": [
    "num=list(input(\"Enter number\"))"
   ]
  },
  {
   "cell_type": "code",
   "execution_count": 24,
   "id": "44aabe7c",
   "metadata": {},
   "outputs": [
    {
     "name": "stdout",
     "output_type": "stream",
     "text": [
      "Enter number4\n"
     ]
    }
   ],
   "source": [
    "num=list(map(int, input(\"Enter number\").split()))\n",
    "def even_num(number):\n",
    "    if number %2==0:\n",
    "        print(f\"{number} is even number\")\n",
    "    else:\n",
    "        print(f\"{number} is odd number\")"
   ]
  },
  {
   "cell_type": "code",
   "execution_count": 27,
   "id": "4be58878",
   "metadata": {},
   "outputs": [
    {
     "name": "stdout",
     "output_type": "stream",
     "text": [
      "4 is even number\n",
      "None\n"
     ]
    }
   ],
   "source": [
    "for number in num:\n",
    "    print(even_num(number))\n",
    "    "
   ]
  },
  {
   "cell_type": "code",
   "execution_count": null,
   "id": "75556096",
   "metadata": {},
   "outputs": [],
   "source": [
    "Imagine that you have table named students with columns name and score. \n",
    "Fetch the names of the top 5 students according to their score."
   ]
  },
  {
   "cell_type": "code",
   "execution_count": null,
   "id": "9c2844d6",
   "metadata": {},
   "outputs": [],
   "source": [
    "select max(score) from students order by score asc limit 5;"
   ]
  },
  {
   "cell_type": "code",
   "execution_count": null,
   "id": "08348be8",
   "metadata": {},
   "outputs": [],
   "source": [
    "select name, score from student order by score desc limit 5;"
   ]
  },
  {
   "cell_type": "code",
   "execution_count": 1,
   "id": "a809cfd7",
   "metadata": {},
   "outputs": [
    {
     "name": "stdout",
     "output_type": "stream",
     "text": [
      "Enter numbers separated by spaces: \n"
     ]
    }
   ],
   "source": [
    "# Taking input as a list of integers\n",
    "num = list(map(int, input(\"Enter numbers separated by spaces: \").split()))\n",
    "\n",
    "def even_num(number):\n",
    "    if number % 2 == 0:\n",
    "        print(f\"{number} is an even number\")\n",
    "    else:\n",
    "        print(f\"{number} is an odd number\")\n",
    "\n",
    "# Looping through each number in the list and calling even_num\n",
    "for number in num:\n",
    "    even_num(number)"
   ]
  },
  {
   "cell_type": "markdown",
   "id": "f5d42c38",
   "metadata": {},
   "source": [
    "# ------------------------------------"
   ]
  },
  {
   "cell_type": "code",
   "execution_count": 1,
   "id": "1421be9a",
   "metadata": {},
   "outputs": [],
   "source": [
    "moh=\"Mohit Janbandhu 123\""
   ]
  },
  {
   "cell_type": "code",
   "execution_count": 2,
   "id": "cd746928",
   "metadata": {},
   "outputs": [],
   "source": [
    "upper_lat=[]\n",
    "lower_lat=[]\n",
    "digits=[]\n"
   ]
  },
  {
   "cell_type": "code",
   "execution_count": 3,
   "id": "34089dfd",
   "metadata": {},
   "outputs": [
    {
     "ename": "TypeError",
     "evalue": "'int' object is not iterable",
     "output_type": "error",
     "traceback": [
      "\u001b[1;31m---------------------------------------------------------------------------\u001b[0m",
      "\u001b[1;31mTypeError\u001b[0m                                 Traceback (most recent call last)",
      "Cell \u001b[1;32mIn[3], line 3\u001b[0m\n\u001b[0;32m      1\u001b[0m \u001b[38;5;28;01mfor\u001b[39;00m char \u001b[38;5;129;01min\u001b[39;00m moh:\n\u001b[0;32m      2\u001b[0m     \u001b[38;5;28;01mif\u001b[39;00m char\u001b[38;5;241m.\u001b[39misupper():\n\u001b[1;32m----> 3\u001b[0m         upper_lat\u001b[38;5;241m+\u001b[39m\u001b[38;5;241m=\u001b[39m\u001b[38;5;241m1\u001b[39m\n\u001b[0;32m      5\u001b[0m     \u001b[38;5;28;01melif\u001b[39;00m char\u001b[38;5;241m.\u001b[39mislower():\n\u001b[0;32m      6\u001b[0m         lower_lat\u001b[38;5;241m+\u001b[39m\u001b[38;5;241m=\u001b[39m\u001b[38;5;241m1\u001b[39m\n",
      "\u001b[1;31mTypeError\u001b[0m: 'int' object is not iterable"
     ]
    }
   ],
   "source": [
    "for char in moh:\n",
    "    if char.isupper():\n",
    "        upper_lat+=1\n",
    "    \n",
    "    elif char.islower():\n",
    "        lower_lat+=1\n",
    "    \n",
    "    elif char.isdigit():\n",
    "        digits+=1"
   ]
  },
  {
   "cell_type": "code",
   "execution_count": 5,
   "id": "5cd92793",
   "metadata": {
    "collapsed": true
   },
   "outputs": [
    {
     "ename": "TypeError",
     "evalue": "'int' object is not iterable",
     "output_type": "error",
     "traceback": [
      "\u001b[1;31m---------------------------------------------------------------------------\u001b[0m",
      "\u001b[1;31mTypeError\u001b[0m                                 Traceback (most recent call last)",
      "Cell \u001b[1;32mIn[5], line 3\u001b[0m\n\u001b[0;32m      1\u001b[0m \u001b[38;5;28;01mfor\u001b[39;00m char \u001b[38;5;129;01min\u001b[39;00m moh:\n\u001b[0;32m      2\u001b[0m     \u001b[38;5;28;01mif\u001b[39;00m char\u001b[38;5;241m.\u001b[39misupper():\n\u001b[1;32m----> 3\u001b[0m         upper_lat \u001b[38;5;241m+\u001b[39m\u001b[38;5;241m=\u001b[39m\u001b[38;5;241m1\u001b[39m\n\u001b[0;32m      5\u001b[0m     \u001b[38;5;28;01melif\u001b[39;00m char\u001b[38;5;241m.\u001b[39mislower():\n\u001b[0;32m      6\u001b[0m         lower_laters \u001b[38;5;241m+\u001b[39m\u001b[38;5;241m=\u001b[39m\u001b[38;5;241m1\u001b[39m\n",
      "\u001b[1;31mTypeError\u001b[0m: 'int' object is not iterable"
     ]
    }
   ],
   "source": [
    "for char in moh:\n",
    "    if char.isupper():\n",
    "        upper_lat +=1\n",
    "        \n",
    "    elif char.islower():\n",
    "        lower_laters +=1\n",
    "        \n",
    "    elif char.isdigit():\n",
    "        digit_len += 1"
   ]
  },
  {
   "cell_type": "code",
   "execution_count": 44,
   "id": "32024c93",
   "metadata": {},
   "outputs": [
    {
     "data": {
      "text/plain": [
       "3"
      ]
     },
     "execution_count": 44,
     "metadata": {},
     "output_type": "execute_result"
    }
   ],
   "source": [
    "upper_lat"
   ]
  },
  {
   "cell_type": "code",
   "execution_count": null,
   "id": "7d7c02e3",
   "metadata": {},
   "outputs": [],
   "source": []
  },
  {
   "cell_type": "code",
   "execution_count": 6,
   "id": "68969cec",
   "metadata": {},
   "outputs": [],
   "source": [
    "instr= \"Hello World from Python 155\"\n",
    "lower_count=0\n",
    "upper_count=0\n",
    "digit_count=0\n",
    "\n",
    "for char in instr:\n",
    "    if char.islower():\n",
    "        lower_count +=1\n",
    "    elif char.isupper():\n",
    "        upper_count +=1\n",
    "    elif char.isdigit():\n",
    "        digit_count +=1"
   ]
  },
  {
   "cell_type": "code",
   "execution_count": 7,
   "id": "6bfaba69",
   "metadata": {},
   "outputs": [
    {
     "name": "stdout",
     "output_type": "stream",
     "text": [
      "17\n",
      "3\n",
      "3\n"
     ]
    }
   ],
   "source": [
    "print(lower_count)\n",
    "print(upper_count)\n",
    "print(digit_count)"
   ]
  },
  {
   "cell_type": "code",
   "execution_count": 42,
   "id": "ae5ae77e",
   "metadata": {},
   "outputs": [],
   "source": [
    "list1=[5,8,6,9,3,4,2]"
   ]
  },
  {
   "cell_type": "code",
   "execution_count": 9,
   "id": "d009d8dc",
   "metadata": {},
   "outputs": [],
   "source": [
    "list1.append(100)"
   ]
  },
  {
   "cell_type": "code",
   "execution_count": 10,
   "id": "a8040099",
   "metadata": {},
   "outputs": [
    {
     "data": {
      "text/plain": [
       "[5, 8, 6, 9, 3, 4, 2, 100]"
      ]
     },
     "execution_count": 10,
     "metadata": {},
     "output_type": "execute_result"
    }
   ],
   "source": [
    "list1"
   ]
  },
  {
   "cell_type": "code",
   "execution_count": 11,
   "id": "d237d6ca",
   "metadata": {},
   "outputs": [],
   "source": [
    "list1.insert(3,200)"
   ]
  },
  {
   "cell_type": "code",
   "execution_count": 13,
   "id": "6c37787d",
   "metadata": {},
   "outputs": [
    {
     "data": {
      "text/plain": [
       "[5, 8, 6, 200, 9, 3, 4, 2, 100]"
      ]
     },
     "execution_count": 13,
     "metadata": {},
     "output_type": "execute_result"
    }
   ],
   "source": [
    "list1"
   ]
  },
  {
   "cell_type": "code",
   "execution_count": 15,
   "id": "371d88da",
   "metadata": {},
   "outputs": [
    {
     "data": {
      "text/plain": [
       "200"
      ]
     },
     "execution_count": 15,
     "metadata": {},
     "output_type": "execute_result"
    }
   ],
   "source": [
    "list1.pop(3)"
   ]
  },
  {
   "cell_type": "code",
   "execution_count": 16,
   "id": "b8d3d06c",
   "metadata": {},
   "outputs": [
    {
     "data": {
      "text/plain": [
       "[5, 8, 6, 9, 3, 4, 2, 100]"
      ]
     },
     "execution_count": 16,
     "metadata": {},
     "output_type": "execute_result"
    }
   ],
   "source": [
    "list1"
   ]
  },
  {
   "cell_type": "code",
   "execution_count": 21,
   "id": "da433e10",
   "metadata": {},
   "outputs": [],
   "source": [
    "list1.remove(8)"
   ]
  },
  {
   "cell_type": "code",
   "execution_count": 22,
   "id": "88ad1e13",
   "metadata": {},
   "outputs": [
    {
     "data": {
      "text/plain": [
       "[5, 6, 9, 3, 4, 2, 100]"
      ]
     },
     "execution_count": 22,
     "metadata": {},
     "output_type": "execute_result"
    }
   ],
   "source": [
    "list1"
   ]
  },
  {
   "cell_type": "code",
   "execution_count": 23,
   "id": "d288b7c9",
   "metadata": {},
   "outputs": [],
   "source": [
    "list1.reverse()"
   ]
  },
  {
   "cell_type": "code",
   "execution_count": 24,
   "id": "f3d78522",
   "metadata": {},
   "outputs": [
    {
     "data": {
      "text/plain": [
       "[100, 2, 4, 3, 9, 6, 5]"
      ]
     },
     "execution_count": 24,
     "metadata": {},
     "output_type": "execute_result"
    }
   ],
   "source": [
    "list1"
   ]
  },
  {
   "cell_type": "code",
   "execution_count": 26,
   "id": "f181b9ef",
   "metadata": {},
   "outputs": [],
   "source": [
    "list1.sort()"
   ]
  },
  {
   "cell_type": "code",
   "execution_count": 27,
   "id": "becaf6e1",
   "metadata": {},
   "outputs": [
    {
     "data": {
      "text/plain": [
       "[2, 3, 4, 5, 6, 9, 100]"
      ]
     },
     "execution_count": 27,
     "metadata": {},
     "output_type": "execute_result"
    }
   ],
   "source": [
    "list1"
   ]
  },
  {
   "cell_type": "code",
   "execution_count": 32,
   "id": "12bc975f",
   "metadata": {
    "collapsed": true
   },
   "outputs": [
    {
     "name": "stdout",
     "output_type": "stream",
     "text": [
      "10\n",
      "9\n",
      "8\n",
      "7\n",
      "6\n",
      "5\n",
      "4\n",
      "3\n",
      "2\n",
      "1\n"
     ]
    }
   ],
   "source": [
    "for i in range(10,0,-1):\n",
    "    print(i)"
   ]
  },
  {
   "cell_type": "code",
   "execution_count": 34,
   "id": "e61b08ec",
   "metadata": {
    "collapsed": true
   },
   "outputs": [
    {
     "name": "stdout",
     "output_type": "stream",
     "text": [
      "10\n",
      "9\n",
      "8\n",
      "7\n",
      "6\n",
      "5\n",
      "4\n",
      "3\n",
      "2\n",
      "1\n"
     ]
    }
   ],
   "source": [
    "for i in range (10,0,-1):\n",
    "    print(i)"
   ]
  },
  {
   "cell_type": "code",
   "execution_count": 38,
   "id": "485473c6",
   "metadata": {},
   "outputs": [],
   "source": [
    "import random\n",
    "a= random.randint(10,20)"
   ]
  },
  {
   "cell_type": "code",
   "execution_count": 39,
   "id": "1d8e8ac1",
   "metadata": {},
   "outputs": [
    {
     "data": {
      "text/plain": [
       "17"
      ]
     },
     "execution_count": 39,
     "metadata": {},
     "output_type": "execute_result"
    }
   ],
   "source": [
    "a"
   ]
  },
  {
   "cell_type": "code",
   "execution_count": 2,
   "id": "2a4fe048",
   "metadata": {},
   "outputs": [
    {
     "name": "stdout",
     "output_type": "stream",
     "text": [
      "1\n",
      "2\n",
      "3\n",
      "4\n",
      "5\n"
     ]
    }
   ],
   "source": [
    "i=1\n",
    "while i<6:\n",
    "    print(i)\n",
    "    i=i+1\n",
    "    "
   ]
  },
  {
   "cell_type": "code",
   "execution_count": 1,
   "id": "65a2594d",
   "metadata": {
    "scrolled": false
   },
   "outputs": [
    {
     "name": "stdout",
     "output_type": "stream",
     "text": [
      "1\n",
      "2\n",
      "3\n",
      "4\n",
      "5\n",
      "6\n"
     ]
    }
   ],
   "source": [
    "i=1\n",
    "while i<7:\n",
    "    print(i)\n",
    "    i=i+1"
   ]
  },
  {
   "cell_type": "code",
   "execution_count": 3,
   "id": "a64d62e1",
   "metadata": {},
   "outputs": [],
   "source": [
    "vowels=\"aeiouAEIOU\""
   ]
  },
  {
   "cell_type": "code",
   "execution_count": 8,
   "id": "4ee55f5d",
   "metadata": {},
   "outputs": [
    {
     "name": "stdout",
     "output_type": "stream",
     "text": [
      "o i a a u "
     ]
    }
   ],
   "source": [
    "for char in moh:\n",
    "    if char in vowels:\n",
    "        print(char, end=\" \")"
   ]
  },
  {
   "cell_type": "code",
   "execution_count": 9,
   "id": "fab5d2cb",
   "metadata": {},
   "outputs": [
    {
     "ename": "SyntaxError",
     "evalue": "invalid syntax (1523753040.py, line 2)",
     "output_type": "error",
     "traceback": [
      "\u001b[1;36m  Cell \u001b[1;32mIn[9], line 2\u001b[1;36m\u001b[0m\n\u001b[1;33m    def mba(name.self,roll.self,div.self)\u001b[0m\n\u001b[1;37m                ^\u001b[0m\n\u001b[1;31mSyntaxError\u001b[0m\u001b[1;31m:\u001b[0m invalid syntax\n"
     ]
    }
   ],
   "source": [
    "class student:\n",
    "    def mba(name.self,roll.self,div.self)"
   ]
  },
  {
   "cell_type": "code",
   "execution_count": 11,
   "id": "aec01eeb",
   "metadata": {},
   "outputs": [],
   "source": [
    "class human:\n",
    "    def male():\n",
    "        print(\"short hair\")\n",
    "        \n",
    "    def female():\n",
    "        print(\"Long hair\")"
   ]
  },
  {
   "cell_type": "code",
   "execution_count": 14,
   "id": "dfc0d72f",
   "metadata": {},
   "outputs": [
    {
     "name": "stdout",
     "output_type": "stream",
     "text": [
      "short hair\n"
     ]
    }
   ],
   "source": [
    "human.male()"
   ]
  },
  {
   "cell_type": "code",
   "execution_count": 16,
   "id": "009fc6e8",
   "metadata": {},
   "outputs": [],
   "source": [
    "p1=human()"
   ]
  },
  {
   "cell_type": "code",
   "execution_count": 32,
   "id": "4fcd09b4",
   "metadata": {},
   "outputs": [],
   "source": [
    "class student:\n",
    "    def __init__(self,name, div, roll):\n",
    "        self.name=name\n",
    "        self.div=div\n",
    "        self.roll=roll\n",
    "        \n",
    "    def __init__(self):\n",
    "        print(self.name, self.div, self.roll)\n",
    "    \n",
    "    p1=(\"mohit\",\"A\",35)\n",
    "    p2=(\"Vinod\",\"B\",33)\n",
    "        \n",
    "school=student"
   ]
  },
  {
   "cell_type": "code",
   "execution_count": 33,
   "id": "68600cd4",
   "metadata": {},
   "outputs": [
    {
     "data": {
      "text/plain": [
       "__main__.human"
      ]
     },
     "execution_count": 33,
     "metadata": {},
     "output_type": "execute_result"
    }
   ],
   "source": [
    "human"
   ]
  },
  {
   "cell_type": "code",
   "execution_count": 34,
   "id": "d80c289d",
   "metadata": {},
   "outputs": [
    {
     "data": {
      "text/plain": [
       "('mohit', 'A', 35)"
      ]
     },
     "execution_count": 34,
     "metadata": {},
     "output_type": "execute_result"
    }
   ],
   "source": [
    "student.p1"
   ]
  },
  {
   "cell_type": "code",
   "execution_count": 35,
   "id": "0ca28199",
   "metadata": {},
   "outputs": [
    {
     "data": {
      "text/plain": [
       "('mohit', 'A', 35)"
      ]
     },
     "execution_count": 35,
     "metadata": {},
     "output_type": "execute_result"
    }
   ],
   "source": [
    "school.p1"
   ]
  },
  {
   "cell_type": "code",
   "execution_count": 39,
   "id": "16544326",
   "metadata": {},
   "outputs": [],
   "source": [
    "class student:\n",
    "    def __init__(self, name, roll, div):\n",
    "        self.name=name\n",
    "        self.div=div\n",
    "        self.roll=roll\n",
    "        \n",
    "    def __init__(self):\n",
    "        print(self.name, self.div, self.roll)\n",
    "        \n",
    "        \n",
    "    p1=(\"mohit\",\"A\",35)\n",
    "    p2=(\"Vinod\",\"B\",33)\n",
    "        "
   ]
  },
  {
   "cell_type": "code",
   "execution_count": 40,
   "id": "4246a98c",
   "metadata": {},
   "outputs": [
    {
     "data": {
      "text/plain": [
       "('mohit', 'A', 35)"
      ]
     },
     "execution_count": 40,
     "metadata": {},
     "output_type": "execute_result"
    }
   ],
   "source": [
    "student.p1"
   ]
  },
  {
   "cell_type": "code",
   "execution_count": 43,
   "id": "90d429c4",
   "metadata": {},
   "outputs": [
    {
     "data": {
      "text/plain": [
       "[5, 8, 6, 9, 3, 4, 2]"
      ]
     },
     "execution_count": 43,
     "metadata": {},
     "output_type": "execute_result"
    }
   ],
   "source": [
    "list1"
   ]
  },
  {
   "cell_type": "code",
   "execution_count": 44,
   "id": "73946f2e",
   "metadata": {},
   "outputs": [
    {
     "name": "stdout",
     "output_type": "stream",
     "text": [
      "odd\n",
      "Even\n",
      "Even\n",
      "odd\n",
      "odd\n",
      "Even\n",
      "Even\n"
     ]
    }
   ],
   "source": [
    "for number in list1:\n",
    "    if number%2==0:\n",
    "        print(\"Even\")\n",
    "        \n",
    "    else:\n",
    "        print(\"odd\")"
   ]
  },
  {
   "cell_type": "code",
   "execution_count": 49,
   "id": "086ad147",
   "metadata": {},
   "outputs": [],
   "source": [
    "num= map(lambda Ev_odd: \"Even\" if Ev_odd %2==0 else \"Odd\", list1)"
   ]
  },
  {
   "cell_type": "code",
   "execution_count": 50,
   "id": "cbce7e34",
   "metadata": {},
   "outputs": [
    {
     "name": "stdout",
     "output_type": "stream",
     "text": [
      "['Odd', 'Even', 'Even', 'Odd', 'Odd', 'Even', 'Even']\n"
     ]
    }
   ],
   "source": [
    "print(list(num))"
   ]
  },
  {
   "cell_type": "code",
   "execution_count": 53,
   "id": "0bc33ce6",
   "metadata": {},
   "outputs": [
    {
     "name": "stdout",
     "output_type": "stream",
     "text": [
      "['Odd', 'Even', 'Even', 'Odd', 'Odd', 'Even', 'Even']\n"
     ]
    }
   ],
   "source": [
    "num= map(lambda ev_od: \"Even\" if ev_od %2==0 else \"Odd\", list1)\n",
    "\n",
    "print(list(num))"
   ]
  },
  {
   "cell_type": "code",
   "execution_count": 54,
   "id": "c391bc48",
   "metadata": {},
   "outputs": [
    {
     "name": "stdout",
     "output_type": "stream",
     "text": [
      "odd\n",
      "Even\n",
      "Even\n",
      "odd\n",
      "odd\n",
      "Even\n",
      "Even\n"
     ]
    }
   ],
   "source": [
    "tup=(5, 8, 6, 9, 3, 4, 2)\n",
    "for number in tup:\n",
    "    if number%2==0:\n",
    "        print(\"Even\")\n",
    "        \n",
    "    else:\n",
    "        print(\"odd\")"
   ]
  },
  {
   "cell_type": "code",
   "execution_count": 55,
   "id": "3dc281b6",
   "metadata": {},
   "outputs": [
    {
     "data": {
      "text/plain": [
       "tuple"
      ]
     },
     "execution_count": 55,
     "metadata": {},
     "output_type": "execute_result"
    }
   ],
   "source": [
    "\n",
    "type(tup)"
   ]
  },
  {
   "cell_type": "code",
   "execution_count": 56,
   "id": "720bf8b5",
   "metadata": {},
   "outputs": [],
   "source": [
    "import random"
   ]
  },
  {
   "cell_type": "code",
   "execution_count": 57,
   "id": "7b4c6137",
   "metadata": {},
   "outputs": [
    {
     "name": "stdout",
     "output_type": "stream",
     "text": [
      "0.5595927119944671\n"
     ]
    }
   ],
   "source": [
    "print(random.random())"
   ]
  },
  {
   "cell_type": "code",
   "execution_count": 1,
   "id": "95219f6d",
   "metadata": {},
   "outputs": [
    {
     "name": "stdout",
     "output_type": "stream",
     "text": [
      "1\n",
      "2\n",
      "3\n",
      "4\n",
      "5\n",
      "6\n"
     ]
    }
   ],
   "source": [
    "i=1\n",
    "while i<7:\n",
    "    print(i)\n",
    "    i=i+1"
   ]
  },
  {
   "cell_type": "code",
   "execution_count": 3,
   "id": "f5e29df7",
   "metadata": {},
   "outputs": [],
   "source": [
    "import sklearn"
   ]
  },
  {
   "cell_type": "code",
   "execution_count": 5,
   "id": "5cc7afa0",
   "metadata": {
    "collapsed": true
   },
   "outputs": [
    {
     "data": {
      "text/plain": [
       "['BASIC_FORMAT',\n",
       " 'BufferingFormatter',\n",
       " 'CRITICAL',\n",
       " 'DEBUG',\n",
       " 'ERROR',\n",
       " 'FATAL',\n",
       " 'FileHandler',\n",
       " 'Filter',\n",
       " 'Filterer',\n",
       " 'Formatter',\n",
       " 'Handler',\n",
       " 'INFO',\n",
       " 'LogRecord',\n",
       " 'Logger',\n",
       " 'LoggerAdapter',\n",
       " 'Manager',\n",
       " 'NOTSET',\n",
       " 'NullHandler',\n",
       " 'PercentStyle',\n",
       " 'PlaceHolder',\n",
       " 'RootLogger',\n",
       " 'StrFormatStyle',\n",
       " 'StreamHandler',\n",
       " 'StringTemplateStyle',\n",
       " 'Template',\n",
       " 'WARN',\n",
       " 'WARNING',\n",
       " '_STYLES',\n",
       " '_StderrHandler',\n",
       " '__all__',\n",
       " '__author__',\n",
       " '__builtins__',\n",
       " '__cached__',\n",
       " '__date__',\n",
       " '__doc__',\n",
       " '__file__',\n",
       " '__loader__',\n",
       " '__name__',\n",
       " '__package__',\n",
       " '__path__',\n",
       " '__spec__',\n",
       " '__status__',\n",
       " '__version__',\n",
       " '_acquireLock',\n",
       " '_addHandlerRef',\n",
       " '_checkLevel',\n",
       " '_defaultFormatter',\n",
       " '_defaultLastResort',\n",
       " '_handlerList',\n",
       " '_handlers',\n",
       " '_levelToName',\n",
       " '_lock',\n",
       " '_logRecordFactory',\n",
       " '_loggerClass',\n",
       " '_nameToLevel',\n",
       " '_register_at_fork_reinit_lock',\n",
       " '_releaseLock',\n",
       " '_removeHandlerRef',\n",
       " '_showwarning',\n",
       " '_srcfile',\n",
       " '_startTime',\n",
       " '_str_formatter',\n",
       " '_warnings_showwarning',\n",
       " 'addLevelName',\n",
       " 'atexit',\n",
       " 'basicConfig',\n",
       " 'captureWarnings',\n",
       " 'collections',\n",
       " 'config',\n",
       " 'critical',\n",
       " 'currentframe',\n",
       " 'debug',\n",
       " 'disable',\n",
       " 'error',\n",
       " 'exception',\n",
       " 'fatal',\n",
       " 'getLevelName',\n",
       " 'getLogRecordFactory',\n",
       " 'getLogger',\n",
       " 'getLoggerClass',\n",
       " 'handlers',\n",
       " 'info',\n",
       " 'io',\n",
       " 'lastResort',\n",
       " 'log',\n",
       " 'logMultiprocessing',\n",
       " 'logProcesses',\n",
       " 'logThreads',\n",
       " 'makeLogRecord',\n",
       " 'os',\n",
       " 'raiseExceptions',\n",
       " 're',\n",
       " 'root',\n",
       " 'setLogRecordFactory',\n",
       " 'setLoggerClass',\n",
       " 'shutdown',\n",
       " 'sys',\n",
       " 'threading',\n",
       " 'time',\n",
       " 'traceback',\n",
       " 'warn',\n",
       " 'warning',\n",
       " 'warnings',\n",
       " 'weakref']"
      ]
     },
     "execution_count": 5,
     "metadata": {},
     "output_type": "execute_result"
    }
   ],
   "source": [
    "dir(sklearn.logging)"
   ]
  },
  {
   "cell_type": "code",
   "execution_count": 8,
   "id": "168efe28",
   "metadata": {},
   "outputs": [],
   "source": [
    "dir1={ }\n",
    "list1=[ ]\n",
    "tup1=( )\n",
    "set1=set()"
   ]
  },
  {
   "cell_type": "code",
   "execution_count": 9,
   "id": "65b703a1",
   "metadata": {},
   "outputs": [
    {
     "name": "stdout",
     "output_type": "stream",
     "text": [
      "<class 'dict'>\n",
      "<class 'list'>\n",
      "<class 'tuple'>\n",
      "<class 'set'>\n"
     ]
    }
   ],
   "source": [
    "print(type(dir1))\n",
    "print(type(list1))\n",
    "print(type(tup1))\n",
    "print(type(set1))\n"
   ]
  },
  {
   "cell_type": "code",
   "execution_count": 13,
   "id": "cbf7083b",
   "metadata": {},
   "outputs": [
    {
     "name": "stdout",
     "output_type": "stream",
     "text": [
      "Enter any on55\n"
     ]
    }
   ],
   "source": [
    "import math\n",
    "radius=int(input(\"Enter any on\"))\n",
    "no=math.pi*radius**2"
   ]
  },
  {
   "cell_type": "code",
   "execution_count": 14,
   "id": "898c4b78",
   "metadata": {},
   "outputs": [
    {
     "data": {
      "text/plain": [
       "9503.317777109125"
      ]
     },
     "execution_count": 14,
     "metadata": {},
     "output_type": "execute_result"
    }
   ],
   "source": [
    "no"
   ]
  },
  {
   "cell_type": "code",
   "execution_count": null,
   "id": "4aeef52c",
   "metadata": {},
   "outputs": [],
   "source": []
  }
 ],
 "metadata": {
  "kernelspec": {
   "display_name": "Python 3 (ipykernel)",
   "language": "python",
   "name": "python3"
  },
  "language_info": {
   "codemirror_mode": {
    "name": "ipython",
    "version": 3
   },
   "file_extension": ".py",
   "mimetype": "text/x-python",
   "name": "python",
   "nbconvert_exporter": "python",
   "pygments_lexer": "ipython3",
   "version": "3.10.9"
  }
 },
 "nbformat": 4,
 "nbformat_minor": 5
}
