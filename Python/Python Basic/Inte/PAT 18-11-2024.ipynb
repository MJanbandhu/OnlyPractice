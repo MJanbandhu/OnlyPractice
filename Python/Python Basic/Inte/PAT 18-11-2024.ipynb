{
 "cells": [
  {
   "cell_type": "code",
   "execution_count": 1,
   "id": "7d94c2cd",
   "metadata": {},
   "outputs": [],
   "source": [
    "list1=[1,5,8,4,6,9,7,4,7]"
   ]
  },
  {
   "cell_type": "code",
   "execution_count": 2,
   "id": "b0ab7b3a",
   "metadata": {},
   "outputs": [],
   "source": [
    "list1.insert(3,3)"
   ]
  },
  {
   "cell_type": "code",
   "execution_count": 3,
   "id": "462f796e",
   "metadata": {},
   "outputs": [
    {
     "data": {
      "text/plain": [
       "[1, 5, 8, 3, 4, 6, 9, 7, 4, 7]"
      ]
     },
     "execution_count": 3,
     "metadata": {},
     "output_type": "execute_result"
    }
   ],
   "source": [
    "list1"
   ]
  },
  {
   "cell_type": "code",
   "execution_count": 11,
   "id": "8d6881a3",
   "metadata": {},
   "outputs": [],
   "source": [
    "def ev_odd():\n",
    "    for char in list1:\n",
    "        if char %2==0:\n",
    "            \n",
    "            print(\"Even\")\n",
    "        \n",
    "        else:\n",
    "            print(\"Odd\")"
   ]
  },
  {
   "cell_type": "code",
   "execution_count": 12,
   "id": "2bf7f51e",
   "metadata": {
    "scrolled": true
   },
   "outputs": [
    {
     "ename": "AttributeError",
     "evalue": "'function' object has no attribute 'list1'",
     "output_type": "error",
     "traceback": [
      "\u001b[1;31m---------------------------------------------------------------------------\u001b[0m",
      "\u001b[1;31mAttributeError\u001b[0m                            Traceback (most recent call last)",
      "Cell \u001b[1;32mIn[12], line 1\u001b[0m\n\u001b[1;32m----> 1\u001b[0m \u001b[43mev_odd\u001b[49m\u001b[38;5;241;43m.\u001b[39;49m\u001b[43mlist1\u001b[49m\n",
      "\u001b[1;31mAttributeError\u001b[0m: 'function' object has no attribute 'list1'"
     ]
    }
   ],
   "source": [
    "ev_odd.list1"
   ]
  },
  {
   "cell_type": "code",
   "execution_count": 28,
   "id": "f1466cfb",
   "metadata": {},
   "outputs": [
    {
     "name": "stdout",
     "output_type": "stream",
     "text": [
      "1 is Odd\n",
      "5 is Odd\n",
      "8 is Even\n",
      "4 is Even\n",
      "6 is Even\n",
      "9 is Odd\n",
      "7 is Odd\n",
      "4 is Even\n",
      "7 is Odd\n"
     ]
    }
   ],
   "source": [
    "list1 = [1, 5, 8, 4, 6, 9, 7, 4, 7]\n",
    "\n",
    "def ev_odd(numbers):\n",
    "    for char in numbers:\n",
    "        if char % 2 == 0:\n",
    "            print(f\"{char} is Even\")\n",
    "        else:\n",
    "            print(f\"{char} is Odd\")\n",
    "\n",
    "# Call the function with list1\n",
    "ev_odd(list1)"
   ]
  },
  {
   "cell_type": "code",
   "execution_count": 10,
   "id": "f84423a7",
   "metadata": {},
   "outputs": [
    {
     "name": "stdout",
     "output_type": "stream",
     "text": [
      "Odd\n",
      "Odd\n",
      "Even\n",
      "Odd\n",
      "Even\n",
      "Even\n",
      "Odd\n",
      "Odd\n",
      "Even\n",
      "Odd\n"
     ]
    }
   ],
   "source": [
    "for char in list1:\n",
    "        if char %2==0:\n",
    "            \n",
    "            print(\"Even\")\n",
    "        \n",
    "        else:\n",
    "            print(\"Odd\")"
   ]
  },
  {
   "cell_type": "code",
   "execution_count": 13,
   "id": "d2a3807e",
   "metadata": {},
   "outputs": [],
   "source": [
    "import numpy as np"
   ]
  },
  {
   "cell_type": "code",
   "execution_count": 15,
   "id": "67767a12",
   "metadata": {},
   "outputs": [],
   "source": [
    "arr1=np.array([[54,8,9],[8,9,3],[4,8,7,]])"
   ]
  },
  {
   "cell_type": "code",
   "execution_count": 17,
   "id": "bd4000e0",
   "metadata": {},
   "outputs": [
    {
     "data": {
      "text/plain": [
       "2"
      ]
     },
     "execution_count": 17,
     "metadata": {},
     "output_type": "execute_result"
    }
   ],
   "source": [
    "arr1.ndim"
   ]
  },
  {
   "cell_type": "raw",
   "id": "c9a9ac5c",
   "metadata": {},
   "source": []
  },
  {
   "cell_type": "code",
   "execution_count": 18,
   "id": "4214e28c",
   "metadata": {},
   "outputs": [
    {
     "data": {
      "text/plain": [
       "array([[54,  8,  9],\n",
       "       [ 8,  9,  3],\n",
       "       [ 4,  8,  7]])"
      ]
     },
     "execution_count": 18,
     "metadata": {},
     "output_type": "execute_result"
    }
   ],
   "source": [
    "arr1"
   ]
  },
  {
   "cell_type": "code",
   "execution_count": 27,
   "id": "8dd6c5c6",
   "metadata": {},
   "outputs": [
    {
     "data": {
      "text/plain": [
       "7"
      ]
     },
     "execution_count": 27,
     "metadata": {},
     "output_type": "execute_result"
    }
   ],
   "source": [
    "arr1[2][2]"
   ]
  },
  {
   "cell_type": "code",
   "execution_count": null,
   "id": "9f07e2b5",
   "metadata": {},
   "outputs": [],
   "source": [
    "# find the emp records from emp table where dep data science and salary >50000"
   ]
  },
  {
   "cell_type": "code",
   "execution_count": null,
   "id": "54bd253f",
   "metadata": {},
   "outputs": [],
   "source": [
    "select * from employee where department='Data Science' and salary>50000;"
   ]
  },
  {
   "cell_type": "code",
   "execution_count": null,
   "id": "9792d90d",
   "metadata": {},
   "outputs": [],
   "source": []
  },
  {
   "cell_type": "code",
   "execution_count": null,
   "id": "4c551dc2",
   "metadata": {},
   "outputs": [],
   "source": []
  },
  {
   "cell_type": "code",
   "execution_count": null,
   "id": "e5da7d3d",
   "metadata": {},
   "outputs": [],
   "source": []
  },
  {
   "cell_type": "code",
   "execution_count": null,
   "id": "49fd007b",
   "metadata": {},
   "outputs": [],
   "source": []
  },
  {
   "cell_type": "code",
   "execution_count": null,
   "id": "9f51f5b3",
   "metadata": {},
   "outputs": [],
   "source": []
  },
  {
   "cell_type": "code",
   "execution_count": null,
   "id": "d9b010fc",
   "metadata": {},
   "outputs": [],
   "source": []
  },
  {
   "cell_type": "code",
   "execution_count": null,
   "id": "f63c886c",
   "metadata": {},
   "outputs": [],
   "source": []
  }
 ],
 "metadata": {
  "kernelspec": {
   "display_name": "Python 3 (ipykernel)",
   "language": "python",
   "name": "python3"
  },
  "language_info": {
   "codemirror_mode": {
    "name": "ipython",
    "version": 3
   },
   "file_extension": ".py",
   "mimetype": "text/x-python",
   "name": "python",
   "nbconvert_exporter": "python",
   "pygments_lexer": "ipython3",
   "version": "3.10.9"
  }
 },
 "nbformat": 4,
 "nbformat_minor": 5
}
