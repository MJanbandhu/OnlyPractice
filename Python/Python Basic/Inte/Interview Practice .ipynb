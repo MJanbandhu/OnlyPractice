{
 "cells": [
  {
   "cell_type": "code",
   "execution_count": 71,
   "id": "ff2196f0",
   "metadata": {},
   "outputs": [],
   "source": [
    "m=\"Mohit Janbandhu 123\""
   ]
  },
  {
   "cell_type": "code",
   "execution_count": 124,
   "id": "8dda7b35",
   "metadata": {},
   "outputs": [],
   "source": [
    "upper=0\n",
    "lower=0\n",
    "digits=0"
   ]
  },
  {
   "cell_type": "code",
   "execution_count": 125,
   "id": "c2159410",
   "metadata": {},
   "outputs": [],
   "source": [
    "for char in m:\n",
    "    if char.isupper():\n",
    "        upper+=1\n",
    "        \n",
    "    elif char.islower():\n",
    "        lower+=1\n",
    "        \n",
    "    elif char.isdigit():\n",
    "        digits+=1"
   ]
  },
  {
   "cell_type": "code",
   "execution_count": 126,
   "id": "f77a96c1",
   "metadata": {},
   "outputs": [
    {
     "name": "stdout",
     "output_type": "stream",
     "text": [
      "2\n",
      "12\n",
      "3\n"
     ]
    }
   ],
   "source": [
    "print(upper)\n",
    "print(lower)\n",
    "print(digits)"
   ]
  },
  {
   "cell_type": "code",
   "execution_count": null,
   "id": "9cd81e0c",
   "metadata": {},
   "outputs": [],
   "source": []
  },
  {
   "cell_type": "code",
   "execution_count": 72,
   "id": "0165afde",
   "metadata": {},
   "outputs": [
    {
     "data": {
      "text/plain": [
       "str"
      ]
     },
     "execution_count": 72,
     "metadata": {},
     "output_type": "execute_result"
    }
   ],
   "source": [
    "type(m)"
   ]
  },
  {
   "cell_type": "code",
   "execution_count": 73,
   "id": "3b25c046",
   "metadata": {},
   "outputs": [
    {
     "data": {
      "text/plain": [
       "'h'"
      ]
     },
     "execution_count": 73,
     "metadata": {},
     "output_type": "execute_result"
    }
   ],
   "source": [
    "m[2]"
   ]
  },
  {
   "cell_type": "code",
   "execution_count": 74,
   "id": "91c1a2b3",
   "metadata": {},
   "outputs": [
    {
     "data": {
      "text/plain": [
       "19"
      ]
     },
     "execution_count": 74,
     "metadata": {},
     "output_type": "execute_result"
    }
   ],
   "source": [
    "len(m)"
   ]
  },
  {
   "cell_type": "code",
   "execution_count": 75,
   "id": "42d5a0e7",
   "metadata": {},
   "outputs": [
    {
     "data": {
      "text/plain": [
       "2"
      ]
     },
     "execution_count": 75,
     "metadata": {},
     "output_type": "execute_result"
    }
   ],
   "source": [
    "m.index('h')"
   ]
  },
  {
   "cell_type": "code",
   "execution_count": 76,
   "id": "048d1cfd",
   "metadata": {},
   "outputs": [
    {
     "data": {
      "text/plain": [
       "'Mohit '"
      ]
     },
     "execution_count": 76,
     "metadata": {},
     "output_type": "execute_result"
    }
   ],
   "source": [
    "m[0:6]"
   ]
  },
  {
   "cell_type": "code",
   "execution_count": 77,
   "id": "9124e425",
   "metadata": {},
   "outputs": [
    {
     "data": {
      "text/plain": [
       "'hit '"
      ]
     },
     "execution_count": 77,
     "metadata": {},
     "output_type": "execute_result"
    }
   ],
   "source": [
    "m[2:6:1]"
   ]
  },
  {
   "cell_type": "code",
   "execution_count": 78,
   "id": "b1972b30",
   "metadata": {},
   "outputs": [
    {
     "data": {
      "text/plain": [
       "'hu 12'"
      ]
     },
     "execution_count": 78,
     "metadata": {},
     "output_type": "execute_result"
    }
   ],
   "source": [
    "m[-6:-1]"
   ]
  },
  {
   "cell_type": "code",
   "execution_count": 20,
   "id": "840b1b1c",
   "metadata": {},
   "outputs": [
    {
     "data": {
      "text/plain": [
       "'3'"
      ]
     },
     "execution_count": 20,
     "metadata": {},
     "output_type": "execute_result"
    }
   ],
   "source": [
    "m[-1]"
   ]
  },
  {
   "cell_type": "code",
   "execution_count": 25,
   "id": "c193d942",
   "metadata": {},
   "outputs": [
    {
     "data": {
      "text/plain": [
       "'Mohit Janbandhu 123'"
      ]
     },
     "execution_count": 25,
     "metadata": {},
     "output_type": "execute_result"
    }
   ],
   "source": [
    "m[0:19:1]"
   ]
  },
  {
   "cell_type": "code",
   "execution_count": 28,
   "id": "16113f92",
   "metadata": {},
   "outputs": [
    {
     "data": {
      "text/plain": [
       "'Mohit Janbandhu 12'"
      ]
     },
     "execution_count": 28,
     "metadata": {},
     "output_type": "execute_result"
    }
   ],
   "source": [
    "m[-19:-1]"
   ]
  },
  {
   "cell_type": "code",
   "execution_count": 29,
   "id": "6dbb7941",
   "metadata": {},
   "outputs": [
    {
     "ename": "ValueError",
     "evalue": "invalid literal for int() with base 10: 'Mohit Janbandhu 123'",
     "output_type": "error",
     "traceback": [
      "\u001b[1;31m---------------------------------------------------------------------------\u001b[0m",
      "\u001b[1;31mValueError\u001b[0m                                Traceback (most recent call last)",
      "Cell \u001b[1;32mIn[29], line 1\u001b[0m\n\u001b[1;32m----> 1\u001b[0m n\u001b[38;5;241m=\u001b[39m\u001b[38;5;28;43mint\u001b[39;49m\u001b[43m(\u001b[49m\u001b[43mm\u001b[49m\u001b[43m)\u001b[49m\n",
      "\u001b[1;31mValueError\u001b[0m: invalid literal for int() with base 10: 'Mohit Janbandhu 123'"
     ]
    }
   ],
   "source": [
    "n=int(m)"
   ]
  },
  {
   "cell_type": "code",
   "execution_count": 32,
   "id": "f30907df",
   "metadata": {},
   "outputs": [
    {
     "ename": "ValueError",
     "evalue": "invalid literal for int() with base 10: 'Mohit Janbandhu 123'",
     "output_type": "error",
     "traceback": [
      "\u001b[1;31m---------------------------------------------------------------------------\u001b[0m",
      "\u001b[1;31mValueError\u001b[0m                                Traceback (most recent call last)",
      "Cell \u001b[1;32mIn[32], line 1\u001b[0m\n\u001b[1;32m----> 1\u001b[0m j\u001b[38;5;241m=\u001b[39m\u001b[38;5;28;43mint\u001b[39;49m\u001b[43m(\u001b[49m\u001b[43mm\u001b[49m\u001b[43m)\u001b[49m\n",
      "\u001b[1;31mValueError\u001b[0m: invalid literal for int() with base 10: 'Mohit Janbandhu 123'"
     ]
    }
   ],
   "source": [
    "j=int(m)"
   ]
  },
  {
   "cell_type": "code",
   "execution_count": 33,
   "id": "3fd82118",
   "metadata": {},
   "outputs": [
    {
     "data": {
      "text/plain": [
       "int"
      ]
     },
     "execution_count": 33,
     "metadata": {},
     "output_type": "execute_result"
    }
   ],
   "source": [
    "type(j)"
   ]
  },
  {
   "cell_type": "code",
   "execution_count": 35,
   "id": "0be1db53",
   "metadata": {},
   "outputs": [
    {
     "data": {
      "text/plain": [
       "True"
      ]
     },
     "execution_count": 35,
     "metadata": {},
     "output_type": "execute_result"
    }
   ],
   "source": [
    "m.startswith('M')"
   ]
  },
  {
   "cell_type": "code",
   "execution_count": 36,
   "id": "3f43efb1",
   "metadata": {},
   "outputs": [
    {
     "data": {
      "text/plain": [
       "True"
      ]
     },
     "execution_count": 36,
     "metadata": {},
     "output_type": "execute_result"
    }
   ],
   "source": [
    "m.endswith(\"3\")"
   ]
  },
  {
   "cell_type": "code",
   "execution_count": 38,
   "id": "0deba9ad",
   "metadata": {},
   "outputs": [],
   "source": [
    "mo=\"mohit\""
   ]
  },
  {
   "cell_type": "code",
   "execution_count": 39,
   "id": "5a1a797b",
   "metadata": {},
   "outputs": [
    {
     "data": {
      "text/plain": [
       "'MOHIT'"
      ]
     },
     "execution_count": 39,
     "metadata": {},
     "output_type": "execute_result"
    }
   ],
   "source": [
    "mo.upper()"
   ]
  },
  {
   "cell_type": "code",
   "execution_count": 40,
   "id": "366d108b",
   "metadata": {},
   "outputs": [
    {
     "data": {
      "text/plain": [
       "'mohit'"
      ]
     },
     "execution_count": 40,
     "metadata": {},
     "output_type": "execute_result"
    }
   ],
   "source": [
    "mo.lower()"
   ]
  },
  {
   "cell_type": "code",
   "execution_count": 63,
   "id": "5f0cf17d",
   "metadata": {},
   "outputs": [],
   "source": [
    "list1=[1,2,3,4,5,6,7,8,9,5]"
   ]
  },
  {
   "cell_type": "code",
   "execution_count": 64,
   "id": "d5c725e9",
   "metadata": {},
   "outputs": [
    {
     "data": {
      "text/plain": [
       "list"
      ]
     },
     "execution_count": 64,
     "metadata": {},
     "output_type": "execute_result"
    }
   ],
   "source": [
    "type(list1)"
   ]
  },
  {
   "cell_type": "code",
   "execution_count": 65,
   "id": "cc1d3287",
   "metadata": {},
   "outputs": [],
   "source": [
    "list1.append(10)"
   ]
  },
  {
   "cell_type": "code",
   "execution_count": 66,
   "id": "d477d47c",
   "metadata": {},
   "outputs": [
    {
     "data": {
      "text/plain": [
       "[1, 2, 3, 4, 5, 6, 7, 8, 9, 5, 10]"
      ]
     },
     "execution_count": 66,
     "metadata": {},
     "output_type": "execute_result"
    }
   ],
   "source": [
    "list1"
   ]
  },
  {
   "cell_type": "code",
   "execution_count": 67,
   "id": "97464346",
   "metadata": {},
   "outputs": [],
   "source": [
    "list1.insert(10,20)"
   ]
  },
  {
   "cell_type": "code",
   "execution_count": 68,
   "id": "e08d6245",
   "metadata": {},
   "outputs": [
    {
     "data": {
      "text/plain": [
       "[1, 2, 3, 4, 5, 6, 7, 8, 9, 5, 20, 10]"
      ]
     },
     "execution_count": 68,
     "metadata": {},
     "output_type": "execute_result"
    }
   ],
   "source": [
    "list1"
   ]
  },
  {
   "cell_type": "code",
   "execution_count": 69,
   "id": "cbb6b1fb",
   "metadata": {},
   "outputs": [],
   "source": [
    "my_list = [1, 2, 3]\n",
    "my_list[0] = 10 "
   ]
  },
  {
   "cell_type": "code",
   "execution_count": 70,
   "id": "bc5b8135",
   "metadata": {},
   "outputs": [
    {
     "data": {
      "text/plain": [
       "[10, 2, 3]"
      ]
     },
     "execution_count": 70,
     "metadata": {},
     "output_type": "execute_result"
    }
   ],
   "source": [
    "my_list"
   ]
  },
  {
   "cell_type": "code",
   "execution_count": 49,
   "id": "99725fae",
   "metadata": {},
   "outputs": [],
   "source": [
    "my_list[2]=20"
   ]
  },
  {
   "cell_type": "code",
   "execution_count": 50,
   "id": "3e81423f",
   "metadata": {},
   "outputs": [
    {
     "data": {
      "text/plain": [
       "[10, 2, 20]"
      ]
     },
     "execution_count": 50,
     "metadata": {},
     "output_type": "execute_result"
    }
   ],
   "source": [
    "\n",
    "my_list"
   ]
  },
  {
   "cell_type": "code",
   "execution_count": 51,
   "id": "77084760",
   "metadata": {},
   "outputs": [],
   "source": [
    "list2=[1, 7, 8, 50, 56, 32, 100, 200, 300]"
   ]
  },
  {
   "cell_type": "code",
   "execution_count": 53,
   "id": "ba6957bc",
   "metadata": {},
   "outputs": [
    {
     "data": {
      "text/plain": [
       "str"
      ]
     },
     "execution_count": 53,
     "metadata": {},
     "output_type": "execute_result"
    }
   ],
   "source": [
    "type(list2)"
   ]
  },
  {
   "cell_type": "code",
   "execution_count": 54,
   "id": "979dfcd7",
   "metadata": {},
   "outputs": [],
   "source": [
    "list3=list(list2)"
   ]
  },
  {
   "cell_type": "code",
   "execution_count": 55,
   "id": "86aa5002",
   "metadata": {},
   "outputs": [
    {
     "data": {
      "text/plain": [
       "list"
      ]
     },
     "execution_count": 55,
     "metadata": {},
     "output_type": "execute_result"
    }
   ],
   "source": [
    "type(list3)"
   ]
  },
  {
   "cell_type": "code",
   "execution_count": 57,
   "id": "c4362d86",
   "metadata": {},
   "outputs": [
    {
     "name": "stdout",
     "output_type": "stream",
     "text": [
      "['1', ',', ' ', '7', ',', ' ', '8', ',', ' ', '5', '0', ',', ' ', '5', '6', ',', ' ', '3', '2', ',', ' ', '1', '0', '0', ',', ' ', '2', '0', '0', ',', ' ', '3', '0', '0']\n"
     ]
    }
   ],
   "source": [
    "print(list3)"
   ]
  },
  {
   "cell_type": "code",
   "execution_count": 58,
   "id": "d6e2e1e1",
   "metadata": {},
   "outputs": [
    {
     "name": "stdout",
     "output_type": "stream",
     "text": [
      "['1,', '7,', '8,', '50,', '56,', '32,', '100,', '200,', '300']\n"
     ]
    }
   ],
   "source": [
    " \n",
    "my_list = list2.split()\n",
    "print(my_list)"
   ]
  },
  {
   "cell_type": "code",
   "execution_count": 59,
   "id": "524d72a9",
   "metadata": {},
   "outputs": [],
   "source": [
    "list4=[1, 7, 8, 50, 56, 32, 100, 200, 300]"
   ]
  },
  {
   "cell_type": "code",
   "execution_count": 60,
   "id": "5979aa38",
   "metadata": {},
   "outputs": [
    {
     "data": {
      "text/plain": [
       "list"
      ]
     },
     "execution_count": 60,
     "metadata": {},
     "output_type": "execute_result"
    }
   ],
   "source": [
    "type(list4)"
   ]
  },
  {
   "cell_type": "code",
   "execution_count": 61,
   "id": "223f3802",
   "metadata": {},
   "outputs": [
    {
     "data": {
      "text/plain": [
       "1"
      ]
     },
     "execution_count": 61,
     "metadata": {},
     "output_type": "execute_result"
    }
   ],
   "source": [
    "min(list4)"
   ]
  },
  {
   "cell_type": "code",
   "execution_count": 62,
   "id": "59ae0635",
   "metadata": {},
   "outputs": [
    {
     "data": {
      "text/plain": [
       "300"
      ]
     },
     "execution_count": 62,
     "metadata": {},
     "output_type": "execute_result"
    }
   ],
   "source": [
    "max(list4)"
   ]
  },
  {
   "cell_type": "code",
   "execution_count": 63,
   "id": "85cf7791",
   "metadata": {},
   "outputs": [
    {
     "data": {
      "text/plain": [
       "754"
      ]
     },
     "execution_count": 63,
     "metadata": {},
     "output_type": "execute_result"
    }
   ],
   "source": [
    "sum(list4)"
   ]
  },
  {
   "cell_type": "code",
   "execution_count": 66,
   "id": "1f22175f",
   "metadata": {},
   "outputs": [
    {
     "data": {
      "text/plain": [
       "1"
      ]
     },
     "execution_count": 66,
     "metadata": {},
     "output_type": "execute_result"
    }
   ],
   "source": [
    "list4.count(8)"
   ]
  },
  {
   "cell_type": "code",
   "execution_count": 67,
   "id": "da344cc7",
   "metadata": {},
   "outputs": [],
   "source": [
    "list4.reverse()"
   ]
  },
  {
   "cell_type": "code",
   "execution_count": 68,
   "id": "fcabed36",
   "metadata": {},
   "outputs": [
    {
     "data": {
      "text/plain": [
       "[300, 200, 100, 32, 56, 50, 8, 7, 1]"
      ]
     },
     "execution_count": 68,
     "metadata": {},
     "output_type": "execute_result"
    }
   ],
   "source": [
    "list4"
   ]
  },
  {
   "cell_type": "code",
   "execution_count": 69,
   "id": "d8d16c9e",
   "metadata": {},
   "outputs": [],
   "source": [
    "list4.sort()"
   ]
  },
  {
   "cell_type": "code",
   "execution_count": 70,
   "id": "dd59e077",
   "metadata": {},
   "outputs": [
    {
     "data": {
      "text/plain": [
       "[1, 7, 8, 32, 50, 56, 100, 200, 300]"
      ]
     },
     "execution_count": 70,
     "metadata": {},
     "output_type": "execute_result"
    }
   ],
   "source": [
    "list4"
   ]
  },
  {
   "cell_type": "code",
   "execution_count": 71,
   "id": "c30d42c0",
   "metadata": {},
   "outputs": [],
   "source": [
    "list4.reverse()"
   ]
  },
  {
   "cell_type": "code",
   "execution_count": 72,
   "id": "cf368b69",
   "metadata": {},
   "outputs": [
    {
     "data": {
      "text/plain": [
       "[300, 200, 100, 56, 50, 32, 8, 7, 1]"
      ]
     },
     "execution_count": 72,
     "metadata": {},
     "output_type": "execute_result"
    }
   ],
   "source": [
    "list4"
   ]
  },
  {
   "cell_type": "code",
   "execution_count": 73,
   "id": "d3c6d3b3",
   "metadata": {},
   "outputs": [],
   "source": [
    "M=55"
   ]
  },
  {
   "cell_type": "code",
   "execution_count": 74,
   "id": "15d81114",
   "metadata": {},
   "outputs": [
    {
     "data": {
      "text/plain": [
       "int"
      ]
     },
     "execution_count": 74,
     "metadata": {},
     "output_type": "execute_result"
    }
   ],
   "source": [
    "type(M)"
   ]
  },
  {
   "cell_type": "code",
   "execution_count": 82,
   "id": "3ee1b7fe",
   "metadata": {},
   "outputs": [
    {
     "data": {
      "text/plain": [
       "55.0"
      ]
     },
     "execution_count": 82,
     "metadata": {},
     "output_type": "execute_result"
    }
   ],
   "source": [
    "float(M)"
   ]
  },
  {
   "cell_type": "code",
   "execution_count": 81,
   "id": "788395af",
   "metadata": {},
   "outputs": [
    {
     "ename": "SyntaxError",
     "evalue": "invalid syntax (2691558876.py, line 2)",
     "output_type": "error",
     "traceback": [
      "\u001b[1;36m  Cell \u001b[1;32mIn[81], line 2\u001b[1;36m\u001b[0m\n\u001b[1;33m    D.(float)\u001b[0m\n\u001b[1;37m      ^\u001b[0m\n\u001b[1;31mSyntaxError\u001b[0m\u001b[1;31m:\u001b[0m invalid syntax\n"
     ]
    }
   ],
   "source": [
    " "
   ]
  },
  {
   "cell_type": "code",
   "execution_count": 84,
   "id": "041be051",
   "metadata": {},
   "outputs": [],
   "source": [
    "l=[1,2,3,4,5,6,7,8,9,5]"
   ]
  },
  {
   "cell_type": "code",
   "execution_count": 86,
   "id": "fdcc6172",
   "metadata": {},
   "outputs": [],
   "source": [
    "l.reverse()"
   ]
  },
  {
   "cell_type": "code",
   "execution_count": 87,
   "id": "fb817a22",
   "metadata": {},
   "outputs": [
    {
     "data": {
      "text/plain": [
       "[5, 9, 8, 7, 6, 5, 4, 3, 2, 1]"
      ]
     },
     "execution_count": 87,
     "metadata": {},
     "output_type": "execute_result"
    }
   ],
   "source": [
    "l"
   ]
  },
  {
   "cell_type": "code",
   "execution_count": 88,
   "id": "90b8d710",
   "metadata": {},
   "outputs": [],
   "source": [
    "A=645646"
   ]
  },
  {
   "cell_type": "code",
   "execution_count": 89,
   "id": "2317fd50",
   "metadata": {},
   "outputs": [
    {
     "ename": "AttributeError",
     "evalue": "'int' object has no attribute 'reverse'",
     "output_type": "error",
     "traceback": [
      "\u001b[1;31m---------------------------------------------------------------------------\u001b[0m",
      "\u001b[1;31mAttributeError\u001b[0m                            Traceback (most recent call last)",
      "Cell \u001b[1;32mIn[89], line 1\u001b[0m\n\u001b[1;32m----> 1\u001b[0m \u001b[43mA\u001b[49m\u001b[38;5;241;43m.\u001b[39;49m\u001b[43mreverse\u001b[49m()\n",
      "\u001b[1;31mAttributeError\u001b[0m: 'int' object has no attribute 'reverse'"
     ]
    }
   ],
   "source": [
    "A.reverse()"
   ]
  },
  {
   "cell_type": "code",
   "execution_count": 90,
   "id": "bcc90319",
   "metadata": {},
   "outputs": [],
   "source": [
    "Aa=str(A)"
   ]
  },
  {
   "cell_type": "code",
   "execution_count": 93,
   "id": "1fbce630",
   "metadata": {},
   "outputs": [
    {
     "ename": "AttributeError",
     "evalue": "'str' object has no attribute 'reverse'",
     "output_type": "error",
     "traceback": [
      "\u001b[1;31m---------------------------------------------------------------------------\u001b[0m",
      "\u001b[1;31mAttributeError\u001b[0m                            Traceback (most recent call last)",
      "Cell \u001b[1;32mIn[93], line 1\u001b[0m\n\u001b[1;32m----> 1\u001b[0m \u001b[43mAa\u001b[49m\u001b[38;5;241;43m.\u001b[39;49m\u001b[43mreverse\u001b[49m()\n",
      "\u001b[1;31mAttributeError\u001b[0m: 'str' object has no attribute 'reverse'"
     ]
    }
   ],
   "source": [
    "Aa.reverse()"
   ]
  },
  {
   "cell_type": "code",
   "execution_count": 94,
   "id": "b80481ec",
   "metadata": {},
   "outputs": [],
   "source": [
    "mo=Aa[::-1]"
   ]
  },
  {
   "cell_type": "code",
   "execution_count": 95,
   "id": "f5fe1502",
   "metadata": {},
   "outputs": [
    {
     "data": {
      "text/plain": [
       "'646546'"
      ]
     },
     "execution_count": 95,
     "metadata": {},
     "output_type": "execute_result"
    }
   ],
   "source": [
    "mo"
   ]
  },
  {
   "cell_type": "code",
   "execution_count": 100,
   "id": "dcb7a01c",
   "metadata": {},
   "outputs": [
    {
     "name": "stdout",
     "output_type": "stream",
     "text": [
      "this is the reverse no:0646546\n"
     ]
    }
   ],
   "source": [
    "print(\"this is the reverse no:0{}\".format(mo))"
   ]
  },
  {
   "cell_type": "code",
   "execution_count": 101,
   "id": "0b7847b4",
   "metadata": {},
   "outputs": [
    {
     "name": "stdout",
     "output_type": "stream",
     "text": [
      "Enter no5\n"
     ]
    }
   ],
   "source": [
    "ev_od=int(input(\"Enter no\"))"
   ]
  },
  {
   "cell_type": "code",
   "execution_count": 104,
   "id": "8a5b60f3",
   "metadata": {},
   "outputs": [
    {
     "name": "stdout",
     "output_type": "stream",
     "text": [
      "Enter no4\n",
      "This is even number\n"
     ]
    }
   ],
   "source": [
    "ev_od=int(input(\"Enter no\"))\n",
    "if ev_od%2==0:\n",
    "    print(\"This is even number\")\n",
    "    \n",
    "else:\n",
    "    print(\"This is odd\")\n",
    "    "
   ]
  },
  {
   "cell_type": "code",
   "execution_count": 108,
   "id": "dbf658fd",
   "metadata": {},
   "outputs": [],
   "source": [
    "list5=[1,2,3,4,5,6,7,8,9,5]"
   ]
  },
  {
   "cell_type": "code",
   "execution_count": 109,
   "id": "6ca8e55a",
   "metadata": {},
   "outputs": [
    {
     "ename": "TypeError",
     "evalue": "unsupported operand type(s) for %: 'list' and 'int'",
     "output_type": "error",
     "traceback": [
      "\u001b[1;31m---------------------------------------------------------------------------\u001b[0m",
      "\u001b[1;31mTypeError\u001b[0m                                 Traceback (most recent call last)",
      "Cell \u001b[1;32mIn[109], line 1\u001b[0m\n\u001b[1;32m----> 1\u001b[0m \u001b[38;5;28;01mif\u001b[39;00m \u001b[43mlist5\u001b[49m\u001b[43m \u001b[49m\u001b[38;5;241;43m%\u001b[39;49m\u001b[38;5;241;43m2\u001b[39;49m\u001b[38;5;241m==\u001b[39mo:\n\u001b[0;32m      2\u001b[0m     \u001b[38;5;28mprint\u001b[39m(\u001b[38;5;124m\"\u001b[39m\u001b[38;5;124mEven\u001b[39m\u001b[38;5;124m\"\u001b[39m)\n\u001b[0;32m      4\u001b[0m \u001b[38;5;28;01melse\u001b[39;00m:\n",
      "\u001b[1;31mTypeError\u001b[0m: unsupported operand type(s) for %: 'list' and 'int'"
     ]
    }
   ],
   "source": [
    "if list5 %2==o:\n",
    "    print(\"Even\")\n",
    "    \n",
    "else:\n",
    "    print(\"odd\")"
   ]
  },
  {
   "cell_type": "code",
   "execution_count": 110,
   "id": "c9b5faaf",
   "metadata": {},
   "outputs": [],
   "source": [
    "ev_odd=map(lambda ev_od: \"even\" if ev_od %2==0 else 'odd',list5)"
   ]
  },
  {
   "cell_type": "code",
   "execution_count": 112,
   "id": "47555759",
   "metadata": {},
   "outputs": [
    {
     "data": {
      "text/plain": [
       "['odd', 'even', 'odd', 'even', 'odd', 'even', 'odd', 'even', 'odd', 'odd']"
      ]
     },
     "execution_count": 112,
     "metadata": {},
     "output_type": "execute_result"
    }
   ],
   "source": [
    "list(ev_odd)"
   ]
  },
  {
   "cell_type": "code",
   "execution_count": 113,
   "id": "cf4fbcb4",
   "metadata": {},
   "outputs": [],
   "source": [
    "vowels='aeiouAEIOU'"
   ]
  },
  {
   "cell_type": "code",
   "execution_count": 119,
   "id": "d0890c5c",
   "metadata": {},
   "outputs": [
    {
     "name": "stdout",
     "output_type": "stream",
     "text": [
      "o i a a u "
     ]
    }
   ],
   "source": [
    "for char in m:\n",
    "    if char in vowels:\n",
    "        print(char, end=' ')"
   ]
  },
  {
   "cell_type": "code",
   "execution_count": 121,
   "id": "e67f4802",
   "metadata": {},
   "outputs": [
    {
     "name": "stdout",
     "output_type": "stream",
     "text": [
      "1\n",
      "2\n",
      "3\n",
      "4\n",
      "5\n",
      "6\n",
      "7\n",
      "8\n",
      "9\n",
      "10\n"
     ]
    }
   ],
   "source": [
    "for list5 in range (1,11):\n",
    "    print(list5)\n"
   ]
  },
  {
   "cell_type": "code",
   "execution_count": 1,
   "id": "e8bcbb71",
   "metadata": {},
   "outputs": [
    {
     "ename": "NameError",
     "evalue": "name 'm' is not defined",
     "output_type": "error",
     "traceback": [
      "\u001b[1;31m---------------------------------------------------------------------------\u001b[0m",
      "\u001b[1;31mNameError\u001b[0m                                 Traceback (most recent call last)",
      "Cell \u001b[1;32mIn[1], line 1\u001b[0m\n\u001b[1;32m----> 1\u001b[0m \u001b[43mm\u001b[49m\n",
      "\u001b[1;31mNameError\u001b[0m: name 'm' is not defined"
     ]
    }
   ],
   "source": [
    "m"
   ]
  },
  {
   "cell_type": "code",
   "execution_count": 12,
   "id": "bd5a60cb",
   "metadata": {},
   "outputs": [
    {
     "ename": "SyntaxError",
     "evalue": "leading zeros in decimal integer literals are not permitted; use an 0o prefix for octal integers (2735098861.py, line 1)",
     "output_type": "error",
     "traceback": [
      "\u001b[1;36m  Cell \u001b[1;32mIn[12], line 1\u001b[1;36m\u001b[0m\n\u001b[1;33m    A=012150\u001b[0m\n\u001b[1;37m      ^\u001b[0m\n\u001b[1;31mSyntaxError\u001b[0m\u001b[1;31m:\u001b[0m leading zeros in decimal integer literals are not permitted; use an 0o prefix for octal integers\n"
     ]
    }
   ],
   "source": [
    "A=012150"
   ]
  },
  {
   "cell_type": "code",
   "execution_count": 3,
   "id": "06f55fb8",
   "metadata": {},
   "outputs": [],
   "source": [
    "B=\"mohit\""
   ]
  },
  {
   "cell_type": "code",
   "execution_count": 6,
   "id": "58fd5fd5",
   "metadata": {},
   "outputs": [
    {
     "data": {
      "text/plain": [
       "'tihom'"
      ]
     },
     "execution_count": 6,
     "metadata": {},
     "output_type": "execute_result"
    }
   ],
   "source": [
    "B[::-1]"
   ]
  },
  {
   "cell_type": "code",
   "execution_count": 7,
   "id": "2624cb9b",
   "metadata": {},
   "outputs": [
    {
     "ename": "TypeError",
     "evalue": "'int' object is not subscriptable",
     "output_type": "error",
     "traceback": [
      "\u001b[1;31m---------------------------------------------------------------------------\u001b[0m",
      "\u001b[1;31mTypeError\u001b[0m                                 Traceback (most recent call last)",
      "Cell \u001b[1;32mIn[7], line 1\u001b[0m\n\u001b[1;32m----> 1\u001b[0m \u001b[43mA\u001b[49m\u001b[43m[\u001b[49m\u001b[43m:\u001b[49m\u001b[43m:\u001b[49m\u001b[38;5;241;43m-\u001b[39;49m\u001b[38;5;241;43m1\u001b[39;49m\u001b[43m]\u001b[49m\n",
      "\u001b[1;31mTypeError\u001b[0m: 'int' object is not subscriptable"
     ]
    }
   ],
   "source": [
    "A[::-1]"
   ]
  },
  {
   "cell_type": "code",
   "execution_count": 8,
   "id": "574773ef",
   "metadata": {},
   "outputs": [],
   "source": [
    "d=int(A)"
   ]
  },
  {
   "cell_type": "code",
   "execution_count": 9,
   "id": "fd0cab9d",
   "metadata": {},
   "outputs": [
    {
     "data": {
      "text/plain": [
       "int"
      ]
     },
     "execution_count": 9,
     "metadata": {},
     "output_type": "execute_result"
    }
   ],
   "source": [
    "type(A)"
   ]
  },
  {
   "cell_type": "code",
   "execution_count": 10,
   "id": "841a5f1f",
   "metadata": {},
   "outputs": [
    {
     "data": {
      "text/plain": [
       "12150"
      ]
     },
     "execution_count": 10,
     "metadata": {},
     "output_type": "execute_result"
    }
   ],
   "source": [
    "A"
   ]
  },
  {
   "cell_type": "code",
   "execution_count": 11,
   "id": "b5ca0e4b",
   "metadata": {},
   "outputs": [
    {
     "name": "stdout",
     "output_type": "stream",
     "text": [
      "05121\n"
     ]
    }
   ],
   "source": [
    "A_str = str(A)\n",
    "\n",
    "# Reverse the string\n",
    "A_reversed_str = A_str[::-1]\n",
    "\n",
    "# Convert the reversed string back to an integer\n",
    "A_reversed_int = int(A_reversed_str)\n",
    "\n",
    "# Print the integer formatted to include leading zeros, if necessary\n",
    "# Assuming you want it to have the same number of digits as the original number\n",
    "formatted_output = f\"{A_reversed_int:0{len(A_str)}d}\"\n",
    "print(formatted_output)"
   ]
  },
  {
   "cell_type": "code",
   "execution_count": 16,
   "id": "01aa616e",
   "metadata": {},
   "outputs": [
    {
     "name": "stdout",
     "output_type": "stream",
     "text": [
      "Enter any no.5\n",
      "It's odd no. 5\n"
     ]
    }
   ],
   "source": [
    "num= int(input(\"Enter any no.\"))\n",
    "\n",
    "if num %2==0:\n",
    "    print(f\"It's even no. {num}\")\n",
    "    \n",
    "else:\n",
    "    print(\"It's odd no.\",num)"
   ]
  },
  {
   "cell_type": "code",
   "execution_count": 35,
   "id": "65167681",
   "metadata": {},
   "outputs": [],
   "source": [
    "m=\"Mohit Janbandhu 123\"\n",
    "vowels=\"aeiouAEIOU\""
   ]
  },
  {
   "cell_type": "code",
   "execution_count": 36,
   "id": "cc54fd20",
   "metadata": {},
   "outputs": [
    {
     "name": "stdout",
     "output_type": "stream",
     "text": [
      "o i a a u "
     ]
    }
   ],
   "source": [
    "for char in m:\n",
    "    if char in vowels:\n",
    "        print(char,end=' ')"
   ]
  },
  {
   "cell_type": "code",
   "execution_count": 37,
   "id": "389d4a46",
   "metadata": {},
   "outputs": [],
   "source": [
    "upp_lat=0\n",
    "low_lat=0\n",
    "digits=0"
   ]
  },
  {
   "cell_type": "code",
   "execution_count": 40,
   "id": "a730f57d",
   "metadata": {},
   "outputs": [],
   "source": [
    "for char in m:\n",
    "    if char.isupper():\n",
    "        upp_lat+=1\n",
    "    \n",
    "    elif char.islower():\n",
    "        low_lat +=1\n",
    "    \n",
    "    elif char.isdigit():\n",
    "        digits +=1\n",
    "    \n",
    "    "
   ]
  },
  {
   "cell_type": "code",
   "execution_count": 41,
   "id": "83ba54e6",
   "metadata": {},
   "outputs": [
    {
     "data": {
      "text/plain": [
       "2"
      ]
     },
     "execution_count": 41,
     "metadata": {},
     "output_type": "execute_result"
    }
   ],
   "source": [
    "upp_lat"
   ]
  },
  {
   "cell_type": "code",
   "execution_count": 42,
   "id": "ae5da589",
   "metadata": {},
   "outputs": [
    {
     "name": "stdout",
     "output_type": "stream",
     "text": [
      "Uppercase letters: 2\n",
      "Lowercase letters: 12\n",
      "Digits: 3\n"
     ]
    }
   ],
   "source": [
    "print(f\"Uppercase letters: {upp_lat}\")\n",
    "print(f\"Lowercase letters: {low_lat}\")\n",
    "print(f\"Digits: {digits}\")"
   ]
  },
  {
   "cell_type": "code",
   "execution_count": null,
   "id": "f742ac05",
   "metadata": {},
   "outputs": [],
   "source": []
  },
  {
   "cell_type": "code",
   "execution_count": null,
   "id": "1a900056",
   "metadata": {},
   "outputs": [],
   "source": []
  },
  {
   "cell_type": "code",
   "execution_count": 1,
   "id": "7c57af26",
   "metadata": {},
   "outputs": [],
   "source": [
    "list5=[1,2,3,4,5,6,7,8,9,5]"
   ]
  },
  {
   "cell_type": "code",
   "execution_count": 2,
   "id": "da64ebfd",
   "metadata": {},
   "outputs": [],
   "source": [
    "def even_odd(number):\n",
    "    for list5 in list5:\n",
    "        print(f\"{list5} is {check_evodd(list5)}\")"
   ]
  },
  {
   "cell_type": "code",
   "execution_count": 4,
   "id": "c75f035b",
   "metadata": {},
   "outputs": [],
   "source": [
    "def even_odd(numbers):\n",
    "    def check_evodd(num):\n",
    "        return \"even\" if num % 2 == 0 else \"odd\""
   ]
  },
  {
   "cell_type": "code",
   "execution_count": 5,
   "id": "94d88377",
   "metadata": {},
   "outputs": [
    {
     "name": "stdout",
     "output_type": "stream",
     "text": [
      "1 is odd\n",
      "2 is even\n",
      "3 is odd\n",
      "4 is even\n",
      "5 is odd\n"
     ]
    }
   ],
   "source": [
    "def even_odd(numbers):\n",
    "    def check_evodd(num):\n",
    "        return \"even\" if num % 2 == 0 else \"odd\"\n",
    "    \n",
    "    for num in numbers:\n",
    "        print(f\"{num} is {check_evodd(num)}\")\n",
    "\n",
    "# Example usage:\n",
    "list5 = [1, 2, 3, 4, 5]\n",
    "even_odd(list5)"
   ]
  },
  {
   "cell_type": "code",
   "execution_count": 3,
   "id": "12e794d3",
   "metadata": {},
   "outputs": [
    {
     "name": "stdout",
     "output_type": "stream",
     "text": [
      "<function even_odd at 0x0000018475614CA0>\n"
     ]
    }
   ],
   "source": [
    "print(even_odd)"
   ]
  },
  {
   "cell_type": "code",
   "execution_count": 49,
   "id": "867115a0",
   "metadata": {},
   "outputs": [],
   "source": [
    "evv_odd=map(lambda ev_odd: \"Even\"if ev_odd%2==0  else \"odd\",list5)"
   ]
  },
  {
   "cell_type": "code",
   "execution_count": 50,
   "id": "133774e1",
   "metadata": {},
   "outputs": [
    {
     "name": "stdout",
     "output_type": "stream",
     "text": [
      "['odd', 'Even', 'odd', 'Even', 'odd', 'Even', 'odd', 'Even', 'odd', 'odd']\n"
     ]
    }
   ],
   "source": [
    "print(list(evv_odd))"
   ]
  },
  {
   "cell_type": "code",
   "execution_count": 2,
   "id": "fdabdefd",
   "metadata": {},
   "outputs": [],
   "source": [
    "def check_evodd (num):\n",
    "    if num%2==0:\n",
    "        return \"even\"\n",
    "        \n",
    "    else:\n",
    "        return \"odd\""
   ]
  },
  {
   "cell_type": "code",
   "execution_count": 3,
   "id": "61233ef3",
   "metadata": {},
   "outputs": [
    {
     "name": "stdout",
     "output_type": "stream",
     "text": [
      "even\n"
     ]
    }
   ],
   "source": [
    "print(check_evodd(4))"
   ]
  },
  {
   "cell_type": "code",
   "execution_count": 57,
   "id": "633abc02",
   "metadata": {},
   "outputs": [
    {
     "name": "stdout",
     "output_type": "stream",
     "text": [
      " the <class 'list'> is <function check_evodd at 0x0000021F130FB880>\n"
     ]
    }
   ],
   "source": [
    "print(f\" the {list} is {check_evodd}\")"
   ]
  },
  {
   "cell_type": "code",
   "execution_count": 4,
   "id": "cac0330a",
   "metadata": {},
   "outputs": [
    {
     "name": "stdout",
     "output_type": "stream",
     "text": [
      "1 is odd\n",
      "2 is even\n",
      "3 is odd\n",
      "4 is even\n",
      "5 is odd\n",
      "6 is even\n",
      "7 is odd\n",
      "8 is even\n",
      "9 is odd\n",
      "5 is odd\n"
     ]
    }
   ],
   "source": [
    "for list5 in list5:\n",
    "    print(f\"{list5} is {check_evodd(list5)}\")"
   ]
  },
  {
   "cell_type": "code",
   "execution_count": 62,
   "id": "a6792594",
   "metadata": {},
   "outputs": [
    {
     "ename": "AttributeError",
     "evalue": "'int' object has no attribute 'append'",
     "output_type": "error",
     "traceback": [
      "\u001b[1;31m---------------------------------------------------------------------------\u001b[0m",
      "\u001b[1;31mAttributeError\u001b[0m                            Traceback (most recent call last)",
      "Cell \u001b[1;32mIn[62], line 1\u001b[0m\n\u001b[1;32m----> 1\u001b[0m \u001b[43mlist5\u001b[49m\u001b[38;5;241;43m.\u001b[39;49m\u001b[43mappend\u001b[49m(\u001b[38;5;241m100\u001b[39m)\n",
      "\u001b[1;31mAttributeError\u001b[0m: 'int' object has no attribute 'append'"
     ]
    }
   ],
   "source": [
    "list5.append(100)"
   ]
  },
  {
   "cell_type": "code",
   "execution_count": null,
   "id": "13cafc5b",
   "metadata": {},
   "outputs": [],
   "source": []
  }
 ],
 "metadata": {
  "kernelspec": {
   "display_name": "Python 3 (ipykernel)",
   "language": "python",
   "name": "python3"
  },
  "language_info": {
   "codemirror_mode": {
    "name": "ipython",
    "version": 3
   },
   "file_extension": ".py",
   "mimetype": "text/x-python",
   "name": "python",
   "nbconvert_exporter": "python",
   "pygments_lexer": "ipython3",
   "version": "3.10.9"
  }
 },
 "nbformat": 4,
 "nbformat_minor": 5
}
