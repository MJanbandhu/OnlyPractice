{
 "cells": [
  {
   "cell_type": "code",
   "execution_count": 15,
   "id": "b8d3d60f-2da2-4670-9264-0aee957ccdb7",
   "metadata": {},
   "outputs": [],
   "source": [
    "List=[1,2,3,4,5,6,7,8,9,5]"
   ]
  },
  {
   "cell_type": "code",
   "execution_count": 21,
   "id": "8be1b2f6",
   "metadata": {},
   "outputs": [
    {
     "data": {
      "text/plain": [
       "2"
      ]
     },
     "execution_count": 21,
     "metadata": {},
     "output_type": "execute_result"
    }
   ],
   "source": [
    "List.index(3)"
   ]
  },
  {
   "cell_type": "code",
   "execution_count": 57,
   "id": "2fad689d",
   "metadata": {},
   "outputs": [
    {
     "data": {
      "text/plain": [
       "4"
      ]
     },
     "execution_count": 57,
     "metadata": {},
     "output_type": "execute_result"
    }
   ],
   "source": [
    "List.index(5)"
   ]
  },
  {
   "cell_type": "code",
   "execution_count": 83,
   "id": "c6b49c9f",
   "metadata": {},
   "outputs": [
    {
     "name": "stdout",
     "output_type": "stream",
     "text": [
      "10\n",
      "1\n",
      "9\n",
      "[3, 4, 5]\n",
      "[1, 2, 3, 4, 5, 5, 6, 7, 8, 9, 10]\n",
      "[1, 11, 2, 3, 4, 5, 5, 6, 7, 8, 9, 10]\n",
      "[1, 11, 2, 3, 4, 5, 5, 6, 7, 8, 9, 10, 12, 13]\n",
      "[1, 11, 2, 3, 4, 5, 6, 7, 8, 9, 10, 12, 13]\n",
      "13\n",
      "[1, 11, 2, 3, 4, 5, 6, 7, 8, 9, 10, 12]\n",
      "5\n",
      "1\n",
      "[1, 2, 3, 4, 5, 6, 7, 8, 9, 10, 11, 12]\n",
      "[1, 2, 3, 4, 5, 6, 7, 8, 9, 10, 11, 12]\n",
      "[12, 11, 10, 9, 8, 7, 6, 5, 4, 3, 2, 1]\n",
      "[1, 2, 3, 4, 5, 6, 7, 8, 9, 10, 11, 12]\n",
      "[144, 121, 100, 81, 64, 49, 36, 25, 16, 9, 4, 1]\n",
      "78\n",
      "1\n",
      "12\n",
      "True\n",
      "True\n",
      "[]\n",
      "[1, 2, 3, 4, 5, 6, 7, 8, 9, 5]\n"
     ]
    }
   ],
   "source": [
    "\n",
    "# The task we can perform with list\n",
    "\n",
    "#1. Length of the List\n",
    "\n",
    "#python\n",
    "\n",
    "length = len(List)\n",
    "print(length)  # Output: 10\n",
    "\n",
    "#2. Accessing Elements\n",
    "\n",
    "#python\n",
    "\n",
    "first_element = List[0]\n",
    "print(first_element)  # Output: 1\n",
    "\n",
    "last_element = List[-1]\n",
    "print(last_element)  # Output: 5\n",
    "\n",
    "#3. Slicing the List\n",
    "\n",
    "   \n",
    "sublist = List[2:5]\n",
    "print(sublist)  # Output: [3, 4, 5]\n",
    "\n",
    "#4. Adding Elements Using append()\n",
    "\n",
    " \n",
    "\n",
    "List.append(10)\n",
    "print(List)  # Output: [1, 2, 3, 4, 5, 6, 7, 8, 9, 5, 10]\n",
    "\n",
    "#Using insert()\n",
    "\n",
    "#python\n",
    "\n",
    "List.insert(1, 11)\n",
    "print(List)  # Output: [1, 11, 2, 3, 4, 5, 6, 7, 8, 9, 5, 10]\n",
    "\n",
    "#Using extend()\n",
    "\n",
    "#python\n",
    "\n",
    "List.extend([12, 13])\n",
    "print(List)  # Output: [1, 11, 2, 3, 4, 5, 6, 7, 8, 9, 5, 10, 12, 13]\n",
    "\n",
    "#5. Removing Elements\n",
    "#Using remove()\n",
    "\n",
    "#python\n",
    "\n",
    "List.remove(5)\n",
    "print(List)  # Output: [1, 11, 2, 3, 4, 6, 7, 8, 9, 5, 10, 12, 13]\n",
    "\n",
    "#Using pop()\n",
    "\n",
    "#python\n",
    "\n",
    "popped_element = List.pop()\n",
    "print(popped_element)  # Output: 13\n",
    "print(List)  # Output: [1, 11, 2, 3, 4, 6, 7, 8, 9, 5, 10, 12]\n",
    "\n",
    "#6. Finding Elements\n",
    "#Using index()\n",
    "\n",
    "#python\n",
    "\n",
    "index_of_five = List.index(5)\n",
    "print(index_of_five)  # Output: 9\n",
    "\n",
    "#Using count()\n",
    "\n",
    "#python\n",
    "\n",
    "count_of_five = List.count(5)\n",
    "print(count_of_five)  # Output: 2\n",
    "\n",
    "#7. Sorting the List\n",
    "\n",
    "#python\n",
    "\n",
    "List.sort()\n",
    "print(List)  # Output: [1, 2, 3, 4, 5, 5, 6, 7, 8, 9, 10, 11, 12]\n",
    "\n",
    "#Using sorted()\n",
    "\n",
    "#python\n",
    "\n",
    "sorted_list = sorted(List)\n",
    "print(sorted_list)  # Output: [1, 2, 3, 4, 5, 5, 6, 7, 8, 9, 10, 11, 12]\n",
    "\n",
    "#8. Reversing the List\n",
    "#Using reverse()\n",
    "\n",
    "#python\n",
    "\n",
    "List.reverse()\n",
    "print(List)  # Output: [12, 11, 10, 9, 8, 7, 6, 5, 5, 4, 3, 2, 1]\n",
    "\n",
    "#Using reversed()\n",
    "\n",
    "#python\n",
    "\n",
    "reversed_list = list(reversed(List))\n",
    "print(reversed_list)  # Output: [1, 2, 3, 4, 5, 5, 6, 7, 8, 9, 10, 11, 12]\n",
    "\n",
    "#9. List Comprehensions\n",
    "\n",
    "#python\n",
    "\n",
    "squared_list = [x**2 for x in List]\n",
    "print(squared_list)  # Output: [144, 121, 100, 81, 64, 49, 36, 25, 25, 16, 9, 4, 1]\n",
    "\n",
    "#10. Aggregations\n",
    "\n",
    "#python\n",
    "\n",
    "total_sum = sum(List)\n",
    "print(total_sum)  # Output: 93\n",
    "\n",
    "min_value = min(List)\n",
    "print(min_value)  # Output: 1\n",
    "\n",
    "max_value = max(List)\n",
    "print(max_value)  # Output: 12\n",
    "\n",
    "#11. Checking Membership\n",
    "\n",
    "#python\n",
    "\n",
    "is_in_list = 5 in List\n",
    "print(is_in_list)  # Output: True\n",
    "\n",
    "is_not_in_list = 13 not in List\n",
    "print(is_not_in_list)  # Output: True\n",
    "\n",
    "#12. Clearing the List\n",
    "\n",
    "#python\n",
    "\n",
    "List.clear()\n",
    "print(List)  # Output: []\n",
    "\n",
    "#13. Copying the List\n",
    "\n",
    "#python\n",
    "\n",
    "List = [1, 2, 3, 4, 5, 6, 7, 8, 9, 5]\n",
    "copy_of_list = List.copy()\n",
    "print(copy_of_list)  # Output: [1, 2, 3, 4, 5, 6, 7, 8, 9, 5]"
   ]
  },
  {
   "cell_type": "code",
   "execution_count": 60,
   "id": "3864e9f3-134e-4209-bbc9-52536c12d3eb",
   "metadata": {},
   "outputs": [
    {
     "data": {
      "text/plain": [
       "10"
      ]
     },
     "execution_count": 60,
     "metadata": {},
     "output_type": "execute_result"
    }
   ],
   "source": [
    "len(List)"
   ]
  },
  {
   "cell_type": "code",
   "execution_count": 1,
   "id": "f1547ff0",
   "metadata": {},
   "outputs": [],
   "source": [
    "A=1390"
   ]
  },
  {
   "cell_type": "code",
   "execution_count": 9,
   "id": "02a457c7",
   "metadata": {},
   "outputs": [
    {
     "data": {
      "text/plain": [
       "str"
      ]
     },
     "execution_count": 9,
     "metadata": {},
     "output_type": "execute_result"
    }
   ],
   "source": [
    "type(formatted_output)"
   ]
  },
  {
   "cell_type": "code",
   "execution_count": 3,
   "id": "5850629d",
   "metadata": {},
   "outputs": [
    {
     "name": "stdout",
     "output_type": "stream",
     "text": [
      "0931\n"
     ]
    }
   ],
   "source": [
    "A_str = str(A)\n",
    "\n",
    "# Reverse the string\n",
    "A_reversed_str = A_str[::-1]\n",
    "\n",
    "# Convert the reversed string back to an integer\n",
    "A_reversed_int = int(A_reversed_str)\n",
    "\n",
    "# Print the integer formatted to include leading zeros, if necessary\n",
    "# Assuming you want it to have the same number of digits as the original number\n",
    "formatted_output = f\"{A_reversed_int:0{len(A_str)}d}\"\n",
    "print(formatted_output)"
   ]
  },
  {
   "cell_type": "code",
   "execution_count": 2,
   "id": "76471a1b",
   "metadata": {},
   "outputs": [],
   "source": [
    "B=65489"
   ]
  },
  {
   "cell_type": "code",
   "execution_count": 1,
   "id": "fab68a3d",
   "metadata": {},
   "outputs": [],
   "source": [
    " import numpy as np"
   ]
  },
  {
   "cell_type": "code",
   "execution_count": 9,
   "id": "e382d8e3",
   "metadata": {
    "collapsed": true
   },
   "outputs": [
    {
     "ename": "AttributeError",
     "evalue": "'builtin_function_or_method' object has no attribute 'B'",
     "output_type": "error",
     "traceback": [
      "\u001b[1;31m---------------------------------------------------------------------------\u001b[0m",
      "\u001b[1;31mAttributeError\u001b[0m                            Traceback (most recent call last)",
      "Cell \u001b[1;32mIn[9], line 1\u001b[0m\n\u001b[1;32m----> 1\u001b[0m c\u001b[38;5;241m=\u001b[39m\u001b[43mnp\u001b[49m\u001b[38;5;241;43m.\u001b[39;49m\u001b[43marray\u001b[49m\u001b[38;5;241;43m.\u001b[39;49m\u001b[43mB\u001b[49m\n",
      "\u001b[1;31mAttributeError\u001b[0m: 'builtin_function_or_method' object has no attribute 'B'"
     ]
    }
   ],
   "source": [
    "c=np.array.B "
   ]
  },
  {
   "cell_type": "code",
   "execution_count": 11,
   "id": "a8c0b55c",
   "metadata": {},
   "outputs": [],
   "source": [
    " a=np.array(B)"
   ]
  },
  {
   "cell_type": "code",
   "execution_count": 12,
   "id": "eae42961",
   "metadata": {},
   "outputs": [
    {
     "data": {
      "text/plain": [
       "array(65489)"
      ]
     },
     "execution_count": 12,
     "metadata": {},
     "output_type": "execute_result"
    }
   ],
   "source": [
    "a "
   ]
  },
  {
   "cell_type": "code",
   "execution_count": 14,
   "id": "15730a28",
   "metadata": {},
   "outputs": [],
   "source": [
    "D=np.array(A)"
   ]
  },
  {
   "cell_type": "code",
   "execution_count": 31,
   "id": "3d1d76e3",
   "metadata": {},
   "outputs": [
    {
     "name": "stdout",
     "output_type": "stream",
     "text": [
      "<class 'numpy.ndarray'>\n"
     ]
    }
   ],
   "source": [
    "print(type(D))"
   ]
  },
  {
   "cell_type": "code",
   "execution_count": 28,
   "id": "f7adae67",
   "metadata": {},
   "outputs": [
    {
     "ename": "NameError",
     "evalue": "name 'sort' is not defined",
     "output_type": "error",
     "traceback": [
      "\u001b[1;31m---------------------------------------------------------------------------\u001b[0m",
      "\u001b[1;31mNameError\u001b[0m                                 Traceback (most recent call last)",
      "Cell \u001b[1;32mIn[28], line 1\u001b[0m\n\u001b[1;32m----> 1\u001b[0m \u001b[43msort\u001b[49m(B)\n",
      "\u001b[1;31mNameError\u001b[0m: name 'sort' is not defined"
     ]
    }
   ],
   "source": [
    "sort(B)"
   ]
  },
  {
   "cell_type": "code",
   "execution_count": null,
   "id": "24d71c8c",
   "metadata": {},
   "outputs": [],
   "source": []
  },
  {
   "cell_type": "code",
   "execution_count": null,
   "id": "7ee8b92f",
   "metadata": {},
   "outputs": [],
   "source": []
  },
  {
   "cell_type": "code",
   "execution_count": null,
   "id": "fcd309fd",
   "metadata": {},
   "outputs": [],
   "source": []
  },
  {
   "cell_type": "code",
   "execution_count": null,
   "id": "5772e5f9",
   "metadata": {},
   "outputs": [],
   "source": []
  },
  {
   "cell_type": "code",
   "execution_count": 26,
   "id": "6ae64fb3",
   "metadata": {},
   "outputs": [],
   "source": [
    "D=23566\n",
    "D.astype.(float)"
   ]
  },
  {
   "cell_type": "code",
   "execution_count": null,
   "id": "05bd69b5",
   "metadata": {},
   "outputs": [],
   "source": [
    "D = 23566\n",
    "D = float(D)\n",
    "print(D)"
   ]
  },
  {
   "cell_type": "code",
   "execution_count": null,
   "id": "4a20aff1",
   "metadata": {},
   "outputs": [],
   "source": []
  },
  {
   "cell_type": "code",
   "execution_count": 32,
   "id": "5882716c",
   "metadata": {},
   "outputs": [
    {
     "name": "stdout",
     "output_type": "stream",
     "text": [
      "98456\n"
     ]
    }
   ],
   "source": [
    "B = 65489\n",
    "reversed_number = 0\n",
    "\n",
    "while B > 0:\n",
    "    last_digit = B % 10  # Extract the last digit\n",
    "    reversed_number = reversed_number * 10 + last_digit  # Append the last digit\n",
    "    B = B // 10  # Remove the last digit from the original number\n",
    "\n",
    "print(reversed_number)"
   ]
  },
  {
   "cell_type": "code",
   "execution_count": 37,
   "id": "d8a5d4a0",
   "metadata": {},
   "outputs": [
    {
     "name": "stdout",
     "output_type": "stream",
     "text": [
      "98456\n"
     ]
    }
   ],
   "source": [
    "B = 654890\n",
    "reversed_number = 0\n",
    "\n",
    "while B > 0:\n",
    "    last_digit = B % 10  # Extract the last digit\n",
    "    reversed_number = reversed_number * 10 + last_digit  # Append the last digit\n",
    "    B = B // 10  # Remove the last digit from the original number\n",
    "\n",
    "print(reversed_number)"
   ]
  },
  {
   "cell_type": "code",
   "execution_count": 39,
   "id": "641f47e9",
   "metadata": {},
   "outputs": [
    {
     "name": "stdout",
     "output_type": "stream",
     "text": [
      "98456\n",
      "98456\n"
     ]
    }
   ],
   "source": [
    "def reverse_number(num):\n",
    "    reversed_number = 0\n",
    "    while num > 0:\n",
    "        last_digit = num % 10  # Extract the last digit\n",
    "        reversed_number = reversed_number * 10 + last_digit  # Append the last digit\n",
    "        num = num // 10  # Remove the last digit from the original number\n",
    "    return reversed_number\n",
    "\n",
    "# For 065489 (same as 65489)\n",
    "B1 = 65489\n",
    "print(reverse_number(B1))  # Output will be 98456\n",
    "\n",
    "# For 654890\n",
    "B2 = 654890\n",
    "print(reverse_number(B2))  # Output will be 98456\n",
    "\n",
    "B3='095556'"
   ]
  },
  {
   "cell_type": "code",
   "execution_count": 40,
   "id": "84a7046f",
   "metadata": {},
   "outputs": [],
   "source": [
    "Str= str(B2)"
   ]
  },
  {
   "cell_type": "code",
   "execution_count": 41,
   "id": "72d6056b",
   "metadata": {},
   "outputs": [
    {
     "data": {
      "text/plain": [
       "str"
      ]
     },
     "execution_count": 41,
     "metadata": {},
     "output_type": "execute_result"
    }
   ],
   "source": [
    "type(Str)"
   ]
  },
  {
   "cell_type": "code",
   "execution_count": 42,
   "id": "b2e81219",
   "metadata": {},
   "outputs": [
    {
     "data": {
      "text/plain": [
       "'098456'"
      ]
     },
     "execution_count": 42,
     "metadata": {},
     "output_type": "execute_result"
    }
   ],
   "source": [
    "Str[::-1]"
   ]
  },
  {
   "cell_type": "code",
   "execution_count": null,
   "id": "b6cdd327",
   "metadata": {},
   "outputs": [],
   "source": []
  },
  {
   "cell_type": "code",
   "execution_count": null,
   "id": "baf23e85",
   "metadata": {},
   "outputs": [],
   "source": []
  },
  {
   "cell_type": "code",
   "execution_count": null,
   "id": "1a6f948d",
   "metadata": {},
   "outputs": [],
   "source": []
  },
  {
   "cell_type": "code",
   "execution_count": 2,
   "id": "001c653d",
   "metadata": {},
   "outputs": [
    {
     "name": "stdout",
     "output_type": "stream",
     "text": [
      "Even\n",
      "Odd\n"
     ]
    }
   ],
   "source": [
    "def check_even_odd(num):\n",
    "    if num % 2 == 0:\n",
    "        return \"Even\"\n",
    "    else:\n",
    "        return \"Odd\"\n",
    "\n",
    "# Example usage:\n",
    "print(check_even_odd(4))  # Output: Even\n",
    "print(check_even_odd(7))  # Output: Odd"
   ]
  },
  {
   "cell_type": "code",
   "execution_count": 3,
   "id": "e605891e",
   "metadata": {},
   "outputs": [
    {
     "name": "stdout",
     "output_type": "stream",
     "text": [
      "0 is Even\n",
      "1 is Odd\n",
      "2 is Even\n",
      "3 is Odd\n",
      "10 is Even\n",
      "15 is Odd\n",
      "22 is Even\n",
      "33 is Odd\n",
      "100 is Even\n"
     ]
    }
   ],
   "source": [
    "\n",
    "numbers = [0, 1, 2, 3, 10, 15, 22, 33, 100]\n",
    "\n",
    "for number in numbers:\n",
    "    print(f\"{number} is {check_even_odd(number)}\")"
   ]
  },
  {
   "cell_type": "code",
   "execution_count": 49,
   "id": "8c7a749f",
   "metadata": {},
   "outputs": [
    {
     "name": "stdout",
     "output_type": "stream",
     "text": [
      "3.0\n"
     ]
    }
   ],
   "source": [
    "def calculate_mean(lst):\n",
    "    if not lst:\n",
    "        return 0\n",
    "    return sum(lst) / len(lst)\n",
    "\n",
    "# Example usage:\n",
    "print(calculate_mean([1, 2, 3, 4, 5]))  # Output: 3.0"
   ]
  },
  {
   "cell_type": "code",
   "execution_count": 50,
   "id": "0a15060c",
   "metadata": {},
   "outputs": [
    {
     "name": "stdout",
     "output_type": "stream",
     "text": [
      "True\n",
      "False\n"
     ]
    }
   ],
   "source": [
    "def is_prime(n):\n",
    "    if n <= 1:\n",
    "        return False\n",
    "    for i in range(2, int(n**0.5) + 1):\n",
    "        if n % i == 0:\n",
    "            return False\n",
    "    return True\n",
    "\n",
    "# Example usage:\n",
    "print(is_prime(29))  # Output: True\n",
    "print(is_prime(15))  # Output: False"
   ]
  },
  {
   "cell_type": "code",
   "execution_count": 51,
   "id": "407b3edd",
   "metadata": {},
   "outputs": [
    {
     "name": "stdout",
     "output_type": "stream",
     "text": [
      "ecneicSataD\n"
     ]
    }
   ],
   "source": [
    "def reverse_string(s):\n",
    "    return s[::-1]\n",
    "\n",
    "# Example usage:\n",
    "print(reverse_string(\"DataScience\"))  # Output: ecneicSataD"
   ]
  },
  {
   "cell_type": "code",
   "execution_count": 53,
   "id": "5326b4ac",
   "metadata": {},
   "outputs": [
    {
     "name": "stdout",
     "output_type": "stream",
     "text": [
      "645655515\n"
     ]
    }
   ],
   "source": [
    "print(reverse_string('515556546'))"
   ]
  },
  {
   "cell_type": "markdown",
   "id": "00ca5565",
   "metadata": {},
   "source": [
    "# --------------------------------------------"
   ]
  },
  {
   "cell_type": "code",
   "execution_count": 72,
   "id": "72624f6c",
   "metadata": {},
   "outputs": [
    {
     "data": {
      "text/plain": [
       "[1, 2, 3, 4, 5, 5, 6, 7, 8, 9, 10, 11, 12]"
      ]
     },
     "execution_count": 72,
     "metadata": {},
     "output_type": "execute_result"
    }
   ],
   "source": []
  },
  {
   "cell_type": "code",
   "execution_count": 75,
   "id": "e97804e8",
   "metadata": {},
   "outputs": [],
   "source": [
    "B='4,5,4,8,8,51.5.1,56'"
   ]
  },
  {
   "cell_type": "code",
   "execution_count": 76,
   "id": "97bfe395",
   "metadata": {},
   "outputs": [],
   "source": [
    "M=list[B]"
   ]
  },
  {
   "cell_type": "code",
   "execution_count": 79,
   "id": "fd9b24c3",
   "metadata": {},
   "outputs": [
    {
     "ename": "AttributeError",
     "evalue": "type object 'list' has no attribute 'sorted'",
     "output_type": "error",
     "traceback": [
      "\u001b[1;31m---------------------------------------------------------------------------\u001b[0m",
      "\u001b[1;31mAttributeError\u001b[0m                            Traceback (most recent call last)",
      "Cell \u001b[1;32mIn[79], line 1\u001b[0m\n\u001b[1;32m----> 1\u001b[0m \u001b[43mM\u001b[49m\u001b[38;5;241;43m.\u001b[39;49m\u001b[43msorted\u001b[49m()\n",
      "\u001b[1;31mAttributeError\u001b[0m: type object 'list' has no attribute 'sorted'"
     ]
    }
   ],
   "source": [
    "M.sorted()"
   ]
  },
  {
   "cell_type": "code",
   "execution_count": 81,
   "id": "a5e14bba",
   "metadata": {},
   "outputs": [
    {
     "data": {
      "text/plain": [
       "str"
      ]
     },
     "execution_count": 81,
     "metadata": {},
     "output_type": "execute_result"
    }
   ],
   "source": [
    "type(B)"
   ]
  },
  {
   "cell_type": "code",
   "execution_count": null,
   "id": "265bef1d",
   "metadata": {},
   "outputs": [],
   "source": []
  },
  {
   "cell_type": "code",
   "execution_count": null,
   "id": "7145f59c",
   "metadata": {},
   "outputs": [],
   "source": []
  },
  {
   "cell_type": "code",
   "execution_count": null,
   "id": "13ef9eaf",
   "metadata": {},
   "outputs": [],
   "source": []
  },
  {
   "cell_type": "code",
   "execution_count": null,
   "id": "8e38c420",
   "metadata": {},
   "outputs": [],
   "source": []
  },
  {
   "cell_type": "code",
   "execution_count": null,
   "id": "615ce823",
   "metadata": {},
   "outputs": [],
   "source": []
  },
  {
   "cell_type": "code",
   "execution_count": null,
   "id": "d0e0f340",
   "metadata": {},
   "outputs": [],
   "source": []
  },
  {
   "cell_type": "code",
   "execution_count": 14,
   "id": "9f6e82a4",
   "metadata": {},
   "outputs": [
    {
     "name": "stdout",
     "output_type": "stream",
     "text": [
      "Enter Number22\n",
      "22This is even No.\n",
      "Enter value44\n"
     ]
    },
    {
     "ename": "KeyError",
     "evalue": "' '",
     "output_type": "error",
     "traceback": [
      "\u001b[1;31m---------------------------------------------------------------------------\u001b[0m",
      "\u001b[1;31mKeyError\u001b[0m                                  Traceback (most recent call last)",
      "Cell \u001b[1;32mIn[14], line 16\u001b[0m\n\u001b[0;32m     13\u001b[0m data\u001b[38;5;241m=\u001b[39m\u001b[38;5;28mint\u001b[39m(\u001b[38;5;28minput\u001b[39m(\u001b[38;5;124m\"\u001b[39m\u001b[38;5;124mEnter value\u001b[39m\u001b[38;5;124m\"\u001b[39m))\n\u001b[0;32m     15\u001b[0m \u001b[38;5;28;01mif\u001b[39;00m (data\u001b[38;5;241m%\u001b[39m\u001b[38;5;241m2\u001b[39m)\u001b[38;5;241m==\u001b[39m\u001b[38;5;241m0\u001b[39m:\n\u001b[1;32m---> 16\u001b[0m     \u001b[38;5;28mprint\u001b[39m(\u001b[38;5;124;43m\"\u001b[39;49m\u001b[38;5;124;43m{\u001b[39;49m\u001b[38;5;124;43m } is even number\u001b[39;49m\u001b[38;5;124;43m\"\u001b[39;49m\u001b[38;5;241;43m.\u001b[39;49m\u001b[43mformat\u001b[49m\u001b[43m(\u001b[49m\u001b[43mdata\u001b[49m\u001b[43m)\u001b[49m)\n\u001b[0;32m     18\u001b[0m \u001b[38;5;28;01melse\u001b[39;00m:\n\u001b[0;32m     19\u001b[0m     \u001b[38;5;28mprint\u001b[39m(\u001b[38;5;124m\"\u001b[39m\u001b[38;5;124m{\u001b[39m\u001b[38;5;124m } is odd number\u001b[39m\u001b[38;5;124m\"\u001b[39m\u001b[38;5;241m.\u001b[39mformat(data))\n",
      "\u001b[1;31mKeyError\u001b[0m: ' '"
     ]
    }
   ],
   "source": [
    "data= int(input(\"Enter Number\"))\n",
    "if (mj%2) == 0:\n",
    "    print(f\"{data}This is even No.\")\n",
    "    \n",
    "else:\n",
    "    print(f\"{data} this is odd no\")\n",
    "    \n",
    "    \n",
    "    \n",
    "    \n",
    "    \n",
    "# Even Odd\n",
    "data=int(input(\"Enter value\"))\n",
    "\n",
    "if (data%2)==0:\n",
    "    print(\" { } is even number\".format(data))\n",
    "    \n",
    "else:\n",
    "    print(\"{ } is odd number\".format(data))"
   ]
  },
  {
   "cell_type": "code",
   "execution_count": 21,
   "id": "e7c6898b",
   "metadata": {},
   "outputs": [
    {
     "name": "stdout",
     "output_type": "stream",
     "text": [
      "Enter Number: 5\n",
      "5 is an odd number.\n"
     ]
    }
   ],
   "source": [
    "mj = int(input(\"Enter Number: \"))\n",
    "\n",
    "if (mj % 2) == 0:\n",
    "    print(f\"{mj} is an even number.\")\n",
    "else:\n",
    "    print(f\"{mj} is an odd number.\")"
   ]
  },
  {
   "cell_type": "code",
   "execution_count": 22,
   "id": "5ef523a5",
   "metadata": {},
   "outputs": [
    {
     "name": "stdout",
     "output_type": "stream",
     "text": [
      "Enter value: 5\n",
      "5 is an odd number\n"
     ]
    }
   ],
   "source": [
    "data = int(input(\"Enter value: \"))\n",
    "\n",
    "if (data % 2) == 0:\n",
    "    print(\"{} is an even number\".format(data))\n",
    "else:\n",
    "    print(\"{} is an odd number\".format(data))"
   ]
  },
  {
   "cell_type": "code",
   "execution_count": 26,
   "id": "375a41ea",
   "metadata": {},
   "outputs": [
    {
     "name": "stdout",
     "output_type": "stream",
     "text": [
      "Enter value5\n",
      "5 is odd number\n"
     ]
    }
   ],
   "source": [
    "# Even Odd\n",
    "data=int(input(\"Enter value\"))\n",
    "\n",
    "if (data%2)==0:\n",
    "    print(\"{ } is even number\".format(data))\n",
    "    \n",
    "else:\n",
    "    print(\"{} is odd number\".format(data))"
   ]
  },
  {
   "cell_type": "code",
   "execution_count": 28,
   "id": "2baeb3e3",
   "metadata": {},
   "outputs": [
    {
     "name": "stdout",
     "output_type": "stream",
     "text": [
      "Enter value: 5\n",
      "5 is the odd no\n"
     ]
    }
   ],
   "source": [
    "data = int(input(\"Enter value: \"))\n",
    "\n",
    "if (data % 2) == 0:\n",
    "    print(data,\"is the even no\")\n",
    "else:\n",
    "    print(data,\"is the odd no\")"
   ]
  },
  {
   "cell_type": "code",
   "execution_count": null,
   "id": "2a32f2e1",
   "metadata": {},
   "outputs": [],
   "source": [
    "\n"
   ]
  },
  {
   "cell_type": "code",
   "execution_count": 34,
   "id": "02d2ead1",
   "metadata": {},
   "outputs": [
    {
     "name": "stdout",
     "output_type": "stream",
     "text": [
      " Enter200\n",
      "200 is unit and the bill is 1500\n"
     ]
    }
   ],
   "source": [
    "B=int(input(\" Enter\"))\n",
    "\n",
    "if B<=100:\n",
    "    Hun=B*5\n",
    "elif B>=100:\n",
    "    Hun=B*10-(100*5)\n",
    "    \n",
    "else:\n",
    "    B\n",
    "    \n",
    "print(f\"{B} is unit and the bill is {Hun}\")"
   ]
  },
  {
   "cell_type": "code",
   "execution_count": 35,
   "id": "ae3cbd2b",
   "metadata": {},
   "outputs": [
    {
     "name": "stdout",
     "output_type": "stream",
     "text": [
      "Enter the number of units: 25\n",
      "25 units and the bill is 125\n",
      "Enter the number of units: 100\n",
      "100 units and the bill is 500\n",
      "Enter the number of units: 250\n",
      "250 units and the bill is 2000\n",
      "Loop ended.\n"
     ]
    }
   ],
   "source": [
    "# Initialize a counter to track the number of times the loop runs\n",
    "counter = 0\n",
    "\n",
    "while counter < 3:  # Loop will run three times\n",
    "    # Input prompt for user to enter the units\n",
    "    B = int(input(\"Enter the number of units: \"))\n",
    "    \n",
    "    # Initialize variable to store the calculated bill\n",
    "    Hun = 0\n",
    "    \n",
    "    if B <= 100:\n",
    "        Hun = B * 5\n",
    "    elif B > 100:\n",
    "        Hun = 100 * 5 + (B - 100) * 10\n",
    "    \n",
    "    # Print the result for the current input\n",
    "    print(f\"{B} units and the bill is {Hun}\")\n",
    "    \n",
    "    # Increment the counter\n",
    "    counter += 1\n",
    "\n",
    "# End of loop message\n",
    "print(\"Loop ended.\")"
   ]
  },
  {
   "cell_type": "code",
   "execution_count": null,
   "id": "3dda9c72",
   "metadata": {},
   "outputs": [],
   "source": []
  },
  {
   "cell_type": "code",
   "execution_count": null,
   "id": "16f10bd4",
   "metadata": {},
   "outputs": [],
   "source": []
  },
  {
   "cell_type": "code",
   "execution_count": null,
   "id": "f0308f75",
   "metadata": {},
   "outputs": [],
   "source": []
  },
  {
   "cell_type": "code",
   "execution_count": null,
   "id": "164ab631",
   "metadata": {},
   "outputs": [],
   "source": []
  },
  {
   "cell_type": "code",
   "execution_count": null,
   "id": "1d986380",
   "metadata": {},
   "outputs": [],
   "source": []
  },
  {
   "cell_type": "code",
   "execution_count": null,
   "id": "5d1737f2",
   "metadata": {},
   "outputs": [],
   "source": []
  },
  {
   "cell_type": "code",
   "execution_count": null,
   "id": "05ad69f3",
   "metadata": {},
   "outputs": [],
   "source": []
  }
 ],
 "metadata": {
  "kernelspec": {
   "display_name": "Python 3 (ipykernel)",
   "language": "python",
   "name": "python3"
  },
  "language_info": {
   "codemirror_mode": {
    "name": "ipython",
    "version": 3
   },
   "file_extension": ".py",
   "mimetype": "text/x-python",
   "name": "python",
   "nbconvert_exporter": "python",
   "pygments_lexer": "ipython3",
   "version": "3.10.9"
  }
 },
 "nbformat": 4,
 "nbformat_minor": 5
}
