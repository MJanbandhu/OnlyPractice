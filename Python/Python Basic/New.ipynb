{
 "cells": [
  {
   "cell_type": "code",
   "execution_count": 1,
   "id": "032a0fce",
   "metadata": {},
   "outputs": [],
   "source": [
    "list1=[6,9,8,5,8,5,2,8,(8,8,9,6,5,4,7,2)]"
   ]
  },
  {
   "cell_type": "code",
   "execution_count": 2,
   "id": "79004939",
   "metadata": {},
   "outputs": [
    {
     "data": {
      "text/plain": [
       "list"
      ]
     },
     "execution_count": 2,
     "metadata": {},
     "output_type": "execute_result"
    }
   ],
   "source": [
    "type(list1)"
   ]
  },
  {
   "cell_type": "code",
   "execution_count": 9,
   "id": "7c9d2bbc",
   "metadata": {},
   "outputs": [
    {
     "data": {
      "text/plain": [
       "(8, 8, 9, 6, 5, 4, 7, 2)"
      ]
     },
     "execution_count": 9,
     "metadata": {},
     "output_type": "execute_result"
    }
   ],
   "source": [
    "list1[8]"
   ]
  },
  {
   "cell_type": "code",
   "execution_count": 10,
   "id": "2eae0d5c",
   "metadata": {},
   "outputs": [
    {
     "data": {
      "text/plain": [
       "(8, 8, 9, 6, 5, 4, 7, 2)"
      ]
     },
     "execution_count": 10,
     "metadata": {},
     "output_type": "execute_result"
    }
   ],
   "source": [
    "list1[8]"
   ]
  },
  {
   "cell_type": "code",
   "execution_count": 11,
   "id": "69ccd32e",
   "metadata": {},
   "outputs": [
    {
     "data": {
      "text/plain": [
       "4"
      ]
     },
     "execution_count": 11,
     "metadata": {},
     "output_type": "execute_result"
    }
   ],
   "source": [
    "list1[8][5]"
   ]
  },
  {
   "cell_type": "code",
   "execution_count": 12,
   "id": "e99cf090",
   "metadata": {},
   "outputs": [],
   "source": [
    "list1=[6,9,8,5,8,5,2,8,9]"
   ]
  },
  {
   "cell_type": "code",
   "execution_count": 13,
   "id": "4e01fccd",
   "metadata": {},
   "outputs": [
    {
     "name": "stdout",
     "output_type": "stream",
     "text": [
      "Even\n",
      "Odd\n",
      "Even\n",
      "Odd\n",
      "Even\n",
      "Odd\n",
      "Even\n",
      "Even\n",
      "Odd\n"
     ]
    }
   ],
   "source": [
    "for i in list1:\n",
    "    if i% 2==0:\n",
    "        print(\"Even\")\n",
    "    else:\n",
    "        print(\"Odd\")"
   ]
  },
  {
   "cell_type": "code",
   "execution_count": 14,
   "id": "c181b5a4",
   "metadata": {},
   "outputs": [],
   "source": [
    "lam_fun= map(lambda x: \"eve\"if x%2==0 else \"odd\",list1)"
   ]
  },
  {
   "cell_type": "code",
   "execution_count": 15,
   "id": "e7bbb1ce",
   "metadata": {},
   "outputs": [
    {
     "data": {
      "text/plain": [
       "['eve', 'odd', 'eve', 'odd', 'eve', 'odd', 'eve', 'eve', 'odd']"
      ]
     },
     "execution_count": 15,
     "metadata": {},
     "output_type": "execute_result"
    }
   ],
   "source": [
    "list(lam_fun)"
   ]
  },
  {
   "cell_type": "code",
   "execution_count": 17,
   "id": "163e7dcb",
   "metadata": {},
   "outputs": [
    {
     "ename": "SyntaxError",
     "evalue": "invalid syntax (4098161978.py, line 1)",
     "output_type": "error",
     "traceback": [
      "\u001b[1;36m  Cell \u001b[1;32mIn[17], line 1\u001b[1;36m\u001b[0m\n\u001b[1;33m    def list1 in num:\u001b[0m\n\u001b[1;37m              ^\u001b[0m\n\u001b[1;31mSyntaxError\u001b[0m\u001b[1;31m:\u001b[0m invalid syntax\n"
     ]
    }
   ],
   "source": [
    "def list1 in num:"
   ]
  },
  {
   "cell_type": "code",
   "execution_count": 20,
   "id": "5c8a8af3",
   "metadata": {},
   "outputs": [],
   "source": [
    "def ev_odd(num):\n",
    "    if num %2==0:\n",
    "        print(\"Even\")\n",
    "        \n",
    "    else:\n",
    "        print(\"Odd\")"
   ]
  },
  {
   "cell_type": "code",
   "execution_count": 21,
   "id": "48d17e79",
   "metadata": {},
   "outputs": [
    {
     "ename": "TypeError",
     "evalue": "unsupported operand type(s) for %: 'list' and 'int'",
     "output_type": "error",
     "traceback": [
      "\u001b[1;31m---------------------------------------------------------------------------\u001b[0m",
      "\u001b[1;31mTypeError\u001b[0m                                 Traceback (most recent call last)",
      "Cell \u001b[1;32mIn[21], line 1\u001b[0m\n\u001b[1;32m----> 1\u001b[0m \u001b[43mev_odd\u001b[49m\u001b[43m(\u001b[49m\u001b[43mlist1\u001b[49m\u001b[43m)\u001b[49m\n",
      "Cell \u001b[1;32mIn[20], line 2\u001b[0m, in \u001b[0;36mev_odd\u001b[1;34m(num)\u001b[0m\n\u001b[0;32m      1\u001b[0m \u001b[38;5;28;01mdef\u001b[39;00m \u001b[38;5;21mev_odd\u001b[39m(num):\n\u001b[1;32m----> 2\u001b[0m     \u001b[38;5;28;01mif\u001b[39;00m \u001b[43mnum\u001b[49m\u001b[43m \u001b[49m\u001b[38;5;241;43m%\u001b[39;49m\u001b[38;5;241;43m2\u001b[39;49m\u001b[38;5;241m==\u001b[39m\u001b[38;5;241m0\u001b[39m:\n\u001b[0;32m      3\u001b[0m         \u001b[38;5;28mprint\u001b[39m(\u001b[38;5;124m\"\u001b[39m\u001b[38;5;124mEven\u001b[39m\u001b[38;5;124m\"\u001b[39m)\n\u001b[0;32m      5\u001b[0m     \u001b[38;5;28;01melse\u001b[39;00m:\n",
      "\u001b[1;31mTypeError\u001b[0m: unsupported operand type(s) for %: 'list' and 'int'"
     ]
    }
   ],
   "source": [
    "ev_odd(list1)"
   ]
  },
  {
   "cell_type": "code",
   "execution_count": 26,
   "id": "df9bc4d0",
   "metadata": {},
   "outputs": [],
   "source": [
    "def ev_odd(num):\n",
    "    for num in list1:\n",
    "        if num %2==0:\n",
    "            print(\"Even\")\n",
    "        \n",
    "        else:\n",
    "            print(\"Odd\")"
   ]
  },
  {
   "cell_type": "code",
   "execution_count": 27,
   "id": "aea2805f",
   "metadata": {},
   "outputs": [
    {
     "name": "stdout",
     "output_type": "stream",
     "text": [
      "Even\n",
      "Odd\n",
      "Even\n",
      "Odd\n",
      "Even\n",
      "Odd\n",
      "Even\n",
      "Even\n",
      "Odd\n",
      "None\n"
     ]
    }
   ],
   "source": [
    "print(ev_odd(list1))"
   ]
  },
  {
   "cell_type": "code",
   "execution_count": 31,
   "id": "be502c2c",
   "metadata": {},
   "outputs": [],
   "source": [
    "ev_odd= map(lambda x: \"even\"if x%2==0 else \"odd\", list1)"
   ]
  },
  {
   "cell_type": "code",
   "execution_count": 32,
   "id": "d2d62608",
   "metadata": {},
   "outputs": [
    {
     "data": {
      "text/plain": [
       "['even', 'odd', 'even', 'odd', 'even', 'odd', 'even', 'even', 'odd']"
      ]
     },
     "execution_count": 32,
     "metadata": {},
     "output_type": "execute_result"
    }
   ],
   "source": [
    "list(ev_odd)"
   ]
  },
  {
   "cell_type": "markdown",
   "id": "23e37243",
   "metadata": {},
   "source": [
    "# "
   ]
  },
  {
   "cell_type": "code",
   "execution_count": 33,
   "id": "b0e86267",
   "metadata": {},
   "outputs": [
    {
     "data": {
      "text/plain": [
       "[6, 9, 8, 5, 8, 5, 2, 8, 9]"
      ]
     },
     "execution_count": 33,
     "metadata": {},
     "output_type": "execute_result"
    }
   ],
   "source": [
    "\n",
    "list1"
   ]
  },
  {
   "cell_type": "code",
   "execution_count": 35,
   "id": "5ee7b6e7",
   "metadata": {},
   "outputs": [],
   "source": [
    "list1.append(10)"
   ]
  },
  {
   "cell_type": "code",
   "execution_count": 36,
   "id": "044fc5d5",
   "metadata": {},
   "outputs": [
    {
     "data": {
      "text/plain": [
       "[6, 9, 8, 5, 8, 5, 2, 8, 9, 10]"
      ]
     },
     "execution_count": 36,
     "metadata": {},
     "output_type": "execute_result"
    }
   ],
   "source": [
    "list1"
   ]
  },
  {
   "cell_type": "code",
   "execution_count": 40,
   "id": "dec49342",
   "metadata": {},
   "outputs": [],
   "source": [
    "list1.insert(5,9)"
   ]
  },
  {
   "cell_type": "code",
   "execution_count": 41,
   "id": "57118011",
   "metadata": {},
   "outputs": [
    {
     "data": {
      "text/plain": [
       "[6, 9, 8, 5, 8, 9, 5, 2, 8, 9, 10, 9]"
      ]
     },
     "execution_count": 41,
     "metadata": {},
     "output_type": "execute_result"
    }
   ],
   "source": [
    "list1"
   ]
  },
  {
   "cell_type": "code",
   "execution_count": 42,
   "id": "4517438d",
   "metadata": {},
   "outputs": [],
   "source": [
    "list1.sort()"
   ]
  },
  {
   "cell_type": "code",
   "execution_count": 43,
   "id": "3052a03a",
   "metadata": {},
   "outputs": [
    {
     "data": {
      "text/plain": [
       "[2, 5, 5, 6, 8, 8, 8, 9, 9, 9, 9, 10]"
      ]
     },
     "execution_count": 43,
     "metadata": {},
     "output_type": "execute_result"
    }
   ],
   "source": [
    "\n",
    "list1"
   ]
  },
  {
   "cell_type": "code",
   "execution_count": null,
   "id": "c2d571af",
   "metadata": {},
   "outputs": [],
   "source": []
  }
 ],
 "metadata": {
  "kernelspec": {
   "display_name": "Python 3 (ipykernel)",
   "language": "python",
   "name": "python3"
  },
  "language_info": {
   "codemirror_mode": {
    "name": "ipython",
    "version": 3
   },
   "file_extension": ".py",
   "mimetype": "text/x-python",
   "name": "python",
   "nbconvert_exporter": "python",
   "pygments_lexer": "ipython3",
   "version": "3.10.9"
  }
 },
 "nbformat": 4,
 "nbformat_minor": 5
}
