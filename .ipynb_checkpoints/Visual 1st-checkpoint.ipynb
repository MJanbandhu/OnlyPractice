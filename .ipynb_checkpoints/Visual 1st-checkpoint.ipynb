{
 "cells": [
  {
   "cell_type": "markdown",
   "id": "805867f2",
   "metadata": {},
   "source": [
    "# For Data Analytics Too"
   ]
  },
  {
   "cell_type": "code",
   "execution_count": 3,
   "id": "3315c2b4",
   "metadata": {},
   "outputs": [
    {
     "name": "stdout",
     "output_type": "stream",
     "text": [
      "Mohit Janbandhu\n"
     ]
    }
   ],
   "source": [
    "print(\"Mohit Janbandhu\")"
   ]
  },
  {
   "cell_type": "code",
   "execution_count": null,
   "id": "a4460350",
   "metadata": {},
   "outputs": [],
   "source": []
  }
 ],
 "metadata": {
  "kernelspec": {
   "display_name": "Python 3 (ipykernel)",
   "language": "python",
   "name": "python3"
  },
  "language_info": {
   "codemirror_mode": {
    "name": "ipython",
    "version": 3
   },
   "file_extension": ".py",
   "mimetype": "text/x-python",
   "name": "python",
   "nbconvert_exporter": "python",
   "pygments_lexer": "ipython3",
   "version": "3.10.9"
  }
 },
 "nbformat": 4,
 "nbformat_minor": 5
}
